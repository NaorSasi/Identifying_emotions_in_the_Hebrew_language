{
 "cells": [
  {
   "cell_type": "code",
   "execution_count": 76,
   "metadata": {},
   "outputs": [],
   "source": [
    "#kernel crashes when matplotlib is used\n",
    "#conda install freetype=2.10.4\n",
    "#conda install nomkl"
   ]
  },
  {
   "cell_type": "code",
   "execution_count": 77,
   "metadata": {},
   "outputs": [],
   "source": [
    "#conda uninstall tokenizers, transformers"
   ]
  },
  {
   "cell_type": "code",
   "execution_count": 1,
   "metadata": {
    "id": "QxWmu7_Jsgfy"
   },
   "outputs": [
    {
     "name": "stdout",
     "output_type": "stream",
     "text": [
      "Collecting transformers==2.5.1\n",
      "  Downloading transformers-2.5.1-py3-none-any.whl (499 kB)\n",
      "     ---------------------------------------- 0.0/499.4 kB ? eta -:--:--\n",
      "     -- ------------------------------------ 30.7/499.4 kB 1.3 MB/s eta 0:00:01\n",
      "     -------- ----------------------------- 112.6/499.4 kB 1.3 MB/s eta 0:00:01\n",
      "     ----------------- -------------------- 225.3/499.4 kB 1.7 MB/s eta 0:00:01\n",
      "     ------------------------- ------------ 337.9/499.4 kB 1.9 MB/s eta 0:00:01\n",
      "     ----------------------------------- -- 471.0/499.4 kB 2.1 MB/s eta 0:00:01\n",
      "     -------------------------------------- 499.4/499.4 kB 1.8 MB/s eta 0:00:00\n",
      "Requirement already satisfied: filelock in c:\\users\\naors\\anaconda3\\envs\\tf-gpu-cuda8\\lib\\site-packages (from transformers==2.5.1) (3.12.0)\n",
      "Collecting tokenizers==0.5.2\n",
      "  Downloading tokenizers-0.5.2.tar.gz (64 kB)\n",
      "     ---------------------------------------- 0.0/64.6 kB ? eta -:--:--\n",
      "     ---------------------------------------- 64.6/64.6 kB 1.7 MB/s eta 0:00:00\n",
      "  Installing build dependencies: started\n",
      "  Installing build dependencies: finished with status 'done'\n",
      "  Getting requirements to build wheel: started\n",
      "  Getting requirements to build wheel: finished with status 'done'\n",
      "  Preparing metadata (pyproject.toml): started\n",
      "  Preparing metadata (pyproject.toml): finished with status 'done'\n",
      "Requirement already satisfied: boto3 in c:\\users\\naors\\anaconda3\\envs\\tf-gpu-cuda8\\lib\\site-packages (from transformers==2.5.1) (1.26.127)\n",
      "Requirement already satisfied: regex!=2019.12.17 in c:\\users\\naors\\anaconda3\\envs\\tf-gpu-cuda8\\lib\\site-packages (from transformers==2.5.1) (2023.3.23)\n",
      "Requirement already satisfied: sentencepiece in c:\\users\\naors\\anaconda3\\envs\\tf-gpu-cuda8\\lib\\site-packages (from transformers==2.5.1) (0.1.99)\n",
      "Requirement already satisfied: requests in c:\\users\\naors\\anaconda3\\envs\\tf-gpu-cuda8\\lib\\site-packages (from transformers==2.5.1) (2.29.0)\n",
      "Requirement already satisfied: sacremoses in c:\\users\\naors\\anaconda3\\envs\\tf-gpu-cuda8\\lib\\site-packages (from transformers==2.5.1) (0.0.53)\n",
      "Requirement already satisfied: numpy in c:\\users\\naors\\anaconda3\\envs\\tf-gpu-cuda8\\lib\\site-packages (from transformers==2.5.1) (1.24.3)\n",
      "Requirement already satisfied: tqdm>=4.27 in c:\\users\\naors\\anaconda3\\envs\\tf-gpu-cuda8\\lib\\site-packages (from transformers==2.5.1) (4.65.0)\n",
      "Requirement already satisfied: colorama in c:\\users\\naors\\anaconda3\\envs\\tf-gpu-cuda8\\lib\\site-packages (from tqdm>=4.27->transformers==2.5.1) (0.4.6)\n",
      "Requirement already satisfied: botocore<1.30.0,>=1.29.127 in c:\\users\\naors\\anaconda3\\envs\\tf-gpu-cuda8\\lib\\site-packages (from boto3->transformers==2.5.1) (1.29.127)\n",
      "Requirement already satisfied: jmespath<2.0.0,>=0.7.1 in c:\\users\\naors\\anaconda3\\envs\\tf-gpu-cuda8\\lib\\site-packages (from boto3->transformers==2.5.1) (1.0.1)\n",
      "Requirement already satisfied: s3transfer<0.7.0,>=0.6.0 in c:\\users\\naors\\anaconda3\\envs\\tf-gpu-cuda8\\lib\\site-packages (from boto3->transformers==2.5.1) (0.6.1)\n",
      "Requirement already satisfied: certifi>=2017.4.17 in c:\\users\\naors\\anaconda3\\envs\\tf-gpu-cuda8\\lib\\site-packages (from requests->transformers==2.5.1) (2022.12.7)\n",
      "Requirement already satisfied: urllib3<1.27,>=1.21.1 in c:\\users\\naors\\anaconda3\\envs\\tf-gpu-cuda8\\lib\\site-packages (from requests->transformers==2.5.1) (1.26.15)\n",
      "Requirement already satisfied: idna<4,>=2.5 in c:\\users\\naors\\anaconda3\\envs\\tf-gpu-cuda8\\lib\\site-packages (from requests->transformers==2.5.1) (3.4)\n",
      "Requirement already satisfied: charset-normalizer<4,>=2 in c:\\users\\naors\\anaconda3\\envs\\tf-gpu-cuda8\\lib\\site-packages (from requests->transformers==2.5.1) (2.0.4)\n",
      "Requirement already satisfied: click in c:\\users\\naors\\anaconda3\\envs\\tf-gpu-cuda8\\lib\\site-packages (from sacremoses->transformers==2.5.1) (8.0.4)\n",
      "Requirement already satisfied: six in c:\\users\\naors\\anaconda3\\envs\\tf-gpu-cuda8\\lib\\site-packages (from sacremoses->transformers==2.5.1) (1.16.0)\n",
      "Requirement already satisfied: joblib in c:\\users\\naors\\anaconda3\\envs\\tf-gpu-cuda8\\lib\\site-packages (from sacremoses->transformers==2.5.1) (1.2.0)\n",
      "Requirement already satisfied: python-dateutil<3.0.0,>=2.1 in c:\\users\\naors\\anaconda3\\envs\\tf-gpu-cuda8\\lib\\site-packages (from botocore<1.30.0,>=1.29.127->boto3->transformers==2.5.1) (2.8.2)\n",
      "Building wheels for collected packages: tokenizers\n",
      "  Building wheel for tokenizers (pyproject.toml): started\n",
      "  Building wheel for tokenizers (pyproject.toml): finished with status 'error'\n",
      "Failed to build tokenizers\n"
     ]
    },
    {
     "name": "stderr",
     "output_type": "stream",
     "text": [
      "  error: subprocess-exited-with-error\n",
      "  \n",
      "  Building wheel for tokenizers (pyproject.toml) did not run successfully.\n",
      "  exit code: 1\n",
      "  \n",
      "  [46 lines of output]\n",
      "  running bdist_wheel\n",
      "  running build\n",
      "  running build_py\n",
      "  creating build\n",
      "  creating build\\lib.win-amd64-cpython-39\n",
      "  creating build\\lib.win-amd64-cpython-39\\tokenizers\n",
      "  copying tokenizers\\__init__.py -> build\\lib.win-amd64-cpython-39\\tokenizers\n",
      "  creating build\\lib.win-amd64-cpython-39\\tokenizers\\models\n",
      "  copying tokenizers\\models\\__init__.py -> build\\lib.win-amd64-cpython-39\\tokenizers\\models\n",
      "  creating build\\lib.win-amd64-cpython-39\\tokenizers\\decoders\n",
      "  copying tokenizers\\decoders\\__init__.py -> build\\lib.win-amd64-cpython-39\\tokenizers\\decoders\n",
      "  creating build\\lib.win-amd64-cpython-39\\tokenizers\\normalizers\n",
      "  copying tokenizers\\normalizers\\__init__.py -> build\\lib.win-amd64-cpython-39\\tokenizers\\normalizers\n",
      "  creating build\\lib.win-amd64-cpython-39\\tokenizers\\pre_tokenizers\n",
      "  copying tokenizers\\pre_tokenizers\\__init__.py -> build\\lib.win-amd64-cpython-39\\tokenizers\\pre_tokenizers\n",
      "  creating build\\lib.win-amd64-cpython-39\\tokenizers\\processors\n",
      "  copying tokenizers\\processors\\__init__.py -> build\\lib.win-amd64-cpython-39\\tokenizers\\processors\n",
      "  creating build\\lib.win-amd64-cpython-39\\tokenizers\\trainers\n",
      "  copying tokenizers\\trainers\\__init__.py -> build\\lib.win-amd64-cpython-39\\tokenizers\\trainers\n",
      "  creating build\\lib.win-amd64-cpython-39\\tokenizers\\implementations\n",
      "  copying tokenizers\\implementations\\base_tokenizer.py -> build\\lib.win-amd64-cpython-39\\tokenizers\\implementations\n",
      "  copying tokenizers\\implementations\\bert_wordpiece.py -> build\\lib.win-amd64-cpython-39\\tokenizers\\implementations\n",
      "  copying tokenizers\\implementations\\byte_level_bpe.py -> build\\lib.win-amd64-cpython-39\\tokenizers\\implementations\n",
      "  copying tokenizers\\implementations\\char_level_bpe.py -> build\\lib.win-amd64-cpython-39\\tokenizers\\implementations\n",
      "  copying tokenizers\\implementations\\sentencepiece_bpe.py -> build\\lib.win-amd64-cpython-39\\tokenizers\\implementations\n",
      "  copying tokenizers\\implementations\\__init__.py -> build\\lib.win-amd64-cpython-39\\tokenizers\\implementations\n",
      "  copying tokenizers\\__init__.pyi -> build\\lib.win-amd64-cpython-39\\tokenizers\n",
      "  copying tokenizers\\models\\__init__.pyi -> build\\lib.win-amd64-cpython-39\\tokenizers\\models\n",
      "  copying tokenizers\\decoders\\__init__.pyi -> build\\lib.win-amd64-cpython-39\\tokenizers\\decoders\n",
      "  copying tokenizers\\normalizers\\__init__.pyi -> build\\lib.win-amd64-cpython-39\\tokenizers\\normalizers\n",
      "  copying tokenizers\\pre_tokenizers\\__init__.pyi -> build\\lib.win-amd64-cpython-39\\tokenizers\\pre_tokenizers\n",
      "  copying tokenizers\\processors\\__init__.pyi -> build\\lib.win-amd64-cpython-39\\tokenizers\\processors\n",
      "  copying tokenizers\\trainers\\__init__.pyi -> build\\lib.win-amd64-cpython-39\\tokenizers\\trainers\n",
      "  running build_ext\n",
      "  running build_rust\n",
      "  error: can't find Rust compiler\n",
      "  \n",
      "  If you are using an outdated pip version, it is possible a prebuilt wheel is available for this package but pip is not able to install from it. Installing from the wheel would avoid the need for a Rust compiler.\n",
      "  \n",
      "  To update pip, run:\n",
      "  \n",
      "      pip install --upgrade pip\n",
      "  \n",
      "  and then retry package installation.\n",
      "  \n",
      "  If you did intend to build this package from source, try installing a Rust compiler from your system package manager and ensure it is on the PATH during installation. Alternatively, rustup (available at https://rustup.rs) is the recommended way to download and update the Rust compiler toolchain.\n",
      "  [end of output]\n",
      "  \n",
      "  note: This error originates from a subprocess, and is likely not a problem with pip.\n",
      "  ERROR: Failed building wheel for tokenizers\n",
      "ERROR: Could not build wheels for tokenizers, which is required to install pyproject.toml-based projects\n"
     ]
    }
   ],
   "source": [
    "!pip install transformers -q\n",
    "#!pip install pytorch-transformers"
   ]
  },
  {
   "cell_type": "code",
   "execution_count": 79,
   "metadata": {},
   "outputs": [
    {
     "name": "stdout",
     "output_type": "stream",
     "text": [
      "Looking in indexes: https://download.pytorch.org/whl/cu117\n",
      "Requirement already satisfied: torch in c:\\users\\user\\anaconda3\\lib\\site-packages (2.0.0+cu117)\n",
      "Requirement already satisfied: torchvision in c:\\users\\user\\anaconda3\\lib\\site-packages (0.15.1+cu117)\n",
      "Requirement already satisfied: torchaudio in c:\\users\\user\\anaconda3\\lib\\site-packages (2.0.1+cu117)\n",
      "Requirement already satisfied: sympy in c:\\users\\user\\anaconda3\\lib\\site-packages (from torch) (1.10.1)\n",
      "Requirement already satisfied: jinja2 in c:\\users\\user\\anaconda3\\lib\\site-packages (from torch) (2.11.3)\n",
      "Requirement already satisfied: networkx in c:\\users\\user\\anaconda3\\lib\\site-packages (from torch) (2.8.4)\n",
      "Requirement already satisfied: typing-extensions in c:\\users\\user\\anaconda3\\lib\\site-packages (from torch) (4.3.0)\n",
      "Requirement already satisfied: filelock in c:\\users\\user\\anaconda3\\lib\\site-packages (from torch) (3.6.0)\n",
      "Requirement already satisfied: pillow!=8.3.*,>=5.3.0 in c:\\users\\user\\anaconda3\\lib\\site-packages (from torchvision) (9.2.0)\n",
      "Requirement already satisfied: numpy in c:\\users\\user\\anaconda3\\lib\\site-packages (from torchvision) (1.21.5)\n",
      "Requirement already satisfied: requests in c:\\users\\user\\anaconda3\\lib\\site-packages (from torchvision) (2.28.1)\n",
      "Requirement already satisfied: MarkupSafe>=0.23 in c:\\users\\user\\anaconda3\\lib\\site-packages (from jinja2->torch) (2.0.1)\n",
      "Requirement already satisfied: charset-normalizer<3,>=2 in c:\\users\\user\\anaconda3\\lib\\site-packages (from requests->torchvision) (2.0.4)\n",
      "Requirement already satisfied: urllib3<1.27,>=1.21.1 in c:\\users\\user\\anaconda3\\lib\\site-packages (from requests->torchvision) (1.26.11)\n",
      "Requirement already satisfied: certifi>=2017.4.17 in c:\\users\\user\\anaconda3\\lib\\site-packages (from requests->torchvision) (2022.12.7)\n",
      "Requirement already satisfied: idna<4,>=2.5 in c:\\users\\user\\anaconda3\\lib\\site-packages (from requests->torchvision) (3.3)\n",
      "Requirement already satisfied: mpmath>=0.19 in c:\\users\\user\\anaconda3\\lib\\site-packages (from sympy->torch) (1.2.1)\n"
     ]
    }
   ],
   "source": [
    "!pip3 install torch torchvision torchaudio --index-url https://download.pytorch.org/whl/cu117"
   ]
  },
  {
   "cell_type": "code",
   "execution_count": 80,
   "metadata": {},
   "outputs": [
    {
     "name": "stdout",
     "output_type": "stream",
     "text": [
      "Requirement already satisfied: ipywidgets in c:\\users\\user\\anaconda3\\lib\\site-packages (7.6.5)\n",
      "Requirement already satisfied: ipython>=4.0.0 in c:\\users\\user\\anaconda3\\lib\\site-packages (from ipywidgets) (7.31.1)\n",
      "Requirement already satisfied: jupyterlab-widgets>=1.0.0 in c:\\users\\user\\anaconda3\\lib\\site-packages (from ipywidgets) (1.0.0)\n",
      "Requirement already satisfied: ipykernel>=4.5.1 in c:\\users\\user\\anaconda3\\lib\\site-packages (from ipywidgets) (6.15.2)\n",
      "Requirement already satisfied: traitlets>=4.3.1 in c:\\users\\user\\anaconda3\\lib\\site-packages (from ipywidgets) (5.1.1)\n",
      "Requirement already satisfied: widgetsnbextension~=3.5.0 in c:\\users\\user\\anaconda3\\lib\\site-packages (from ipywidgets) (3.5.2)\n",
      "Requirement already satisfied: ipython-genutils~=0.2.0 in c:\\users\\user\\anaconda3\\lib\\site-packages (from ipywidgets) (0.2.0)\n",
      "Requirement already satisfied: nbformat>=4.2.0 in c:\\users\\user\\anaconda3\\lib\\site-packages (from ipywidgets) (5.5.0)\n",
      "Requirement already satisfied: nest-asyncio in c:\\users\\user\\anaconda3\\lib\\site-packages (from ipykernel>=4.5.1->ipywidgets) (1.5.5)\n",
      "Requirement already satisfied: debugpy>=1.0 in c:\\users\\user\\anaconda3\\lib\\site-packages (from ipykernel>=4.5.1->ipywidgets) (1.5.1)\n",
      "Requirement already satisfied: jupyter-client>=6.1.12 in c:\\users\\user\\anaconda3\\lib\\site-packages (from ipykernel>=4.5.1->ipywidgets) (7.3.4)\n",
      "Requirement already satisfied: pyzmq>=17 in c:\\users\\user\\anaconda3\\lib\\site-packages (from ipykernel>=4.5.1->ipywidgets) (23.2.0)\n",
      "Requirement already satisfied: psutil in c:\\users\\user\\anaconda3\\lib\\site-packages (from ipykernel>=4.5.1->ipywidgets) (5.8.0)\n",
      "Requirement already satisfied: matplotlib-inline>=0.1 in c:\\users\\user\\anaconda3\\lib\\site-packages (from ipykernel>=4.5.1->ipywidgets) (0.1.6)\n",
      "Requirement already satisfied: packaging in c:\\users\\user\\anaconda3\\lib\\site-packages (from ipykernel>=4.5.1->ipywidgets) (21.3)\n",
      "Requirement already satisfied: tornado>=6.1 in c:\\users\\user\\anaconda3\\lib\\site-packages (from ipykernel>=4.5.1->ipywidgets) (6.1)\n",
      "Requirement already satisfied: pickleshare in c:\\users\\user\\anaconda3\\lib\\site-packages (from ipython>=4.0.0->ipywidgets) (0.7.5)\n",
      "Requirement already satisfied: decorator in c:\\users\\user\\anaconda3\\lib\\site-packages (from ipython>=4.0.0->ipywidgets) (5.1.1)\n",
      "Requirement already satisfied: jedi>=0.16 in c:\\users\\user\\anaconda3\\lib\\site-packages (from ipython>=4.0.0->ipywidgets) (0.18.1)\n",
      "Requirement already satisfied: setuptools>=18.5 in c:\\users\\user\\anaconda3\\lib\\site-packages (from ipython>=4.0.0->ipywidgets) (63.4.1)\n",
      "Requirement already satisfied: backcall in c:\\users\\user\\anaconda3\\lib\\site-packages (from ipython>=4.0.0->ipywidgets) (0.2.0)\n",
      "Requirement already satisfied: pygments in c:\\users\\user\\anaconda3\\lib\\site-packages (from ipython>=4.0.0->ipywidgets) (2.11.2)\n",
      "Requirement already satisfied: colorama in c:\\users\\user\\anaconda3\\lib\\site-packages (from ipython>=4.0.0->ipywidgets) (0.4.6)\n",
      "Requirement already satisfied: prompt-toolkit!=3.0.0,!=3.0.1,<3.1.0,>=2.0.0 in c:\\users\\user\\anaconda3\\lib\\site-packages (from ipython>=4.0.0->ipywidgets) (3.0.20)\n",
      "Requirement already satisfied: fastjsonschema in c:\\users\\user\\anaconda3\\lib\\site-packages (from nbformat>=4.2.0->ipywidgets) (2.16.2)\n",
      "Requirement already satisfied: jsonschema>=2.6 in c:\\users\\user\\anaconda3\\lib\\site-packages (from nbformat>=4.2.0->ipywidgets) (4.16.0)\n",
      "Requirement already satisfied: jupyter_core in c:\\users\\user\\anaconda3\\lib\\site-packages (from nbformat>=4.2.0->ipywidgets) (4.11.1)\n",
      "Requirement already satisfied: notebook>=4.4.1 in c:\\users\\user\\anaconda3\\lib\\site-packages (from widgetsnbextension~=3.5.0->ipywidgets) (6.4.12)\n",
      "Requirement already satisfied: parso<0.9.0,>=0.8.0 in c:\\users\\user\\anaconda3\\lib\\site-packages (from jedi>=0.16->ipython>=4.0.0->ipywidgets) (0.8.3)\n",
      "Requirement already satisfied: pyrsistent!=0.17.0,!=0.17.1,!=0.17.2,>=0.14.0 in c:\\users\\user\\anaconda3\\lib\\site-packages (from jsonschema>=2.6->nbformat>=4.2.0->ipywidgets) (0.18.0)\n",
      "Requirement already satisfied: attrs>=17.4.0 in c:\\users\\user\\anaconda3\\lib\\site-packages (from jsonschema>=2.6->nbformat>=4.2.0->ipywidgets) (21.4.0)\n",
      "Requirement already satisfied: python-dateutil>=2.8.2 in c:\\users\\user\\anaconda3\\lib\\site-packages (from jupyter-client>=6.1.12->ipykernel>=4.5.1->ipywidgets) (2.8.2)\n",
      "Requirement already satisfied: entrypoints in c:\\users\\user\\anaconda3\\lib\\site-packages (from jupyter-client>=6.1.12->ipykernel>=4.5.1->ipywidgets) (0.4)\n",
      "Requirement already satisfied: pywin32>=1.0 in c:\\users\\user\\anaconda3\\lib\\site-packages (from jupyter_core->nbformat>=4.2.0->ipywidgets) (302)\n",
      "Requirement already satisfied: nbconvert>=5 in c:\\users\\user\\anaconda3\\lib\\site-packages (from notebook>=4.4.1->widgetsnbextension~=3.5.0->ipywidgets) (6.4.4)\n",
      "Requirement already satisfied: jinja2 in c:\\users\\user\\anaconda3\\lib\\site-packages (from notebook>=4.4.1->widgetsnbextension~=3.5.0->ipywidgets) (2.11.3)\n",
      "Requirement already satisfied: Send2Trash>=1.8.0 in c:\\users\\user\\anaconda3\\lib\\site-packages (from notebook>=4.4.1->widgetsnbextension~=3.5.0->ipywidgets) (1.8.0)\n",
      "Requirement already satisfied: terminado>=0.8.3 in c:\\users\\user\\anaconda3\\lib\\site-packages (from notebook>=4.4.1->widgetsnbextension~=3.5.0->ipywidgets) (0.13.1)\n",
      "Requirement already satisfied: prometheus-client in c:\\users\\user\\anaconda3\\lib\\site-packages (from notebook>=4.4.1->widgetsnbextension~=3.5.0->ipywidgets) (0.14.1)\n",
      "Requirement already satisfied: argon2-cffi in c:\\users\\user\\anaconda3\\lib\\site-packages (from notebook>=4.4.1->widgetsnbextension~=3.5.0->ipywidgets) (21.3.0)\n",
      "Requirement already satisfied: wcwidth in c:\\users\\user\\anaconda3\\lib\\site-packages (from prompt-toolkit!=3.0.0,!=3.0.1,<3.1.0,>=2.0.0->ipython>=4.0.0->ipywidgets) (0.2.5)\n",
      "Requirement already satisfied: pyparsing!=3.0.5,>=2.0.2 in c:\\users\\user\\anaconda3\\lib\\site-packages (from packaging->ipykernel>=4.5.1->ipywidgets) (3.0.9)\n",
      "Requirement already satisfied: jupyterlab-pygments in c:\\users\\user\\anaconda3\\lib\\site-packages (from nbconvert>=5->notebook>=4.4.1->widgetsnbextension~=3.5.0->ipywidgets) (0.1.2)\n",
      "Requirement already satisfied: testpath in c:\\users\\user\\anaconda3\\lib\\site-packages (from nbconvert>=5->notebook>=4.4.1->widgetsnbextension~=3.5.0->ipywidgets) (0.6.0)\n",
      "Requirement already satisfied: nbclient<0.6.0,>=0.5.0 in c:\\users\\user\\anaconda3\\lib\\site-packages (from nbconvert>=5->notebook>=4.4.1->widgetsnbextension~=3.5.0->ipywidgets) (0.5.13)\n",
      "Requirement already satisfied: beautifulsoup4 in c:\\users\\user\\anaconda3\\lib\\site-packages (from nbconvert>=5->notebook>=4.4.1->widgetsnbextension~=3.5.0->ipywidgets) (4.11.1)\n",
      "Requirement already satisfied: pandocfilters>=1.4.1 in c:\\users\\user\\anaconda3\\lib\\site-packages (from nbconvert>=5->notebook>=4.4.1->widgetsnbextension~=3.5.0->ipywidgets) (1.5.0)\n",
      "Requirement already satisfied: bleach in c:\\users\\user\\anaconda3\\lib\\site-packages (from nbconvert>=5->notebook>=4.4.1->widgetsnbextension~=3.5.0->ipywidgets) (4.1.0)\n",
      "Requirement already satisfied: mistune<2,>=0.8.1 in c:\\users\\user\\anaconda3\\lib\\site-packages (from nbconvert>=5->notebook>=4.4.1->widgetsnbextension~=3.5.0->ipywidgets) (0.8.4)\n",
      "Requirement already satisfied: defusedxml in c:\\users\\user\\anaconda3\\lib\\site-packages (from nbconvert>=5->notebook>=4.4.1->widgetsnbextension~=3.5.0->ipywidgets) (0.7.1)\n",
      "Requirement already satisfied: MarkupSafe>=0.23 in c:\\users\\user\\anaconda3\\lib\\site-packages (from jinja2->notebook>=4.4.1->widgetsnbextension~=3.5.0->ipywidgets) (2.0.1)\n",
      "Requirement already satisfied: six>=1.5 in c:\\users\\user\\anaconda3\\lib\\site-packages (from python-dateutil>=2.8.2->jupyter-client>=6.1.12->ipykernel>=4.5.1->ipywidgets) (1.16.0)\n",
      "Requirement already satisfied: pywinpty>=1.1.0 in c:\\users\\user\\anaconda3\\lib\\site-packages (from terminado>=0.8.3->notebook>=4.4.1->widgetsnbextension~=3.5.0->ipywidgets) (2.0.2)\n",
      "Requirement already satisfied: argon2-cffi-bindings in c:\\users\\user\\anaconda3\\lib\\site-packages (from argon2-cffi->notebook>=4.4.1->widgetsnbextension~=3.5.0->ipywidgets) (21.2.0)\n",
      "Requirement already satisfied: cffi>=1.0.1 in c:\\users\\user\\anaconda3\\lib\\site-packages (from argon2-cffi-bindings->argon2-cffi->notebook>=4.4.1->widgetsnbextension~=3.5.0->ipywidgets) (1.15.1)\n",
      "Requirement already satisfied: soupsieve>1.2 in c:\\users\\user\\anaconda3\\lib\\site-packages (from beautifulsoup4->nbconvert>=5->notebook>=4.4.1->widgetsnbextension~=3.5.0->ipywidgets) (2.3.1)\n",
      "Requirement already satisfied: webencodings in c:\\users\\user\\anaconda3\\lib\\site-packages (from bleach->nbconvert>=5->notebook>=4.4.1->widgetsnbextension~=3.5.0->ipywidgets) (0.5.1)\n",
      "Requirement already satisfied: pycparser in c:\\users\\user\\anaconda3\\lib\\site-packages (from cffi>=1.0.1->argon2-cffi-bindings->argon2-cffi->notebook>=4.4.1->widgetsnbextension~=3.5.0->ipywidgets) (2.21)\n"
     ]
    }
   ],
   "source": [
    "!pip install ipywidgets"
   ]
  },
  {
   "cell_type": "code",
   "execution_count": 2,
   "metadata": {
    "colab": {
     "base_uri": "https://localhost:8080/"
    },
    "id": "ZstEs8KsrtM-",
    "outputId": "94331e6e-a111-49a0-8951-4435d56299c5"
   },
   "outputs": [
    {
     "ename": "ModuleNotFoundError",
     "evalue": "No module named 'yaml'",
     "output_type": "error",
     "traceback": [
      "\u001b[1;31m---------------------------------------------------------------------------\u001b[0m",
      "\u001b[1;31mModuleNotFoundError\u001b[0m                       Traceback (most recent call last)",
      "Cell \u001b[1;32mIn[2], line 1\u001b[0m\n\u001b[1;32m----> 1\u001b[0m \u001b[38;5;28;01mfrom\u001b[39;00m \u001b[38;5;21;01mtransformers\u001b[39;00m \u001b[38;5;28;01mimport\u001b[39;00m BertModel, BertTokenizerFast\n\u001b[0;32m      3\u001b[0m alephbert_tokenizer \u001b[38;5;241m=\u001b[39m BertTokenizerFast\u001b[38;5;241m.\u001b[39mfrom_pretrained(\u001b[38;5;124m'\u001b[39m\u001b[38;5;124monlplab/alephbert-base\u001b[39m\u001b[38;5;124m'\u001b[39m)\n\u001b[0;32m      4\u001b[0m alephbert \u001b[38;5;241m=\u001b[39m BertModel\u001b[38;5;241m.\u001b[39mfrom_pretrained(\u001b[38;5;124m'\u001b[39m\u001b[38;5;124monlplab/alephbert-base\u001b[39m\u001b[38;5;124m'\u001b[39m)\n",
      "File \u001b[1;32m~\\anaconda3\\envs\\tf-gpu-cuda8\\lib\\site-packages\\transformers\\__init__.py:26\u001b[0m\n\u001b[0;32m     23\u001b[0m \u001b[38;5;28;01mfrom\u001b[39;00m \u001b[38;5;21;01mtyping\u001b[39;00m \u001b[38;5;28;01mimport\u001b[39;00m TYPE_CHECKING\n\u001b[0;32m     25\u001b[0m \u001b[38;5;66;03m# Check the dependencies satisfy the minimal versions required.\u001b[39;00m\n\u001b[1;32m---> 26\u001b[0m \u001b[38;5;28;01mfrom\u001b[39;00m \u001b[38;5;21;01m.\u001b[39;00m \u001b[38;5;28;01mimport\u001b[39;00m dependency_versions_check\n\u001b[0;32m     27\u001b[0m \u001b[38;5;28;01mfrom\u001b[39;00m \u001b[38;5;21;01m.\u001b[39;00m\u001b[38;5;21;01mutils\u001b[39;00m \u001b[38;5;28;01mimport\u001b[39;00m (\n\u001b[0;32m     28\u001b[0m     OptionalDependencyNotAvailable,\n\u001b[0;32m     29\u001b[0m     _LazyModule,\n\u001b[1;32m   (...)\u001b[0m\n\u001b[0;32m     42\u001b[0m     logging,\n\u001b[0;32m     43\u001b[0m )\n\u001b[0;32m     46\u001b[0m logger \u001b[38;5;241m=\u001b[39m logging\u001b[38;5;241m.\u001b[39mget_logger(\u001b[38;5;18m__name__\u001b[39m)  \u001b[38;5;66;03m# pylint: disable=invalid-name\u001b[39;00m\n",
      "File \u001b[1;32m~\\anaconda3\\envs\\tf-gpu-cuda8\\lib\\site-packages\\transformers\\dependency_versions_check.py:17\u001b[0m\n\u001b[0;32m     14\u001b[0m \u001b[38;5;28;01mimport\u001b[39;00m \u001b[38;5;21;01msys\u001b[39;00m\n\u001b[0;32m     16\u001b[0m \u001b[38;5;28;01mfrom\u001b[39;00m \u001b[38;5;21;01m.\u001b[39;00m\u001b[38;5;21;01mdependency_versions_table\u001b[39;00m \u001b[38;5;28;01mimport\u001b[39;00m deps\n\u001b[1;32m---> 17\u001b[0m \u001b[38;5;28;01mfrom\u001b[39;00m \u001b[38;5;21;01m.\u001b[39;00m\u001b[38;5;21;01mutils\u001b[39;00m\u001b[38;5;21;01m.\u001b[39;00m\u001b[38;5;21;01mversions\u001b[39;00m \u001b[38;5;28;01mimport\u001b[39;00m require_version, require_version_core\n\u001b[0;32m     20\u001b[0m \u001b[38;5;66;03m# define which module versions we always want to check at run time\u001b[39;00m\n\u001b[0;32m     21\u001b[0m \u001b[38;5;66;03m# (usually the ones defined in `install_requires` in setup.py)\u001b[39;00m\n\u001b[0;32m     22\u001b[0m \u001b[38;5;66;03m#\u001b[39;00m\n\u001b[0;32m     23\u001b[0m \u001b[38;5;66;03m# order specific notes:\u001b[39;00m\n\u001b[0;32m     24\u001b[0m \u001b[38;5;66;03m# - tqdm must be checked before tokenizers\u001b[39;00m\n\u001b[0;32m     26\u001b[0m pkgs_to_check_at_runtime \u001b[38;5;241m=\u001b[39m \u001b[38;5;124m\"\u001b[39m\u001b[38;5;124mpython tqdm regex requests packaging filelock numpy tokenizers\u001b[39m\u001b[38;5;124m\"\u001b[39m\u001b[38;5;241m.\u001b[39msplit()\n",
      "File \u001b[1;32m~\\anaconda3\\envs\\tf-gpu-cuda8\\lib\\site-packages\\transformers\\utils\\__init__.py:30\u001b[0m\n\u001b[0;32m     21\u001b[0m \u001b[38;5;28;01mfrom\u001b[39;00m \u001b[38;5;21;01m.\u001b[39;00m\u001b[38;5;21;01mconstants\u001b[39;00m \u001b[38;5;28;01mimport\u001b[39;00m IMAGENET_DEFAULT_MEAN, IMAGENET_DEFAULT_STD, IMAGENET_STANDARD_MEAN, IMAGENET_STANDARD_STD\n\u001b[0;32m     22\u001b[0m \u001b[38;5;28;01mfrom\u001b[39;00m \u001b[38;5;21;01m.\u001b[39;00m\u001b[38;5;21;01mdoc\u001b[39;00m \u001b[38;5;28;01mimport\u001b[39;00m (\n\u001b[0;32m     23\u001b[0m     add_code_sample_docstrings,\n\u001b[0;32m     24\u001b[0m     add_end_docstrings,\n\u001b[1;32m   (...)\u001b[0m\n\u001b[0;32m     28\u001b[0m     replace_return_docstrings,\n\u001b[0;32m     29\u001b[0m )\n\u001b[1;32m---> 30\u001b[0m \u001b[38;5;28;01mfrom\u001b[39;00m \u001b[38;5;21;01m.\u001b[39;00m\u001b[38;5;21;01mgeneric\u001b[39;00m \u001b[38;5;28;01mimport\u001b[39;00m (\n\u001b[0;32m     31\u001b[0m     ContextManagers,\n\u001b[0;32m     32\u001b[0m     ExplicitEnum,\n\u001b[0;32m     33\u001b[0m     ModelOutput,\n\u001b[0;32m     34\u001b[0m     PaddingStrategy,\n\u001b[0;32m     35\u001b[0m     TensorType,\n\u001b[0;32m     36\u001b[0m     cached_property,\n\u001b[0;32m     37\u001b[0m     can_return_loss,\n\u001b[0;32m     38\u001b[0m     expand_dims,\n\u001b[0;32m     39\u001b[0m     find_labels,\n\u001b[0;32m     40\u001b[0m     flatten_dict,\n\u001b[0;32m     41\u001b[0m     is_jax_tensor,\n\u001b[0;32m     42\u001b[0m     is_numpy_array,\n\u001b[0;32m     43\u001b[0m     is_tensor,\n\u001b[0;32m     44\u001b[0m     is_tf_tensor,\n\u001b[0;32m     45\u001b[0m     is_torch_device,\n\u001b[0;32m     46\u001b[0m     is_torch_dtype,\n\u001b[0;32m     47\u001b[0m     is_torch_tensor,\n\u001b[0;32m     48\u001b[0m     reshape,\n\u001b[0;32m     49\u001b[0m     squeeze,\n\u001b[0;32m     50\u001b[0m     strtobool,\n\u001b[0;32m     51\u001b[0m     tensor_size,\n\u001b[0;32m     52\u001b[0m     to_numpy,\n\u001b[0;32m     53\u001b[0m     to_py_obj,\n\u001b[0;32m     54\u001b[0m     transpose,\n\u001b[0;32m     55\u001b[0m     working_or_temp_dir,\n\u001b[0;32m     56\u001b[0m )\n\u001b[0;32m     57\u001b[0m \u001b[38;5;28;01mfrom\u001b[39;00m \u001b[38;5;21;01m.\u001b[39;00m\u001b[38;5;21;01mhub\u001b[39;00m \u001b[38;5;28;01mimport\u001b[39;00m (\n\u001b[0;32m     58\u001b[0m     CLOUDFRONT_DISTRIB_PREFIX,\n\u001b[0;32m     59\u001b[0m     DISABLE_TELEMETRY,\n\u001b[1;32m   (...)\u001b[0m\n\u001b[0;32m     85\u001b[0m     send_example_telemetry,\n\u001b[0;32m     86\u001b[0m )\n\u001b[0;32m     87\u001b[0m \u001b[38;5;28;01mfrom\u001b[39;00m \u001b[38;5;21;01m.\u001b[39;00m\u001b[38;5;21;01mimport_utils\u001b[39;00m \u001b[38;5;28;01mimport\u001b[39;00m (\n\u001b[0;32m     88\u001b[0m     ENV_VARS_TRUE_AND_AUTO_VALUES,\n\u001b[0;32m     89\u001b[0m     ENV_VARS_TRUE_VALUES,\n\u001b[1;32m   (...)\u001b[0m\n\u001b[0;32m    167\u001b[0m     torch_version,\n\u001b[0;32m    168\u001b[0m )\n",
      "File \u001b[1;32m~\\anaconda3\\envs\\tf-gpu-cuda8\\lib\\site-packages\\transformers\\utils\\generic.py:29\u001b[0m\n\u001b[0;32m     25\u001b[0m \u001b[38;5;28;01mfrom\u001b[39;00m \u001b[38;5;21;01mtyping\u001b[39;00m \u001b[38;5;28;01mimport\u001b[39;00m Any, ContextManager, List, Tuple\n\u001b[0;32m     27\u001b[0m \u001b[38;5;28;01mimport\u001b[39;00m \u001b[38;5;21;01mnumpy\u001b[39;00m \u001b[38;5;28;01mas\u001b[39;00m \u001b[38;5;21;01mnp\u001b[39;00m\n\u001b[1;32m---> 29\u001b[0m \u001b[38;5;28;01mfrom\u001b[39;00m \u001b[38;5;21;01m.\u001b[39;00m\u001b[38;5;21;01mimport_utils\u001b[39;00m \u001b[38;5;28;01mimport\u001b[39;00m is_flax_available, is_tf_available, is_torch_available, is_torch_fx_proxy\n\u001b[0;32m     32\u001b[0m \u001b[38;5;28;01mif\u001b[39;00m is_flax_available():\n\u001b[0;32m     33\u001b[0m     \u001b[38;5;28;01mimport\u001b[39;00m \u001b[38;5;21;01mjax\u001b[39;00m\u001b[38;5;21;01m.\u001b[39;00m\u001b[38;5;21;01mnumpy\u001b[39;00m \u001b[38;5;28;01mas\u001b[39;00m \u001b[38;5;21;01mjnp\u001b[39;00m\n",
      "File \u001b[1;32m~\\anaconda3\\envs\\tf-gpu-cuda8\\lib\\site-packages\\transformers\\utils\\import_utils.py:32\u001b[0m\n\u001b[0;32m     28\u001b[0m \u001b[38;5;28;01mfrom\u001b[39;00m \u001b[38;5;21;01mtyping\u001b[39;00m \u001b[38;5;28;01mimport\u001b[39;00m Any\n\u001b[0;32m     30\u001b[0m \u001b[38;5;28;01mfrom\u001b[39;00m \u001b[38;5;21;01mpackaging\u001b[39;00m \u001b[38;5;28;01mimport\u001b[39;00m version\n\u001b[1;32m---> 32\u001b[0m \u001b[38;5;28;01mfrom\u001b[39;00m \u001b[38;5;21;01m.\u001b[39;00m \u001b[38;5;28;01mimport\u001b[39;00m logging\n\u001b[0;32m     33\u001b[0m \u001b[38;5;28;01mfrom\u001b[39;00m \u001b[38;5;21;01m.\u001b[39;00m\u001b[38;5;21;01mversions\u001b[39;00m \u001b[38;5;28;01mimport\u001b[39;00m importlib_metadata\n\u001b[0;32m     36\u001b[0m logger \u001b[38;5;241m=\u001b[39m logging\u001b[38;5;241m.\u001b[39mget_logger(\u001b[38;5;18m__name__\u001b[39m)  \u001b[38;5;66;03m# pylint: disable=invalid-name\u001b[39;00m\n",
      "File \u001b[1;32m~\\anaconda3\\envs\\tf-gpu-cuda8\\lib\\site-packages\\transformers\\utils\\logging.py:35\u001b[0m\n\u001b[0;32m     23\u001b[0m \u001b[38;5;28;01mfrom\u001b[39;00m \u001b[38;5;21;01mlogging\u001b[39;00m \u001b[38;5;28;01mimport\u001b[39;00m (\n\u001b[0;32m     24\u001b[0m     CRITICAL,  \u001b[38;5;66;03m# NOQA\u001b[39;00m\n\u001b[0;32m     25\u001b[0m     DEBUG,  \u001b[38;5;66;03m# NOQA\u001b[39;00m\n\u001b[1;32m   (...)\u001b[0m\n\u001b[0;32m     31\u001b[0m     WARNING,  \u001b[38;5;66;03m# NOQA\u001b[39;00m\n\u001b[0;32m     32\u001b[0m )\n\u001b[0;32m     33\u001b[0m \u001b[38;5;28;01mfrom\u001b[39;00m \u001b[38;5;21;01mtyping\u001b[39;00m \u001b[38;5;28;01mimport\u001b[39;00m Optional\n\u001b[1;32m---> 35\u001b[0m \u001b[38;5;28;01mimport\u001b[39;00m \u001b[38;5;21;01mhuggingface_hub\u001b[39;00m\u001b[38;5;21;01m.\u001b[39;00m\u001b[38;5;21;01mutils\u001b[39;00m \u001b[38;5;28;01mas\u001b[39;00m \u001b[38;5;21;01mhf_hub_utils\u001b[39;00m\n\u001b[0;32m     36\u001b[0m \u001b[38;5;28;01mfrom\u001b[39;00m \u001b[38;5;21;01mtqdm\u001b[39;00m \u001b[38;5;28;01mimport\u001b[39;00m auto \u001b[38;5;28;01mas\u001b[39;00m tqdm_lib\n\u001b[0;32m     39\u001b[0m _lock \u001b[38;5;241m=\u001b[39m threading\u001b[38;5;241m.\u001b[39mLock()\n",
      "File \u001b[1;32m~\\anaconda3\\envs\\tf-gpu-cuda8\\lib\\site-packages\\huggingface_hub\\utils\\__init__.py:32\u001b[0m\n\u001b[0;32m     30\u001b[0m \u001b[38;5;28;01mfrom\u001b[39;00m \u001b[38;5;21;01m.\u001b[39;00m\u001b[38;5;21;01m_chunk_utils\u001b[39;00m \u001b[38;5;28;01mimport\u001b[39;00m chunk_iterable\n\u001b[0;32m     31\u001b[0m \u001b[38;5;28;01mfrom\u001b[39;00m \u001b[38;5;21;01m.\u001b[39;00m\u001b[38;5;21;01m_datetime\u001b[39;00m \u001b[38;5;28;01mimport\u001b[39;00m parse_datetime\n\u001b[1;32m---> 32\u001b[0m \u001b[38;5;28;01mfrom\u001b[39;00m \u001b[38;5;21;01m.\u001b[39;00m\u001b[38;5;21;01m_errors\u001b[39;00m \u001b[38;5;28;01mimport\u001b[39;00m (\n\u001b[0;32m     33\u001b[0m     BadRequestError,\n\u001b[0;32m     34\u001b[0m     EntryNotFoundError,\n\u001b[0;32m     35\u001b[0m     GatedRepoError,\n\u001b[0;32m     36\u001b[0m     HfHubHTTPError,\n\u001b[0;32m     37\u001b[0m     LocalEntryNotFoundError,\n\u001b[0;32m     38\u001b[0m     RepositoryNotFoundError,\n\u001b[0;32m     39\u001b[0m     RevisionNotFoundError,\n\u001b[0;32m     40\u001b[0m     hf_raise_for_status,\n\u001b[0;32m     41\u001b[0m )\n\u001b[0;32m     42\u001b[0m \u001b[38;5;28;01mfrom\u001b[39;00m \u001b[38;5;21;01m.\u001b[39;00m\u001b[38;5;21;01m_fixes\u001b[39;00m \u001b[38;5;28;01mimport\u001b[39;00m SoftTemporaryDirectory, yaml_dump\n\u001b[0;32m     43\u001b[0m \u001b[38;5;28;01mfrom\u001b[39;00m \u001b[38;5;21;01m.\u001b[39;00m\u001b[38;5;21;01m_git_credential\u001b[39;00m \u001b[38;5;28;01mimport\u001b[39;00m list_credential_helpers, set_git_credential, unset_git_credential\n",
      "File \u001b[1;32m~\\anaconda3\\envs\\tf-gpu-cuda8\\lib\\site-packages\\huggingface_hub\\utils\\_errors.py:5\u001b[0m\n\u001b[0;32m      1\u001b[0m \u001b[38;5;28;01mfrom\u001b[39;00m \u001b[38;5;21;01mtyping\u001b[39;00m \u001b[38;5;28;01mimport\u001b[39;00m Optional\n\u001b[0;32m      3\u001b[0m \u001b[38;5;28;01mfrom\u001b[39;00m \u001b[38;5;21;01mrequests\u001b[39;00m \u001b[38;5;28;01mimport\u001b[39;00m HTTPError, Response\n\u001b[1;32m----> 5\u001b[0m \u001b[38;5;28;01mfrom\u001b[39;00m \u001b[38;5;21;01m.\u001b[39;00m\u001b[38;5;21;01m_fixes\u001b[39;00m \u001b[38;5;28;01mimport\u001b[39;00m JSONDecodeError\n\u001b[0;32m      8\u001b[0m \u001b[38;5;28;01mclass\u001b[39;00m \u001b[38;5;21;01mHfHubHTTPError\u001b[39;00m(HTTPError):\n\u001b[0;32m      9\u001b[0m     \u001b[38;5;124;03m\"\"\"\u001b[39;00m\n\u001b[0;32m     10\u001b[0m \u001b[38;5;124;03m    HTTPError to inherit from for any custom HTTP Error raised in HF Hub.\u001b[39;00m\n\u001b[0;32m     11\u001b[0m \n\u001b[1;32m   (...)\u001b[0m\n\u001b[0;32m     35\u001b[0m \u001b[38;5;124;03m    ```\u001b[39;00m\n\u001b[0;32m     36\u001b[0m \u001b[38;5;124;03m    \"\"\"\u001b[39;00m\n",
      "File \u001b[1;32m~\\anaconda3\\envs\\tf-gpu-cuda8\\lib\\site-packages\\huggingface_hub\\utils\\_fixes.py:21\u001b[0m\n\u001b[0;32m     18\u001b[0m \u001b[38;5;28;01mfrom\u001b[39;00m \u001b[38;5;21;01mpathlib\u001b[39;00m \u001b[38;5;28;01mimport\u001b[39;00m Path\n\u001b[0;32m     19\u001b[0m \u001b[38;5;28;01mfrom\u001b[39;00m \u001b[38;5;21;01mtyping\u001b[39;00m \u001b[38;5;28;01mimport\u001b[39;00m Callable, Generator, Optional, Union\n\u001b[1;32m---> 21\u001b[0m \u001b[38;5;28;01mimport\u001b[39;00m \u001b[38;5;21;01myaml\u001b[39;00m\n\u001b[0;32m     24\u001b[0m \u001b[38;5;66;03m# Wrap `yaml.dump` to set `allow_unicode=True` by default.\u001b[39;00m\n\u001b[0;32m     25\u001b[0m \u001b[38;5;66;03m#\u001b[39;00m\n\u001b[0;32m     26\u001b[0m \u001b[38;5;66;03m# Example:\u001b[39;00m\n\u001b[1;32m   (...)\u001b[0m\n\u001b[0;32m     32\u001b[0m \u001b[38;5;66;03m# 'emoji: \"👀\"\\nsome unicode: \"日本か\"\\n'\u001b[39;00m\n\u001b[0;32m     33\u001b[0m \u001b[38;5;66;03m# ```\u001b[39;00m\n\u001b[0;32m     34\u001b[0m yaml_dump: Callable[\u001b[38;5;241m.\u001b[39m\u001b[38;5;241m.\u001b[39m\u001b[38;5;241m.\u001b[39m, \u001b[38;5;28mstr\u001b[39m] \u001b[38;5;241m=\u001b[39m partial(yaml\u001b[38;5;241m.\u001b[39mdump, stream\u001b[38;5;241m=\u001b[39m\u001b[38;5;28;01mNone\u001b[39;00m, allow_unicode\u001b[38;5;241m=\u001b[39m\u001b[38;5;28;01mTrue\u001b[39;00m)  \u001b[38;5;66;03m# type: ignore\u001b[39;00m\n",
      "\u001b[1;31mModuleNotFoundError\u001b[0m: No module named 'yaml'"
     ]
    }
   ],
   "source": [
    "from transformers import BertModel, BertTokenizerFast\n",
    "\n",
    "alephbert_tokenizer = BertTokenizerFast.from_pretrained('onlplab/alephbert-base')\n",
    "alephbert = BertModel.from_pretrained('onlplab/alephbert-base')\n",
    "\n",
    "# if not finetuning - disable dropout\n",
    "#alephbert.eval()"
   ]
  },
  {
   "cell_type": "code",
   "execution_count": 82,
   "metadata": {
    "colab": {
     "base_uri": "https://localhost:8080/"
    },
    "id": "jR4x8934jQD0",
    "outputId": "2125ddc7-1ca9-46c1-e348-9320df2eaa1b"
   },
   "outputs": [
    {
     "name": "stdout",
     "output_type": "stream",
     "text": [
      "Requirement already satisfied: tea in c:\\users\\user\\anaconda3\\lib\\site-packages (0.1.7)\n",
      "Requirement already satisfied: tzlocal~=3.0 in c:\\users\\user\\anaconda3\\lib\\site-packages (from tea) (3.0)\n",
      "Requirement already satisfied: psutil~=5.8.0 in c:\\users\\user\\anaconda3\\lib\\site-packages (from tea) (5.8.0)\n",
      "Requirement already satisfied: pytz~=2021.3 in c:\\users\\user\\anaconda3\\lib\\site-packages (from tea) (2021.3)\n",
      "Requirement already satisfied: tzdata in c:\\users\\user\\anaconda3\\lib\\site-packages (from tzlocal~=3.0->tea) (2023.3)\n"
     ]
    }
   ],
   "source": [
    "!pip install tea"
   ]
  },
  {
   "cell_type": "code",
   "execution_count": 83,
   "metadata": {},
   "outputs": [
    {
     "name": "stdout",
     "output_type": "stream",
     "text": [
      "Requirement already satisfied: seaborn in c:\\users\\user\\anaconda3\\lib\\site-packages (0.11.2)\n",
      "Requirement already satisfied: numpy>=1.15 in c:\\users\\user\\anaconda3\\lib\\site-packages (from seaborn) (1.21.5)\n",
      "Requirement already satisfied: scipy>=1.0 in c:\\users\\user\\anaconda3\\lib\\site-packages (from seaborn) (1.9.1)\n",
      "Requirement already satisfied: pandas>=0.23 in c:\\users\\user\\anaconda3\\lib\\site-packages (from seaborn) (1.4.4)\n",
      "Requirement already satisfied: matplotlib>=2.2 in c:\\users\\user\\anaconda3\\lib\\site-packages (from seaborn) (3.5.2)\n",
      "Requirement already satisfied: pillow>=6.2.0 in c:\\users\\user\\anaconda3\\lib\\site-packages (from matplotlib>=2.2->seaborn) (9.2.0)\n",
      "Requirement already satisfied: cycler>=0.10 in c:\\users\\user\\anaconda3\\lib\\site-packages (from matplotlib>=2.2->seaborn) (0.11.0)\n",
      "Requirement already satisfied: kiwisolver>=1.0.1 in c:\\users\\user\\anaconda3\\lib\\site-packages (from matplotlib>=2.2->seaborn) (1.4.2)\n",
      "Requirement already satisfied: pyparsing>=2.2.1 in c:\\users\\user\\anaconda3\\lib\\site-packages (from matplotlib>=2.2->seaborn) (3.0.9)\n",
      "Requirement already satisfied: packaging>=20.0 in c:\\users\\user\\anaconda3\\lib\\site-packages (from matplotlib>=2.2->seaborn) (21.3)\n",
      "Requirement already satisfied: fonttools>=4.22.0 in c:\\users\\user\\anaconda3\\lib\\site-packages (from matplotlib>=2.2->seaborn) (4.25.0)\n",
      "Requirement already satisfied: python-dateutil>=2.7 in c:\\users\\user\\anaconda3\\lib\\site-packages (from matplotlib>=2.2->seaborn) (2.8.2)\n",
      "Requirement already satisfied: pytz>=2020.1 in c:\\users\\user\\anaconda3\\lib\\site-packages (from pandas>=0.23->seaborn) (2021.3)\n",
      "Requirement already satisfied: six>=1.5 in c:\\users\\user\\anaconda3\\lib\\site-packages (from python-dateutil>=2.7->matplotlib>=2.2->seaborn) (1.16.0)\n"
     ]
    }
   ],
   "source": [
    "!pip install seaborn"
   ]
  },
  {
   "cell_type": "code",
   "execution_count": 1,
   "metadata": {
    "id": "YVSF0nv7lF8O"
   },
   "outputs": [],
   "source": [
    "import sys\n",
    "import codecs\n",
    "import re\n",
    "import numpy as np\n",
    "import seaborn as sns\n",
    "import matplotlib.pyplot as plt\n",
    "import io\n",
    "import os"
   ]
  },
  {
   "cell_type": "code",
   "execution_count": 2,
   "metadata": {
    "colab": {
     "base_uri": "https://localhost:8080/"
    },
    "id": "shpXPZsQjRUy",
    "outputId": "9e629283-a93f-4f3d-b58f-bed37b3e4bd0"
   },
   "outputs": [],
   "source": [
    "#!git clone https://github.com/omilab/Neural-Sentiment-Analyzer-for-Modern-Hebrew\n",
    "#!mv Neural-Sentiment-Analyzer-for-Modern-Hebrew/data data"
   ]
  },
  {
   "cell_type": "code",
   "execution_count": 3,
   "metadata": {
    "id": "PqaeZWZ-k2nG"
   },
   "outputs": [],
   "source": [
    "def load_data(filename):\n",
    "    data = list(codecs.open(filename, 'r', 'utf-8').readlines())\n",
    "    x, y = zip(*[d.strip().split('\\t') for d in data])\n",
    "    x = np.asarray(list(x))\n",
    "    #y = to_categorical(y, 3)\n",
    "    \n",
    "    return x, np.array(list(map(int, y)))"
   ]
  },
  {
   "cell_type": "code",
   "execution_count": 16,
   "metadata": {
    "colab": {
     "base_uri": "https://localhost:8080/"
    },
    "id": "O0qTqdQXlLX4",
    "outputId": "c82897e9-6697-49e0-fc9d-c780e826adfa"
   },
   "outputs": [
    {
     "data": {
      "text/plain": [
       "((10244,), (10244,))"
      ]
     },
     "execution_count": 16,
     "metadata": {},
     "output_type": "execute_result"
    }
   ],
   "source": [
    "train_tokens, train_tags = load_data('data_sen/token_train.tsv')\n",
    "test_tokens, test_tags = load_data('data_sen/token_test.tsv')\n",
    "train_tokens.shape, train_tags.shape"
   ]
  },
  {
   "cell_type": "code",
   "execution_count": 10,
   "metadata": {
    "id": "oYlWGd_F1l9a"
   },
   "outputs": [],
   "source": [
    "sample_txt = 'מתי הייתי בחוץ בפעם האחרונה? אני תקוע בבית שבועיים.'"
   ]
  },
  {
   "cell_type": "code",
   "execution_count": 89,
   "metadata": {
    "colab": {
     "base_uri": "https://localhost:8080/"
    },
    "id": "NB-V5Zv813zq",
    "outputId": "c7fd68d9-607e-4a21-fe36-2e795b7352cd"
   },
   "outputs": [
    {
     "name": "stdout",
     "output_type": "stream",
     "text": [
      " Sentence: מתי הייתי בחוץ בפעם האחרונה? אני תקוע בבית שבועיים.\n",
      "   Tokens: ['מתי', 'הייתי', 'בחוץ', 'בפעם', 'האחרונה', '?', 'אני', 'תקוע', 'בבית', 'שבועיים', '.']\n",
      "Token IDs: [2649, 2565, 5415, 5106, 4101, 35, 1876, 14244, 2308, 6988, 18]\n"
     ]
    }
   ],
   "source": [
    "tokens = alephbert_tokenizer.tokenize(sample_txt)\n",
    "token_ids = alephbert_tokenizer.convert_tokens_to_ids(tokens)\n",
    "print(f' Sentence: {sample_txt}')\n",
    "print(f'   Tokens: {tokens}')\n",
    "print(f'Token IDs: {token_ids}')"
   ]
  },
  {
   "cell_type": "code",
   "execution_count": 90,
   "metadata": {
    "colab": {
     "base_uri": "https://localhost:8080/"
    },
    "id": "gqzc8iQT1_JZ",
    "outputId": "551b7bdf-c816-47a1-c2ef-216b00c7c920"
   },
   "outputs": [
    {
     "data": {
      "text/plain": [
       "('[SEP]', 3)"
      ]
     },
     "execution_count": 90,
     "metadata": {},
     "output_type": "execute_result"
    }
   ],
   "source": [
    "alephbert_tokenizer.sep_token, alephbert_tokenizer.sep_token_id"
   ]
  },
  {
   "cell_type": "code",
   "execution_count": 91,
   "metadata": {
    "colab": {
     "base_uri": "https://localhost:8080/"
    },
    "id": "hxOoA2jJ2HBr",
    "outputId": "538504ea-c4af-43f2-fb86-1b76587ee6fd"
   },
   "outputs": [
    {
     "data": {
      "text/plain": [
       "('[CLS]', 2)"
      ]
     },
     "execution_count": 91,
     "metadata": {},
     "output_type": "execute_result"
    }
   ],
   "source": [
    "alephbert_tokenizer.cls_token, alephbert_tokenizer.cls_token_id"
   ]
  },
  {
   "cell_type": "code",
   "execution_count": 92,
   "metadata": {
    "colab": {
     "base_uri": "https://localhost:8080/"
    },
    "id": "4II1q8YI2LF-",
    "outputId": "9b37ae18-4411-4611-bbaf-937706b9831c"
   },
   "outputs": [
    {
     "data": {
      "text/plain": [
       "('[PAD]', 0)"
      ]
     },
     "execution_count": 92,
     "metadata": {},
     "output_type": "execute_result"
    }
   ],
   "source": [
    "alephbert_tokenizer.pad_token, alephbert_tokenizer.pad_token_id"
   ]
  },
  {
   "cell_type": "code",
   "execution_count": 93,
   "metadata": {
    "colab": {
     "base_uri": "https://localhost:8080/"
    },
    "id": "hnf_rXCg2Qn_",
    "outputId": "f0b1dc57-9ff0-40d4-9fa6-9830de38c7f2"
   },
   "outputs": [
    {
     "data": {
      "text/plain": [
       "('[UNK]', 1)"
      ]
     },
     "execution_count": 93,
     "metadata": {},
     "output_type": "execute_result"
    }
   ],
   "source": [
    "alephbert_tokenizer.unk_token, alephbert_tokenizer.unk_token_id"
   ]
  },
  {
   "cell_type": "code",
   "execution_count": 94,
   "metadata": {},
   "outputs": [
    {
     "name": "stdout",
     "output_type": "stream",
     "text": [
      "Collecting package metadata (current_repodata.json): ...working... done\n",
      "Solving environment: ...working... done\n",
      "\n",
      "# All requested packages already installed.\n",
      "\n",
      "\n",
      "Note: you may need to restart the kernel to use updated packages.\n"
     ]
    }
   ],
   "source": [
    "conda install -c conda-forge jupyterlab"
   ]
  },
  {
   "cell_type": "code",
   "execution_count": 95,
   "metadata": {
    "colab": {
     "base_uri": "https://localhost:8080/"
    },
    "id": "wSp-g3Q20KFg",
    "outputId": "6120c3a1-84fc-45d0-e4f5-207749278013",
    "scrolled": true
   },
   "outputs": [
    {
     "name": "stderr",
     "output_type": "stream",
     "text": [
      "Truncation was not explicitly activated but `max_length` is provided a specific value, please use `truncation=True` to explicitly truncate examples to max length. Defaulting to 'longest_first' truncation strategy. If you encode pairs of sequences (GLUE-style) with the tokenizer you can select this strategy more precisely by providing a specific strategy to `truncation`.\n",
      "C:\\Users\\User\\anaconda3\\lib\\site-packages\\transformers\\tokenization_utils_base.py:2304: FutureWarning: The `pad_to_max_length` argument is deprecated and will be removed in a future version, use `padding=True` or `padding='longest'` to pad to the longest sequence in the batch, or use `padding='max_length'` to pad to a max length. In this case, you can give a specific length with `max_length` (e.g. `max_length=45`) or leave max_length to None to pad to the maximal input size of the model (e.g. 512 for Bert).\n",
      "  warnings.warn(\n"
     ]
    },
    {
     "data": {
      "text/plain": [
       "dict_keys(['input_ids', 'attention_mask'])"
      ]
     },
     "execution_count": 95,
     "metadata": {},
     "output_type": "execute_result"
    }
   ],
   "source": [
    "encoding = alephbert_tokenizer.encode_plus(\n",
    "  sample_txt,\n",
    "  max_length=32,\n",
    "  add_special_tokens=True,\n",
    "  return_token_type_ids=False,\n",
    "  pad_to_max_length=True,\n",
    "  return_attention_mask=True,\n",
    "  return_tensors='pt', \n",
    ")\n",
    "encoding.keys()"
   ]
  },
  {
   "cell_type": "code",
   "execution_count": 96,
   "metadata": {
    "colab": {
     "base_uri": "https://localhost:8080/"
    },
    "id": "UiJQU4Ei284f",
    "outputId": "9c710c72-7d2b-4cb3-d4a6-a805e0ffa0b2"
   },
   "outputs": [
    {
     "name": "stdout",
     "output_type": "stream",
     "text": [
      "32\n"
     ]
    },
    {
     "data": {
      "text/plain": [
       "tensor([    2,  2649,  2565,  5415,  5106,  4101,    35,  1876, 14244,  2308,\n",
       "         6988,    18,     3,     0,     0,     0,     0,     0,     0,     0,\n",
       "            0,     0,     0,     0,     0,     0,     0,     0,     0,     0,\n",
       "            0,     0])"
      ]
     },
     "execution_count": 96,
     "metadata": {},
     "output_type": "execute_result"
    }
   ],
   "source": [
    "print(len(encoding['input_ids'][0]))\n",
    "encoding['input_ids'][0]"
   ]
  },
  {
   "cell_type": "code",
   "execution_count": 97,
   "metadata": {
    "colab": {
     "base_uri": "https://localhost:8080/"
    },
    "id": "Sq_QPBcu2_T1",
    "outputId": "8fc08073-d8cf-43ab-8b69-8bda46ab6333"
   },
   "outputs": [
    {
     "name": "stdout",
     "output_type": "stream",
     "text": [
      "32\n"
     ]
    },
    {
     "data": {
      "text/plain": [
       "tensor([[1, 1, 1, 1, 1, 1, 1, 1, 1, 1, 1, 1, 1, 0, 0, 0, 0, 0, 0, 0, 0, 0, 0, 0,\n",
       "         0, 0, 0, 0, 0, 0, 0, 0]])"
      ]
     },
     "execution_count": 97,
     "metadata": {},
     "output_type": "execute_result"
    }
   ],
   "source": [
    "print(len(encoding['attention_mask'][0]))\n",
    "encoding['attention_mask']"
   ]
  },
  {
   "cell_type": "code",
   "execution_count": 98,
   "metadata": {
    "colab": {
     "base_uri": "https://localhost:8080/"
    },
    "id": "6iOGpK5F3FEd",
    "outputId": "1ab65931-e28a-4476-e1da-70de06ed3360"
   },
   "outputs": [
    {
     "data": {
      "text/plain": [
       "['[CLS]',\n",
       " 'מתי',\n",
       " 'הייתי',\n",
       " 'בחוץ',\n",
       " 'בפעם',\n",
       " 'האחרונה',\n",
       " '?',\n",
       " 'אני',\n",
       " 'תקוע',\n",
       " 'בבית',\n",
       " 'שבועיים',\n",
       " '.',\n",
       " '[SEP]',\n",
       " '[PAD]',\n",
       " '[PAD]',\n",
       " '[PAD]',\n",
       " '[PAD]',\n",
       " '[PAD]',\n",
       " '[PAD]',\n",
       " '[PAD]',\n",
       " '[PAD]',\n",
       " '[PAD]',\n",
       " '[PAD]',\n",
       " '[PAD]',\n",
       " '[PAD]',\n",
       " '[PAD]',\n",
       " '[PAD]',\n",
       " '[PAD]',\n",
       " '[PAD]',\n",
       " '[PAD]',\n",
       " '[PAD]',\n",
       " '[PAD]']"
      ]
     },
     "execution_count": 98,
     "metadata": {},
     "output_type": "execute_result"
    }
   ],
   "source": [
    "alephbert_tokenizer.convert_ids_to_tokens(encoding['input_ids'][0])"
   ]
  },
  {
   "cell_type": "code",
   "execution_count": 99,
   "metadata": {
    "colab": {
     "base_uri": "https://localhost:8080/"
    },
    "id": "xCMUFy7m4rkh",
    "outputId": "0f067048-93a6-4927-d357-39be1cec65e1"
   },
   "outputs": [
    {
     "data": {
      "text/plain": [
       "10244"
      ]
     },
     "execution_count": 99,
     "metadata": {},
     "output_type": "execute_result"
    }
   ],
   "source": [
    "len(train_tokens)"
   ]
  },
  {
   "cell_type": "code",
   "execution_count": 100,
   "metadata": {
    "colab": {
     "base_uri": "https://localhost:8080/"
    },
    "id": "E8MFLqJa4iow",
    "outputId": "d69bb705-f126-4243-b059-8488aa980c39"
   },
   "outputs": [
    {
     "data": {
      "text/plain": [
       "2560"
      ]
     },
     "execution_count": 100,
     "metadata": {},
     "output_type": "execute_result"
    }
   ],
   "source": [
    "len(test_tokens)"
   ]
  },
  {
   "cell_type": "code",
   "execution_count": 101,
   "metadata": {
    "colab": {
     "base_uri": "https://localhost:8080/"
    },
    "id": "apkf8REy4xmw",
    "outputId": "34291107-6644-4da6-954e-a8f8b32567ca"
   },
   "outputs": [
    {
     "name": "stdout",
     "output_type": "stream",
     "text": [
      "12804\n"
     ]
    },
    {
     "data": {
      "text/plain": [
       "12804"
      ]
     },
     "execution_count": 101,
     "metadata": {},
     "output_type": "execute_result"
    }
   ],
   "source": [
    "tokens = np.append(train_tokens,test_tokens)\n",
    "tokens_tags = np.append(train_tags,test_tags)\n",
    "print(len(tokens))\n",
    "len(tokens_tags)"
   ]
  },
  {
   "cell_type": "code",
   "execution_count": 102,
   "metadata": {
    "id": "GDSHGD223Soz"
   },
   "outputs": [],
   "source": [
    "token_lens = []\n",
    "\n",
    "for txt in tokens:\n",
    "    tok = alephbert_tokenizer.encode(txt, max_length=512)\n",
    "    token_lens.append(len(tok))"
   ]
  },
  {
   "cell_type": "code",
   "execution_count": 103,
   "metadata": {
    "colab": {
     "base_uri": "https://localhost:8080/"
    },
    "id": "L5WoNsw955p_",
    "outputId": "f209a1a7-869e-442b-ee3a-3938836ed4eb"
   },
   "outputs": [
    {
     "data": {
      "text/plain": [
       "[17,\n",
       " 5,\n",
       " 6,\n",
       " 22,\n",
       " 10,\n",
       " 9,\n",
       " 33,\n",
       " 38,\n",
       " 18,\n",
       " 56,\n",
       " 5,\n",
       " 8,\n",
       " 38,\n",
       " 42,\n",
       " 49,\n",
       " 8,\n",
       " 3,\n",
       " 17,\n",
       " 11,\n",
       " 3,\n",
       " 22,\n",
       " 23,\n",
       " 12,\n",
       " 12,\n",
       " 28,\n",
       " 20,\n",
       " 20,\n",
       " 278,\n",
       " 81,\n",
       " 16,\n",
       " 7,\n",
       " 104,\n",
       " 10,\n",
       " 10,\n",
       " 6,\n",
       " 5,\n",
       " 40,\n",
       " 41,\n",
       " 27,\n",
       " 12,\n",
       " 25,\n",
       " 89,\n",
       " 14,\n",
       " 11,\n",
       " 15,\n",
       " 17,\n",
       " 12,\n",
       " 17,\n",
       " 23,\n",
       " 21,\n",
       " 72,\n",
       " 10,\n",
       " 7,\n",
       " 32,\n",
       " 11,\n",
       " 8,\n",
       " 61,\n",
       " 11,\n",
       " 8,\n",
       " 5,\n",
       " 26,\n",
       " 22,\n",
       " 10,\n",
       " 9,\n",
       " 9,\n",
       " 3,\n",
       " 11,\n",
       " 7,\n",
       " 32,\n",
       " 40,\n",
       " 11,\n",
       " 69,\n",
       " 14,\n",
       " 5,\n",
       " 21,\n",
       " 34,\n",
       " 27,\n",
       " 5,\n",
       " 27,\n",
       " 24,\n",
       " 21,\n",
       " 18,\n",
       " 38,\n",
       " 6,\n",
       " 66,\n",
       " 57,\n",
       " 22,\n",
       " 3,\n",
       " 56,\n",
       " 45,\n",
       " 10,\n",
       " 8,\n",
       " 14,\n",
       " 11,\n",
       " 16,\n",
       " 21,\n",
       " 14,\n",
       " 12,\n",
       " 12,\n",
       " 13,\n",
       " 33,\n",
       " 7,\n",
       " 11,\n",
       " 9,\n",
       " 35,\n",
       " 20,\n",
       " 12,\n",
       " 43,\n",
       " 31,\n",
       " 12,\n",
       " 5,\n",
       " 26,\n",
       " 14,\n",
       " 64,\n",
       " 22,\n",
       " 13,\n",
       " 72,\n",
       " 36,\n",
       " 8,\n",
       " 19,\n",
       " 9,\n",
       " 7,\n",
       " 20,\n",
       " 28,\n",
       " 40,\n",
       " 12,\n",
       " 3,\n",
       " 43,\n",
       " 13,\n",
       " 8,\n",
       " 54,\n",
       " 16,\n",
       " 5,\n",
       " 27,\n",
       " 435,\n",
       " 10,\n",
       " 14,\n",
       " 112,\n",
       " 15,\n",
       " 16,\n",
       " 19,\n",
       " 21,\n",
       " 61,\n",
       " 11,\n",
       " 20,\n",
       " 30,\n",
       " 7,\n",
       " 10,\n",
       " 9,\n",
       " 18,\n",
       " 24,\n",
       " 8,\n",
       " 7,\n",
       " 17,\n",
       " 23,\n",
       " 12,\n",
       " 10,\n",
       " 15,\n",
       " 14,\n",
       " 6,\n",
       " 5,\n",
       " 61,\n",
       " 14,\n",
       " 29,\n",
       " 31,\n",
       " 15,\n",
       " 44,\n",
       " 35,\n",
       " 12,\n",
       " 6,\n",
       " 8,\n",
       " 41,\n",
       " 60,\n",
       " 45,\n",
       " 6,\n",
       " 6,\n",
       " 33,\n",
       " 11,\n",
       " 14,\n",
       " 51,\n",
       " 19,\n",
       " 32,\n",
       " 3,\n",
       " 8,\n",
       " 31,\n",
       " 8,\n",
       " 81,\n",
       " 16,\n",
       " 17,\n",
       " 18,\n",
       " 7,\n",
       " 29,\n",
       " 14,\n",
       " 13,\n",
       " 214,\n",
       " 5,\n",
       " 11,\n",
       " 47,\n",
       " 36,\n",
       " 13,\n",
       " 5,\n",
       " 29,\n",
       " 30,\n",
       " 13,\n",
       " 13,\n",
       " 10,\n",
       " 5,\n",
       " 28,\n",
       " 9,\n",
       " 34,\n",
       " 32,\n",
       " 46,\n",
       " 16,\n",
       " 8,\n",
       " 37,\n",
       " 20,\n",
       " 14,\n",
       " 13,\n",
       " 15,\n",
       " 6,\n",
       " 7,\n",
       " 53,\n",
       " 11,\n",
       " 9,\n",
       " 26,\n",
       " 13,\n",
       " 4,\n",
       " 18,\n",
       " 18,\n",
       " 15,\n",
       " 40,\n",
       " 22,\n",
       " 13,\n",
       " 14,\n",
       " 8,\n",
       " 3,\n",
       " 22,\n",
       " 11,\n",
       " 14,\n",
       " 4,\n",
       " 16,\n",
       " 8,\n",
       " 98,\n",
       " 10,\n",
       " 185,\n",
       " 14,\n",
       " 23,\n",
       " 51,\n",
       " 14,\n",
       " 13,\n",
       " 36,\n",
       " 84,\n",
       " 20,\n",
       " 80,\n",
       " 11,\n",
       " 9,\n",
       " 59,\n",
       " 9,\n",
       " 12,\n",
       " 5,\n",
       " 22,\n",
       " 5,\n",
       " 10,\n",
       " 16,\n",
       " 21,\n",
       " 71,\n",
       " 6,\n",
       " 20,\n",
       " 40,\n",
       " 3,\n",
       " 25,\n",
       " 30,\n",
       " 7,\n",
       " 21,\n",
       " 53,\n",
       " 4,\n",
       " 46,\n",
       " 63,\n",
       " 35,\n",
       " 56,\n",
       " 16,\n",
       " 55,\n",
       " 12,\n",
       " 43,\n",
       " 27,\n",
       " 35,\n",
       " 15,\n",
       " 7,\n",
       " 4,\n",
       " 41,\n",
       " 58,\n",
       " 199,\n",
       " 17,\n",
       " 37,\n",
       " 29,\n",
       " 73,\n",
       " 30,\n",
       " 18,\n",
       " 7,\n",
       " 25,\n",
       " 77,\n",
       " 27,\n",
       " 23,\n",
       " 23,\n",
       " 8,\n",
       " 8,\n",
       " 7,\n",
       " 14,\n",
       " 51,\n",
       " 25,\n",
       " 40,\n",
       " 6,\n",
       " 17,\n",
       " 9,\n",
       " 18,\n",
       " 8,\n",
       " 26,\n",
       " 49,\n",
       " 5,\n",
       " 21,\n",
       " 7,\n",
       " 4,\n",
       " 12,\n",
       " 22,\n",
       " 17,\n",
       " 3,\n",
       " 5,\n",
       " 47,\n",
       " 59,\n",
       " 19,\n",
       " 12,\n",
       " 26,\n",
       " 63,\n",
       " 39,\n",
       " 7,\n",
       " 10,\n",
       " 16,\n",
       " 3,\n",
       " 59,\n",
       " 15,\n",
       " 99,\n",
       " 76,\n",
       " 21,\n",
       " 27,\n",
       " 45,\n",
       " 7,\n",
       " 16,\n",
       " 71,\n",
       " 13,\n",
       " 9,\n",
       " 23,\n",
       " 30,\n",
       " 59,\n",
       " 161,\n",
       " 9,\n",
       " 512,\n",
       " 15,\n",
       " 19,\n",
       " 15,\n",
       " 16,\n",
       " 27,\n",
       " 76,\n",
       " 7,\n",
       " 42,\n",
       " 6,\n",
       " 17,\n",
       " 14,\n",
       " 17,\n",
       " 17,\n",
       " 6,\n",
       " 19,\n",
       " 54,\n",
       " 31,\n",
       " 34,\n",
       " 73,\n",
       " 14,\n",
       " 4,\n",
       " 7,\n",
       " 27,\n",
       " 5,\n",
       " 3,\n",
       " 52,\n",
       " 29,\n",
       " 37,\n",
       " 5,\n",
       " 5,\n",
       " 32,\n",
       " 30,\n",
       " 19,\n",
       " 180,\n",
       " 103,\n",
       " 64,\n",
       " 21,\n",
       " 27,\n",
       " 44,\n",
       " 19,\n",
       " 11,\n",
       " 45,\n",
       " 8,\n",
       " 29,\n",
       " 43,\n",
       " 79,\n",
       " 49,\n",
       " 11,\n",
       " 7,\n",
       " 40,\n",
       " 5,\n",
       " 22,\n",
       " 5,\n",
       " 52,\n",
       " 18,\n",
       " 7,\n",
       " 24,\n",
       " 34,\n",
       " 10,\n",
       " 40,\n",
       " 17,\n",
       " 32,\n",
       " 15,\n",
       " 19,\n",
       " 59,\n",
       " 9,\n",
       " 68,\n",
       " 26,\n",
       " 5,\n",
       " 29,\n",
       " 86,\n",
       " 5,\n",
       " 14,\n",
       " 16,\n",
       " 12,\n",
       " 20,\n",
       " 13,\n",
       " 10,\n",
       " 15,\n",
       " 4,\n",
       " 8,\n",
       " 50,\n",
       " 17,\n",
       " 38,\n",
       " 38,\n",
       " 13,\n",
       " 10,\n",
       " 9,\n",
       " 23,\n",
       " 72,\n",
       " 22,\n",
       " 32,\n",
       " 6,\n",
       " 19,\n",
       " 12,\n",
       " 23,\n",
       " 8,\n",
       " 25,\n",
       " 13,\n",
       " 35,\n",
       " 7,\n",
       " 43,\n",
       " 38,\n",
       " 55,\n",
       " 88,\n",
       " 5,\n",
       " 15,\n",
       " 64,\n",
       " 10,\n",
       " 16,\n",
       " 4,\n",
       " 51,\n",
       " 23,\n",
       " 6,\n",
       " 5,\n",
       " 8,\n",
       " 95,\n",
       " 6,\n",
       " 52,\n",
       " 28,\n",
       " 10,\n",
       " 8,\n",
       " 8,\n",
       " 11,\n",
       " 5,\n",
       " 80,\n",
       " 14,\n",
       " 11,\n",
       " 18,\n",
       " 9,\n",
       " 31,\n",
       " 20,\n",
       " 35,\n",
       " 6,\n",
       " 12,\n",
       " 4,\n",
       " 18,\n",
       " 29,\n",
       " 20,\n",
       " 32,\n",
       " 56,\n",
       " 49,\n",
       " 6,\n",
       " 14,\n",
       " 24,\n",
       " 19,\n",
       " 11,\n",
       " 9,\n",
       " 6,\n",
       " 11,\n",
       " 75,\n",
       " 9,\n",
       " 8,\n",
       " 59,\n",
       " 4,\n",
       " 19,\n",
       " 7,\n",
       " 81,\n",
       " 23,\n",
       " 13,\n",
       " 26,\n",
       " 4,\n",
       " 36,\n",
       " 15,\n",
       " 7,\n",
       " 5,\n",
       " 41,\n",
       " 9,\n",
       " 6,\n",
       " 30,\n",
       " 9,\n",
       " 12,\n",
       " 32,\n",
       " 12,\n",
       " 24,\n",
       " 21,\n",
       " 7,\n",
       " 294,\n",
       " 5,\n",
       " 4,\n",
       " 4,\n",
       " 23,\n",
       " 19,\n",
       " 75,\n",
       " 33,\n",
       " 63,\n",
       " 32,\n",
       " 6,\n",
       " 9,\n",
       " 5,\n",
       " 3,\n",
       " 11,\n",
       " 207,\n",
       " 21,\n",
       " 6,\n",
       " 10,\n",
       " 9,\n",
       " 36,\n",
       " 5,\n",
       " 15,\n",
       " 14,\n",
       " 10,\n",
       " 199,\n",
       " 56,\n",
       " 5,\n",
       " 81,\n",
       " 6,\n",
       " 44,\n",
       " 14,\n",
       " 6,\n",
       " 8,\n",
       " 12,\n",
       " 13,\n",
       " 27,\n",
       " 419,\n",
       " 74,\n",
       " 9,\n",
       " 31,\n",
       " 11,\n",
       " 21,\n",
       " 6,\n",
       " 30,\n",
       " 25,\n",
       " 63,\n",
       " 9,\n",
       " 14,\n",
       " 21,\n",
       " 18,\n",
       " 29,\n",
       " 27,\n",
       " 14,\n",
       " 66,\n",
       " 12,\n",
       " 4,\n",
       " 36,\n",
       " 27,\n",
       " 20,\n",
       " 77,\n",
       " 19,\n",
       " 52,\n",
       " 13,\n",
       " 116,\n",
       " 8,\n",
       " 8,\n",
       " 4,\n",
       " 5,\n",
       " 14,\n",
       " 19,\n",
       " 17,\n",
       " 17,\n",
       " 76,\n",
       " 24,\n",
       " 24,\n",
       " 29,\n",
       " 7,\n",
       " 8,\n",
       " 17,\n",
       " 15,\n",
       " 6,\n",
       " 8,\n",
       " 73,\n",
       " 9,\n",
       " 9,\n",
       " 20,\n",
       " 16,\n",
       " 18,\n",
       " 54,\n",
       " 9,\n",
       " 11,\n",
       " 51,\n",
       " 9,\n",
       " 13,\n",
       " 13,\n",
       " 9,\n",
       " 9,\n",
       " 16,\n",
       " 61,\n",
       " 5,\n",
       " 18,\n",
       " 52,\n",
       " 45,\n",
       " 3,\n",
       " 14,\n",
       " 43,\n",
       " 17,\n",
       " 37,\n",
       " 29,\n",
       " 4,\n",
       " 9,\n",
       " 23,\n",
       " 29,\n",
       " 5,\n",
       " 14,\n",
       " 14,\n",
       " 12,\n",
       " 42,\n",
       " 7,\n",
       " 61,\n",
       " 8,\n",
       " 12,\n",
       " 5,\n",
       " 23,\n",
       " 15,\n",
       " 278,\n",
       " 25,\n",
       " 44,\n",
       " 56,\n",
       " 24,\n",
       " 297,\n",
       " 37,\n",
       " 14,\n",
       " 32,\n",
       " 5,\n",
       " 25,\n",
       " 13,\n",
       " 5,\n",
       " 11,\n",
       " 19,\n",
       " 67,\n",
       " 7,\n",
       " 7,\n",
       " 15,\n",
       " 24,\n",
       " 22,\n",
       " 26,\n",
       " 26,\n",
       " 28,\n",
       " 6,\n",
       " 25,\n",
       " 32,\n",
       " 32,\n",
       " 23,\n",
       " 15,\n",
       " 179,\n",
       " 25,\n",
       " 9,\n",
       " 20,\n",
       " 13,\n",
       " 10,\n",
       " 29,\n",
       " 21,\n",
       " 18,\n",
       " 73,\n",
       " 77,\n",
       " 21,\n",
       " 27,\n",
       " 23,\n",
       " 74,\n",
       " 78,\n",
       " 36,\n",
       " 5,\n",
       " 9,\n",
       " 36,\n",
       " 3,\n",
       " 41,\n",
       " 5,\n",
       " 4,\n",
       " 113,\n",
       " 8,\n",
       " 13,\n",
       " 8,\n",
       " 21,\n",
       " 7,\n",
       " 11,\n",
       " 4,\n",
       " 5,\n",
       " 5,\n",
       " 49,\n",
       " 49,\n",
       " 20,\n",
       " 173,\n",
       " 73,\n",
       " 6,\n",
       " 15,\n",
       " 116,\n",
       " 7,\n",
       " 10,\n",
       " 11,\n",
       " 18,\n",
       " 21,\n",
       " 11,\n",
       " 99,\n",
       " 29,\n",
       " 33,\n",
       " 4,\n",
       " 3,\n",
       " 8,\n",
       " 11,\n",
       " 6,\n",
       " 12,\n",
       " 27,\n",
       " 8,\n",
       " 35,\n",
       " 29,\n",
       " 56,\n",
       " 34,\n",
       " 4,\n",
       " 15,\n",
       " 30,\n",
       " 9,\n",
       " 10,\n",
       " 49,\n",
       " 18,\n",
       " 10,\n",
       " 23,\n",
       " 231,\n",
       " 19,\n",
       " 359,\n",
       " 6,\n",
       " 32,\n",
       " 12,\n",
       " 15,\n",
       " 6,\n",
       " 135,\n",
       " 10,\n",
       " 11,\n",
       " 27,\n",
       " 62,\n",
       " 23,\n",
       " 36,\n",
       " 28,\n",
       " 40,\n",
       " 32,\n",
       " 78,\n",
       " 12,\n",
       " 18,\n",
       " 121,\n",
       " 8,\n",
       " 4,\n",
       " 63,\n",
       " 12,\n",
       " 13,\n",
       " 22,\n",
       " 12,\n",
       " 5,\n",
       " 42,\n",
       " 35,\n",
       " 5,\n",
       " 104,\n",
       " 70,\n",
       " 18,\n",
       " 7,\n",
       " 11,\n",
       " 11,\n",
       " 13,\n",
       " 51,\n",
       " 56,\n",
       " 47,\n",
       " 16,\n",
       " 23,\n",
       " 6,\n",
       " 10,\n",
       " 14,\n",
       " 6,\n",
       " 105,\n",
       " 21,\n",
       " 27,\n",
       " 7,\n",
       " 20,\n",
       " 13,\n",
       " 11,\n",
       " 5,\n",
       " 6,\n",
       " 10,\n",
       " 11,\n",
       " 25,\n",
       " 25,\n",
       " 9,\n",
       " 12,\n",
       " 14,\n",
       " 46,\n",
       " 16,\n",
       " 56,\n",
       " 14,\n",
       " 14,\n",
       " 12,\n",
       " 21,\n",
       " 31,\n",
       " 10,\n",
       " 5,\n",
       " 8,\n",
       " 41,\n",
       " 5,\n",
       " 9,\n",
       " 15,\n",
       " 13,\n",
       " 10,\n",
       " 45,\n",
       " 14,\n",
       " 12,\n",
       " 12,\n",
       " 9,\n",
       " 61,\n",
       " 9,\n",
       " 12,\n",
       " 32,\n",
       " 5,\n",
       " 13,\n",
       " 7,\n",
       " 10,\n",
       " 20,\n",
       " 9,\n",
       " 32,\n",
       " 32,\n",
       " 20,\n",
       " 6,\n",
       " 7,\n",
       " 40,\n",
       " 94,\n",
       " 26,\n",
       " 4,\n",
       " 8,\n",
       " 31,\n",
       " 157,\n",
       " 18,\n",
       " 24,\n",
       " 8,\n",
       " 3,\n",
       " 45,\n",
       " 18,\n",
       " 5,\n",
       " 13,\n",
       " 15,\n",
       " 28,\n",
       " 13,\n",
       " 20,\n",
       " 12,\n",
       " 8,\n",
       " 22,\n",
       " 36,\n",
       " 156,\n",
       " 16,\n",
       " 46,\n",
       " 5,\n",
       " 3,\n",
       " 25,\n",
       " 103,\n",
       " 3,\n",
       " 36,\n",
       " 49,\n",
       " 4,\n",
       " 5,\n",
       " 14,\n",
       " 12,\n",
       " 38,\n",
       " 32,\n",
       " 25,\n",
       " 10,\n",
       " 7,\n",
       " 5,\n",
       " 9,\n",
       " 11,\n",
       " 83,\n",
       " 7,\n",
       " 3,\n",
       " 17,\n",
       " 6,\n",
       " 16,\n",
       " 17,\n",
       " 16,\n",
       " 4,\n",
       " 48,\n",
       " 8,\n",
       " 7,\n",
       " 13,\n",
       " 27,\n",
       " 13,\n",
       " 9,\n",
       " 61,\n",
       " 16,\n",
       " 4,\n",
       " 16,\n",
       " 15,\n",
       " 18,\n",
       " 13,\n",
       " 37,\n",
       " 3,\n",
       " 9,\n",
       " 4,\n",
       " 18,\n",
       " 34,\n",
       " 39,\n",
       " 15,\n",
       " 8,\n",
       " 49,\n",
       " 6,\n",
       " 31,\n",
       " 512,\n",
       " 4,\n",
       " 56,\n",
       " 18,\n",
       " 20,\n",
       " 204,\n",
       " 12,\n",
       " 10,\n",
       " 16,\n",
       " 14,\n",
       " 6,\n",
       " 18,\n",
       " 8,\n",
       " 41,\n",
       " 5,\n",
       " 15,\n",
       " 25,\n",
       " 119,\n",
       " 10,\n",
       " 42,\n",
       " 52,\n",
       " 28,\n",
       " 128,\n",
       " 67,\n",
       " 8,\n",
       " 50,\n",
       " 60,\n",
       " 5,\n",
       " 21,\n",
       " 4,\n",
       " 31,\n",
       " 14,\n",
       " 6,\n",
       " 14,\n",
       " 24,\n",
       " 4,\n",
       " 12,\n",
       " 12,\n",
       " 5,\n",
       " 20,\n",
       " 34,\n",
       " 5,\n",
       " 22,\n",
       " 11,\n",
       " 15,\n",
       " 54,\n",
       " 33,\n",
       " 27,\n",
       " 11,\n",
       " 16,\n",
       " 92,\n",
       " 7,\n",
       " 9,\n",
       " 17,\n",
       " 82,\n",
       " 39,\n",
       " 19,\n",
       " ...]"
      ]
     },
     "execution_count": 103,
     "metadata": {},
     "output_type": "execute_result"
    }
   ],
   "source": [
    "token_lens"
   ]
  },
  {
   "cell_type": "code",
   "execution_count": 158,
   "metadata": {
    "colab": {
     "base_uri": "https://localhost:8080/",
     "height": 640
    },
    "id": "7HwPgOgd6KAj",
    "outputId": "a7b20ee7-6cbd-4557-d5a6-b87336fafadc"
   },
   "outputs": [
    {
     "data": {
      "text/plain": [
       "Text(0.5, 0, 'Token count')"
      ]
     },
     "execution_count": 158,
     "metadata": {},
     "output_type": "execute_result"
    },
    {
     "data": {
      "image/png": "[encoded data removed]",
      "text/plain": [
       "<Figure size 640x480 with 1 Axes>"
      ]
     },
     "metadata": {},
     "output_type": "display_data"
    }
   ],
   "source": [
    "sns.histplot(token_lens)\n",
    "plt.xlim([0, 256])\n",
    "plt.xlabel('Token count')"
   ]
  },
  {
   "cell_type": "code",
   "execution_count": 106,
   "metadata": {
    "id": "LAF38y9lEu92"
   },
   "outputs": [],
   "source": [
    "MAX_LEN = 160"
   ]
  },
  {
   "cell_type": "code",
   "execution_count": 107,
   "metadata": {},
   "outputs": [],
   "source": [
    "import torch"
   ]
  },
  {
   "cell_type": "code",
   "execution_count": 108,
   "metadata": {},
   "outputs": [
    {
     "data": {
      "text/plain": [
       "'2.0.0'"
      ]
     },
     "execution_count": 108,
     "metadata": {},
     "output_type": "execute_result"
    }
   ],
   "source": [
    "torch.__version__"
   ]
  },
  {
   "cell_type": "code",
   "execution_count": 109,
   "metadata": {},
   "outputs": [
    {
     "name": "stdout",
     "output_type": "stream",
     "text": [
      "The tensorboard extension is already loaded. To reload it, use:\n",
      "  %reload_ext tensorboard\n"
     ]
    }
   ],
   "source": [
    "!pip install -q tb-nightly\n",
    "%load_ext tensorboard"
   ]
  },
  {
   "cell_type": "code",
   "execution_count": 110,
   "metadata": {
    "id": "2W4kEMBf8uxp"
   },
   "outputs": [],
   "source": [
    "import torch\n",
    "from torch.utils.data import Dataset, DataLoader"
   ]
  },
  {
   "cell_type": "code",
   "execution_count": 111,
   "metadata": {
    "id": "ydSdPKeT8m6k"
   },
   "outputs": [],
   "source": [
    "class GPReviewDataset(Dataset):\n",
    "    def __init__(self, reviews, targets, tokenizer, max_len):\n",
    "        self.reviews = reviews\n",
    "        self.targets = targets\n",
    "        self.tokenizer = tokenizer\n",
    "        self.max_len = max_len\n",
    "    def __len__(self):\n",
    "        return len(self.reviews)\n",
    "    def __getitem__(self, item):\n",
    "        review = str(self.reviews[item])\n",
    "        target = self.targets[item]\n",
    "        encoding = self.tokenizer.encode_plus(review, add_special_tokens=True, max_length=self.max_len, return_token_type_ids=False, pad_to_max_length=True, return_attention_mask=True, return_tensors='pt',)\n",
    "        return {\n",
    "            'review_text': review,\n",
    "            'input_ids': encoding['input_ids'].flatten(),\n",
    "            'attention_mask': encoding['attention_mask'].flatten(),\n",
    "            'targets': torch.tensor(target, dtype=torch.long)\n",
    "        }"
   ]
  },
  {
   "cell_type": "code",
   "execution_count": 112,
   "metadata": {
    "id": "wqbAsuMA87yj"
   },
   "outputs": [],
   "source": [
    "def create_data_loader(df,df_tags, tokenizer, max_len, batch_size):\n",
    "    ds = GPReviewDataset(\n",
    "        #reviews=df.to_numpy(),\n",
    "        #targets=df_tags.to_numpy(),\n",
    "        reviews=df,\n",
    "        targets=df_tags,   \n",
    "        tokenizer=tokenizer,\n",
    "        max_len=max_len\n",
    "      )\n",
    "    return DataLoader(\n",
    "        ds,\n",
    "        batch_size=batch_size,\n",
    "        #windows\n",
    "        num_workers=0\n",
    "        #colab\n",
    "        #num_workers=4\n",
    "      )"
   ]
  },
  {
   "cell_type": "code",
   "execution_count": 113,
   "metadata": {},
   "outputs": [
    {
     "name": "stdout",
     "output_type": "stream",
     "text": [
      "Requirement already satisfied: scikit-learn in c:\\users\\user\\anaconda3\\lib\\site-packages (1.2.2)\n",
      "Requirement already satisfied: numpy>=1.17.3 in c:\\users\\user\\anaconda3\\lib\\site-packages (from scikit-learn) (1.21.5)\n",
      "Requirement already satisfied: threadpoolctl>=2.0.0 in c:\\users\\user\\anaconda3\\lib\\site-packages (from scikit-learn) (2.2.0)\n",
      "Requirement already satisfied: joblib>=1.1.1 in c:\\users\\user\\anaconda3\\lib\\site-packages (from scikit-learn) (1.2.0)\n",
      "Requirement already satisfied: scipy>=1.3.2 in c:\\users\\user\\anaconda3\\lib\\site-packages (from scikit-learn) (1.9.1)\n"
     ]
    }
   ],
   "source": [
    "!pip install -U scikit-learn"
   ]
  },
  {
   "cell_type": "code",
   "execution_count": 114,
   "metadata": {
    "id": "CUKJqpdO--sz"
   },
   "outputs": [],
   "source": [
    "from sklearn.model_selection import train_test_split"
   ]
  },
  {
   "cell_type": "code",
   "execution_count": 115,
   "metadata": {
    "id": "bRXuwV6m_cPB"
   },
   "outputs": [],
   "source": [
    "x_val, x_test , Y_val, Y_test = train_test_split(test_tokens, test_tags, test_size = 0.2, random_state = 42)  "
   ]
  },
  {
   "cell_type": "code",
   "execution_count": 116,
   "metadata": {
    "colab": {
     "base_uri": "https://localhost:8080/"
    },
    "id": "f7VZXCGe-W2s",
    "outputId": "6e03c374-f47c-489a-882c-77aaebae8f3a"
   },
   "outputs": [],
   "source": [
    "BATCH_SIZE = 16\n",
    "\n",
    "train_data_loader = create_data_loader(train_tokens, train_tags, alephbert_tokenizer, MAX_LEN, BATCH_SIZE)\n",
    "val_data_loader = create_data_loader(x_val,Y_val, alephbert_tokenizer, MAX_LEN, BATCH_SIZE)\n",
    "test_data_loader = create_data_loader(x_test,Y_test, alephbert_tokenizer, MAX_LEN, BATCH_SIZE)"
   ]
  },
  {
   "cell_type": "code",
   "execution_count": 117,
   "metadata": {
    "colab": {
     "base_uri": "https://localhost:8080/"
    },
    "id": "WEFc1a4TBWme",
    "outputId": "b51d0537-74f6-4a93-ae3b-e2a2863950fe"
   },
   "outputs": [
    {
     "data": {
      "text/plain": [
       "dict_keys(['review_text', 'input_ids', 'attention_mask', 'targets'])"
      ]
     },
     "execution_count": 117,
     "metadata": {},
     "output_type": "execute_result"
    }
   ],
   "source": [
    "data = next(iter(train_data_loader))\n",
    "data.keys()"
   ]
  },
  {
   "cell_type": "code",
   "execution_count": 118,
   "metadata": {
    "colab": {
     "base_uri": "https://localhost:8080/"
    },
    "id": "3xymZSFnBdN3",
    "outputId": "6d6b173b-88d7-4afd-f219-9d140c8674d2"
   },
   "outputs": [
    {
     "name": "stdout",
     "output_type": "stream",
     "text": [
      "torch.Size([16, 160])\n",
      "torch.Size([16, 160])\n",
      "torch.Size([16])\n"
     ]
    }
   ],
   "source": [
    "print(data['input_ids'].shape)\n",
    "print(data['attention_mask'].shape)\n",
    "print(data['targets'].shape)"
   ]
  },
  {
   "cell_type": "code",
   "execution_count": 119,
   "metadata": {
    "id": "2W9CT3K-BgO3"
   },
   "outputs": [],
   "source": [
    "#alephbert\n",
    "last_hidden_state, pooled_output = alephbert(\n",
    "  input_ids=encoding['input_ids'],\n",
    "  attention_mask=encoding['attention_mask']\n",
    ")"
   ]
  },
  {
   "cell_type": "code",
   "execution_count": 120,
   "metadata": {
    "colab": {
     "base_uri": "https://localhost:8080/"
    },
    "id": "BY7CzHO3Bs7G",
    "outputId": "7b1b7845-8d82-4ada-fb00-86ec0f68c194"
   },
   "outputs": [
    {
     "data": {
      "text/plain": [
       "768"
      ]
     },
     "execution_count": 120,
     "metadata": {},
     "output_type": "execute_result"
    }
   ],
   "source": [
    "alephbert.config.hidden_size"
   ]
  },
  {
   "cell_type": "code",
   "execution_count": 121,
   "metadata": {
    "id": "XnCezfGnDL_Q"
   },
   "outputs": [],
   "source": [
    "from torch import nn, optim"
   ]
  },
  {
   "cell_type": "code",
   "execution_count": 122,
   "metadata": {
    "id": "LM6R4LoWCkbS"
   },
   "outputs": [],
   "source": [
    "class SentimentClassifier(nn.Module):\n",
    "    def __init__(self, n_classes):\n",
    "        super(SentimentClassifier, self).__init__()\n",
    "        self.bert = BertModel.from_pretrained('onlplab/alephbert-base', return_dict=False)\n",
    "        self.drop = nn.Dropout(p=0.3)\n",
    "        self.out = nn.Linear(self.bert.config.hidden_size, n_classes)\n",
    "    def forward(self, input_ids, attention_mask):\n",
    "        _, pooled_output = self.bert(input_ids=input_ids,attention_mask=attention_mask)\n",
    "        output = self.drop(pooled_output)\n",
    "        return self.out(output)"
   ]
  },
  {
   "cell_type": "code",
   "execution_count": 123,
   "metadata": {
    "colab": {
     "base_uri": "https://localhost:8080/"
    },
    "id": "66TS7xJQDZfe",
    "outputId": "5c775763-f8df-4598-8110-e0b82fd9ad5c"
   },
   "outputs": [
    {
     "name": "stderr",
     "output_type": "stream",
     "text": [
      "Some weights of the model checkpoint at onlplab/alephbert-base were not used when initializing BertModel: ['cls.predictions.transform.LayerNorm.bias', 'cls.predictions.decoder.bias', 'cls.predictions.decoder.weight', 'cls.predictions.bias', 'cls.predictions.transform.LayerNorm.weight', 'cls.predictions.transform.dense.weight', 'cls.predictions.transform.dense.bias']\n",
      "- This IS expected if you are initializing BertModel from the checkpoint of a model trained on another task or with another architecture (e.g. initializing a BertForSequenceClassification model from a BertForPreTraining model).\n",
      "- This IS NOT expected if you are initializing BertModel from the checkpoint of a model that you expect to be exactly identical (initializing a BertForSequenceClassification model from a BertForSequenceClassification model).\n",
      "Some weights of BertModel were not initialized from the model checkpoint at onlplab/alephbert-base and are newly initialized: ['bert.pooler.dense.weight', 'bert.pooler.dense.bias']\n",
      "You should probably TRAIN this model on a down-stream task to be able to use it for predictions and inference.\n"
     ]
    }
   ],
   "source": [
    "class_names = ['negative', 'neutral', 'positive']\n",
    "device = torch.device(\"cuda:0\" if torch.cuda.is_available() else \"cpu\")\n",
    "\n",
    "model = SentimentClassifier(len(class_names))\n",
    "model = model.to(device)"
   ]
  },
  {
   "cell_type": "code",
   "execution_count": 124,
   "metadata": {
    "colab": {
     "base_uri": "https://localhost:8080/"
    },
    "id": "sqEofX2mEHJM",
    "outputId": "19811362-5829-47f1-9847-c3e7828428cc"
   },
   "outputs": [
    {
     "name": "stdout",
     "output_type": "stream",
     "text": [
      "torch.Size([16, 160])\n",
      "torch.Size([16, 160])\n"
     ]
    }
   ],
   "source": [
    "input_ids = data['input_ids'].to(device)\n",
    "attention_mask = data['attention_mask'].to(device)\n",
    "print(input_ids.shape)\n",
    "print(attention_mask.shape)"
   ]
  },
  {
   "cell_type": "code",
   "execution_count": 125,
   "metadata": {
    "colab": {
     "base_uri": "https://localhost:8080/"
    },
    "id": "yp9trpQPEW9n",
    "outputId": "c546b51d-3ad8-4117-8820-02f5202ec397"
   },
   "outputs": [
    {
     "data": {
      "text/plain": [
       "tensor([[0.2666, 0.4412, 0.2922],\n",
       "        [0.2675, 0.4163, 0.3162],\n",
       "        [0.3344, 0.4198, 0.2459],\n",
       "        [0.3567, 0.4265, 0.2168],\n",
       "        [0.2756, 0.3846, 0.3398],\n",
       "        [0.2818, 0.4029, 0.3153],\n",
       "        [0.2621, 0.4466, 0.2913],\n",
       "        [0.2223, 0.5424, 0.2353],\n",
       "        [0.2270, 0.5146, 0.2584],\n",
       "        [0.1856, 0.6322, 0.1821],\n",
       "        [0.2215, 0.4511, 0.3275],\n",
       "        [0.2291, 0.3877, 0.3832],\n",
       "        [0.1840, 0.5054, 0.3106],\n",
       "        [0.2937, 0.3725, 0.3338],\n",
       "        [0.3259, 0.3888, 0.2853],\n",
       "        [0.2619, 0.4584, 0.2796]], grad_fn=<SoftmaxBackward0>)"
      ]
     },
     "execution_count": 125,
     "metadata": {},
     "output_type": "execute_result"
    }
   ],
   "source": [
    "torch.nn.functional.softmax(model(input_ids, attention_mask), dim=1)"
   ]
  },
  {
   "cell_type": "code",
   "execution_count": 126,
   "metadata": {
    "id": "Q5B1E5d8Kb-w"
   },
   "outputs": [],
   "source": [
    "from transformers import AdamW, get_linear_schedule_with_warmup"
   ]
  },
  {
   "cell_type": "code",
   "execution_count": 127,
   "metadata": {
    "colab": {
     "base_uri": "https://localhost:8080/"
    },
    "id": "B27OleGDKOZC",
    "outputId": "991e9cac-0e4f-4b97-eaa8-aebf673ab85e"
   },
   "outputs": [
    {
     "name": "stderr",
     "output_type": "stream",
     "text": [
      "C:\\Users\\User\\anaconda3\\lib\\site-packages\\transformers\\optimization.py:306: FutureWarning: This implementation of AdamW is deprecated and will be removed in a future version. Use the PyTorch implementation torch.optim.AdamW instead, or set `no_deprecation_warning=True` to disable this warning\n",
      "  warnings.warn(\n"
     ]
    }
   ],
   "source": [
    "EPOCHS = 10\n",
    "optimizer = AdamW(model.parameters(), lr=2e-5, correct_bias=False)\n",
    "total_steps = len(train_data_loader) * EPOCHS\n",
    "scheduler = get_linear_schedule_with_warmup(\n",
    "  optimizer,\n",
    "  num_warmup_steps=0,\n",
    "  num_training_steps=total_steps\n",
    ")\n",
    "loss_fn = nn.CrossEntropyLoss().to(device)"
   ]
  },
  {
   "cell_type": "code",
   "execution_count": 128,
   "metadata": {
    "id": "fAyf3AuGKhEa"
   },
   "outputs": [],
   "source": [
    "def train_epoch(model, data_loader,  loss_fn, optimizer, device, scheduler, n_examples):\n",
    "    model = model.train()\n",
    "    losses = []\n",
    "    correct_predictions = 0\n",
    "    for d in data_loader:\n",
    "        input_ids = d[\"input_ids\"].to(device)\n",
    "        attention_mask = d[\"attention_mask\"].to(device)\n",
    "        targets = d[\"targets\"].to(device)\n",
    "        outputs = model(input_ids=input_ids, attention_mask=attention_mask)\n",
    "        _, preds = torch.max(outputs, dim=1)\n",
    "        loss = loss_fn(outputs, targets)\n",
    "        correct_predictions += torch.sum(preds == targets)\n",
    "        losses.append(loss.item())\n",
    "        loss.backward()\n",
    "        nn.utils.clip_grad_norm_(model.parameters(), max_norm=1.0)\n",
    "        optimizer.step()\n",
    "        scheduler.step()\n",
    "        optimizer.zero_grad()\n",
    "    return correct_predictions.double() / n_examples, np.mean(losses)"
   ]
  },
  {
   "cell_type": "code",
   "execution_count": 129,
   "metadata": {
    "id": "PzLkIVudKqw1"
   },
   "outputs": [],
   "source": [
    "def eval_model(model, data_loader, loss_fn, device, n_examples):\n",
    "    model = model.eval()\n",
    "    losses = []\n",
    "    correct_predictions = 0\n",
    "    with torch.no_grad():\n",
    "        for d in data_loader:\n",
    "            input_ids = d[\"input_ids\"].to(device)\n",
    "            attention_mask = d[\"attention_mask\"].to(device)\n",
    "            targets = d[\"targets\"].to(device)\n",
    "            outputs = model(input_ids=input_ids, attention_mask=attention_mask)\n",
    "            _, preds = torch.max(outputs, dim=1)\n",
    "            loss = loss_fn(outputs, targets)\n",
    "            correct_predictions += torch.sum(preds == targets)\n",
    "            losses.append(loss.item())\n",
    "    return correct_predictions.double() / n_examples, np.mean(losses)"
   ]
  },
  {
   "cell_type": "code",
   "execution_count": 130,
   "metadata": {
    "id": "K7xQpSDDLA6S"
   },
   "outputs": [],
   "source": [
    "from collections import defaultdict"
   ]
  },
  {
   "cell_type": "code",
   "execution_count": 131,
   "metadata": {
    "colab": {
     "base_uri": "https://localhost:8080/"
    },
    "id": "ntR8yfw-KyYc",
    "outputId": "ff000203-9758-4e9a-a529-71726e3ad9d1"
   },
   "outputs": [
    {
     "name": "stdout",
     "output_type": "stream",
     "text": [
      "Epoch 1/10\n",
      "----------\n",
      "Train loss 0.34114047134797815 accuracy 0.8753416634127295\n",
      "Val   loss 0.24573446637805318 accuracy 0.912109375\n",
      "\n",
      "Epoch 2/10\n",
      "----------\n",
      "Train loss 0.130673733095467 accuracy 0.9633932057789926\n",
      "Val   loss 0.2950528096362177 accuracy 0.9296875\n",
      "\n",
      "Epoch 3/10\n",
      "----------\n",
      "Train loss 0.051474495326690434 accuracy 0.9875048809058962\n",
      "Val   loss 0.3327412476310201 accuracy 0.93896484375\n",
      "\n",
      "Epoch 4/10\n",
      "----------\n",
      "Train loss 0.02619118243517182 accuracy 0.9945333853963295\n",
      "Val   loss 0.368918874353767 accuracy 0.943359375\n",
      "\n",
      "Epoch 5/10\n",
      "----------\n",
      "Train loss 0.020082766274667697 accuracy 0.9961928934010152\n",
      "Val   loss 0.3871973851740904 accuracy 0.94091796875\n",
      "\n",
      "Epoch 6/10\n",
      "----------\n",
      "Train loss 0.008240785010518342 accuracy 0.9983404919953144\n",
      "Val   loss 0.43562916989094447 accuracy 0.9423828125\n",
      "\n",
      "Epoch 7/10\n",
      "----------\n",
      "Train loss 0.005673512294342289 accuracy 0.9985357282311597\n",
      "Val   loss 0.4313502742583353 accuracy 0.94287109375\n",
      "\n",
      "Epoch 8/10\n",
      "----------\n",
      "Train loss 0.004100224504589834 accuracy 0.9992190550566185\n",
      "Val   loss 0.43648791117928454 accuracy 0.943359375\n",
      "\n",
      "Epoch 9/10\n",
      "----------\n",
      "Train loss 0.002457132555571437 accuracy 0.9992190550566185\n",
      "Val   loss 0.44376324441563497 accuracy 0.9423828125\n",
      "\n",
      "Epoch 10/10\n",
      "----------\n",
      "Train loss 0.00165347399204098 accuracy 0.9994142912924638\n",
      "Val   loss 0.44987028642982807 accuracy 0.94287109375\n",
      "\n",
      "Wall time: 8h 50min 18s\n"
     ]
    }
   ],
   "source": [
    "%%time\n",
    "history = defaultdict(list)\n",
    "best_accuracy = 0\n",
    "for epoch in range(EPOCHS):\n",
    "    print(f'Epoch {epoch + 1}/{EPOCHS}')\n",
    "    print('-' * 10)\n",
    "    train_acc, train_loss = train_epoch(model, train_data_loader, loss_fn, optimizer, device, scheduler, len(train_tokens))\n",
    "    print(f'Train loss {train_loss} accuracy {train_acc}')\n",
    "    val_acc, val_loss = eval_model(model, val_data_loader, loss_fn, device, len(x_val))\n",
    "    print(f'Val   loss {val_loss} accuracy {val_acc}')\n",
    "    print()\n",
    "    history['train_acc'].append(train_acc)\n",
    "    history['train_loss'].append(train_loss)\n",
    "    history['val_acc'].append(val_acc)\n",
    "    history['val_loss'].append(val_loss)\n",
    "    if val_acc > best_accuracy:\n",
    "        torch.save(model.state_dict(), 'best_model_state.bin')\n",
    "        best_accuracy = val_acc"
   ]
  },
  {
   "cell_type": "code",
   "execution_count": 132,
   "metadata": {
    "id": "5hFC6uFSNB50"
   },
   "outputs": [
    {
     "data": {
      "image/png": "[encoded data removed]",
      "text/plain": [
       "<Figure size 640x480 with 1 Axes>"
      ]
     },
     "metadata": {},
     "output_type": "display_data"
    }
   ],
   "source": [
    "plt.plot(history['train_acc'], label='train accuracy')\n",
    "plt.plot(history['val_acc'], label='validation accuracy')\n",
    "plt.title('Training history')\n",
    "plt.ylabel('Accuracy')\n",
    "plt.xlabel('Epoch')\n",
    "plt.legend()\n",
    "plt.ylim([0, 1]);"
   ]
  },
  {
   "cell_type": "code",
   "execution_count": 152,
   "metadata": {
    "id": "5M4GgWDxNKPF"
   },
   "outputs": [
    {
     "data": {
      "text/plain": [
       "<All keys matched successfully>"
      ]
     },
     "execution_count": 152,
     "metadata": {},
     "output_type": "execute_result"
    }
   ],
   "source": [
    "model.load_state_dict(torch.load('best_model_state.bin'))"
   ]
  },
  {
   "cell_type": "code",
   "execution_count": 154,
   "metadata": {},
   "outputs": [],
   "source": [
    "test_acc, test_loss = eval_model(model, test_data_loader, loss_fn, device, len(x_test))"
   ]
  },
  {
   "cell_type": "code",
   "execution_count": 155,
   "metadata": {},
   "outputs": [
    {
     "name": "stdout",
     "output_type": "stream",
     "text": [
      "Val   loss 0.3450132042844416 accuracy 0.94921875\n"
     ]
    }
   ],
   "source": [
    "print(f'Val   loss {test_loss} accuracy {test_acc}')"
   ]
  },
  {
   "cell_type": "code",
   "execution_count": null,
   "metadata": {},
   "outputs": [],
   "source": []
  }
 ],
 "metadata": {
  "colab": {
   "provenance": []
  },
  "kernelspec": {
   "display_name": "Python 3 (ipykernel)",
   "language": "python",
   "name": "python3"
  },
  "language_info": {
   "codemirror_mode": {
    "name": "ipython",
    "version": 3
   },
   "file_extension": ".py",
   "mimetype": "text/x-python",
   "name": "python",
   "nbconvert_exporter": "python",
   "pygments_lexer": "ipython3",
   "version": "3.9.16"
  }
 },
 "nbformat": 4,
 "nbformat_minor": 4
}
