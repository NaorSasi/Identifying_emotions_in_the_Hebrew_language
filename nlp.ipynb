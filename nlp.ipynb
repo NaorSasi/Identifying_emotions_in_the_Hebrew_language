{
  "cells": [
    {
      "cell_type": "code",
      "execution_count": 12,
      "metadata": {
        "id": "QxWmu7_Jsgfy",
        "colab": {
          "base_uri": "https://localhost:8080/"
        },
        "outputId": "0087e004-c0d9-4c60-c65e-caacd3626423"
      },
      "outputs": [
        {
          "output_type": "stream",
          "name": "stdout",
          "text": [
            "Looking in indexes: https://pypi.org/simple, https://us-python.pkg.dev/colab-wheels/public/simple/\n",
            "Requirement already satisfied: transformers in /usr/local/lib/python3.10/dist-packages (4.28.1)\n",
            "Requirement already satisfied: packaging>=20.0 in /usr/local/lib/python3.10/dist-packages (from transformers) (23.1)\n",
            "Requirement already satisfied: tokenizers!=0.11.3,<0.14,>=0.11.1 in /usr/local/lib/python3.10/dist-packages (from transformers) (0.13.3)\n",
            "Requirement already satisfied: requests in /usr/local/lib/python3.10/dist-packages (from transformers) (2.27.1)\n",
            "Requirement already satisfied: filelock in /usr/local/lib/python3.10/dist-packages (from transformers) (3.12.0)\n",
            "Requirement already satisfied: tqdm>=4.27 in /usr/local/lib/python3.10/dist-packages (from transformers) (4.65.0)\n",
            "Requirement already satisfied: huggingface-hub<1.0,>=0.11.0 in /usr/local/lib/python3.10/dist-packages (from transformers) (0.14.1)\n",
            "Requirement already satisfied: pyyaml>=5.1 in /usr/local/lib/python3.10/dist-packages (from transformers) (6.0)\n",
            "Requirement already satisfied: numpy>=1.17 in /usr/local/lib/python3.10/dist-packages (from transformers) (1.22.4)\n",
            "Requirement already satisfied: regex!=2019.12.17 in /usr/local/lib/python3.10/dist-packages (from transformers) (2022.10.31)\n",
            "Requirement already satisfied: fsspec in /usr/local/lib/python3.10/dist-packages (from huggingface-hub<1.0,>=0.11.0->transformers) (2023.4.0)\n",
            "Requirement already satisfied: typing-extensions>=3.7.4.3 in /usr/local/lib/python3.10/dist-packages (from huggingface-hub<1.0,>=0.11.0->transformers) (4.5.0)\n",
            "Requirement already satisfied: idna<4,>=2.5 in /usr/local/lib/python3.10/dist-packages (from requests->transformers) (3.4)\n",
            "Requirement already satisfied: charset-normalizer~=2.0.0 in /usr/local/lib/python3.10/dist-packages (from requests->transformers) (2.0.12)\n",
            "Requirement already satisfied: certifi>=2017.4.17 in /usr/local/lib/python3.10/dist-packages (from requests->transformers) (2022.12.7)\n",
            "Requirement already satisfied: urllib3<1.27,>=1.21.1 in /usr/local/lib/python3.10/dist-packages (from requests->transformers) (1.26.15)\n"
          ]
        }
      ],
      "source": [
        "!pip install transformers -q\n",
        "!pip install --upgrade transformers"
      ]
    },
    {
      "cell_type": "code",
      "execution_count": 13,
      "metadata": {
        "colab": {
          "base_uri": "https://localhost:8080/"
        },
        "id": "_NXSjj8crOjF",
        "outputId": "e718bf72-2ca3-421f-8964-4587f9f3219e"
      },
      "outputs": [
        {
          "output_type": "stream",
          "name": "stdout",
          "text": [
            "Looking in indexes: https://download.pytorch.org/whl/cu117, https://us-python.pkg.dev/colab-wheels/public/simple/\n",
            "Requirement already satisfied: torch in /usr/local/lib/python3.10/dist-packages (2.0.0+cu118)\n",
            "Requirement already satisfied: torchvision in /usr/local/lib/python3.10/dist-packages (0.15.1+cu118)\n",
            "Requirement already satisfied: torchaudio in /usr/local/lib/python3.10/dist-packages (2.0.1+cu118)\n",
            "Requirement already satisfied: triton==2.0.0 in /usr/local/lib/python3.10/dist-packages (from torch) (2.0.0)\n",
            "Requirement already satisfied: networkx in /usr/local/lib/python3.10/dist-packages (from torch) (3.1)\n",
            "Requirement already satisfied: jinja2 in /usr/local/lib/python3.10/dist-packages (from torch) (3.1.2)\n",
            "Requirement already satisfied: filelock in /usr/local/lib/python3.10/dist-packages (from torch) (3.12.0)\n",
            "Requirement already satisfied: sympy in /usr/local/lib/python3.10/dist-packages (from torch) (1.11.1)\n",
            "Requirement already satisfied: typing-extensions in /usr/local/lib/python3.10/dist-packages (from torch) (4.5.0)\n",
            "Requirement already satisfied: cmake in /usr/local/lib/python3.10/dist-packages (from triton==2.0.0->torch) (3.25.2)\n",
            "Requirement already satisfied: lit in /usr/local/lib/python3.10/dist-packages (from triton==2.0.0->torch) (16.0.2)\n",
            "Requirement already satisfied: numpy in /usr/local/lib/python3.10/dist-packages (from torchvision) (1.22.4)\n",
            "Requirement already satisfied: pillow!=8.3.*,>=5.3.0 in /usr/local/lib/python3.10/dist-packages (from torchvision) (8.4.0)\n",
            "Requirement already satisfied: requests in /usr/local/lib/python3.10/dist-packages (from torchvision) (2.27.1)\n",
            "Requirement already satisfied: MarkupSafe>=2.0 in /usr/local/lib/python3.10/dist-packages (from jinja2->torch) (2.1.2)\n",
            "Requirement already satisfied: urllib3<1.27,>=1.21.1 in /usr/local/lib/python3.10/dist-packages (from requests->torchvision) (1.26.15)\n",
            "Requirement already satisfied: idna<4,>=2.5 in /usr/local/lib/python3.10/dist-packages (from requests->torchvision) (3.4)\n",
            "Requirement already satisfied: charset-normalizer~=2.0.0 in /usr/local/lib/python3.10/dist-packages (from requests->torchvision) (2.0.12)\n",
            "Requirement already satisfied: certifi>=2017.4.17 in /usr/local/lib/python3.10/dist-packages (from requests->torchvision) (2022.12.7)\n",
            "Requirement already satisfied: mpmath>=0.19 in /usr/local/lib/python3.10/dist-packages (from sympy->torch) (1.3.0)\n"
          ]
        }
      ],
      "source": [
        "!pip3 install torch torchvision torchaudio --index-url https://download.pytorch.org/whl/cu117"
      ]
    },
    {
      "cell_type": "code",
      "execution_count": 14,
      "metadata": {
        "colab": {
          "base_uri": "https://localhost:8080/"
        },
        "id": "ubpGKLTLrOjG",
        "outputId": "20230542-8849-4663-82e0-7fe2d7165b67"
      },
      "outputs": [
        {
          "output_type": "stream",
          "name": "stdout",
          "text": [
            "Looking in indexes: https://pypi.org/simple, https://us-python.pkg.dev/colab-wheels/public/simple/\n",
            "Requirement already satisfied: ipywidgets in /usr/local/lib/python3.10/dist-packages (7.7.1)\n",
            "Requirement already satisfied: widgetsnbextension~=3.6.0 in /usr/local/lib/python3.10/dist-packages (from ipywidgets) (3.6.4)\n",
            "Requirement already satisfied: traitlets>=4.3.1 in /usr/local/lib/python3.10/dist-packages (from ipywidgets) (5.7.1)\n",
            "Requirement already satisfied: ipython>=4.0.0 in /usr/local/lib/python3.10/dist-packages (from ipywidgets) (7.34.0)\n",
            "Requirement already satisfied: jupyterlab-widgets>=1.0.0 in /usr/local/lib/python3.10/dist-packages (from ipywidgets) (3.0.7)\n",
            "Requirement already satisfied: ipykernel>=4.5.1 in /usr/local/lib/python3.10/dist-packages (from ipywidgets) (5.5.6)\n",
            "Requirement already satisfied: ipython-genutils~=0.2.0 in /usr/local/lib/python3.10/dist-packages (from ipywidgets) (0.2.0)\n",
            "Requirement already satisfied: jupyter-client in /usr/local/lib/python3.10/dist-packages (from ipykernel>=4.5.1->ipywidgets) (6.1.12)\n",
            "Requirement already satisfied: tornado>=4.2 in /usr/local/lib/python3.10/dist-packages (from ipykernel>=4.5.1->ipywidgets) (6.2)\n",
            "Requirement already satisfied: decorator in /usr/local/lib/python3.10/dist-packages (from ipython>=4.0.0->ipywidgets) (4.4.2)\n",
            "Requirement already satisfied: prompt-toolkit!=3.0.0,!=3.0.1,<3.1.0,>=2.0.0 in /usr/local/lib/python3.10/dist-packages (from ipython>=4.0.0->ipywidgets) (3.0.38)\n",
            "Requirement already satisfied: matplotlib-inline in /usr/local/lib/python3.10/dist-packages (from ipython>=4.0.0->ipywidgets) (0.1.6)\n",
            "Requirement already satisfied: pickleshare in /usr/local/lib/python3.10/dist-packages (from ipython>=4.0.0->ipywidgets) (0.7.5)\n",
            "Requirement already satisfied: pexpect>4.3 in /usr/local/lib/python3.10/dist-packages (from ipython>=4.0.0->ipywidgets) (4.8.0)\n",
            "Requirement already satisfied: jedi>=0.16 in /usr/local/lib/python3.10/dist-packages (from ipython>=4.0.0->ipywidgets) (0.18.2)\n",
            "Requirement already satisfied: backcall in /usr/local/lib/python3.10/dist-packages (from ipython>=4.0.0->ipywidgets) (0.2.0)\n",
            "Requirement already satisfied: setuptools>=18.5 in /usr/local/lib/python3.10/dist-packages (from ipython>=4.0.0->ipywidgets) (67.7.2)\n",
            "Requirement already satisfied: pygments in /usr/local/lib/python3.10/dist-packages (from ipython>=4.0.0->ipywidgets) (2.14.0)\n",
            "Requirement already satisfied: notebook>=4.4.1 in /usr/local/lib/python3.10/dist-packages (from widgetsnbextension~=3.6.0->ipywidgets) (6.4.8)\n",
            "Requirement already satisfied: parso<0.9.0,>=0.8.0 in /usr/local/lib/python3.10/dist-packages (from jedi>=0.16->ipython>=4.0.0->ipywidgets) (0.8.3)\n",
            "Requirement already satisfied: Send2Trash>=1.8.0 in /usr/local/lib/python3.10/dist-packages (from notebook>=4.4.1->widgetsnbextension~=3.6.0->ipywidgets) (1.8.0)\n",
            "Requirement already satisfied: terminado>=0.8.3 in /usr/local/lib/python3.10/dist-packages (from notebook>=4.4.1->widgetsnbextension~=3.6.0->ipywidgets) (0.17.1)\n",
            "Requirement already satisfied: jinja2 in /usr/local/lib/python3.10/dist-packages (from notebook>=4.4.1->widgetsnbextension~=3.6.0->ipywidgets) (3.1.2)\n",
            "Requirement already satisfied: argon2-cffi in /usr/local/lib/python3.10/dist-packages (from notebook>=4.4.1->widgetsnbextension~=3.6.0->ipywidgets) (21.3.0)\n",
            "Requirement already satisfied: nest-asyncio>=1.5 in /usr/local/lib/python3.10/dist-packages (from notebook>=4.4.1->widgetsnbextension~=3.6.0->ipywidgets) (1.5.6)\n",
            "Requirement already satisfied: pyzmq>=17 in /usr/local/lib/python3.10/dist-packages (from notebook>=4.4.1->widgetsnbextension~=3.6.0->ipywidgets) (23.2.1)\n",
            "Requirement already satisfied: jupyter-core>=4.6.1 in /usr/local/lib/python3.10/dist-packages (from notebook>=4.4.1->widgetsnbextension~=3.6.0->ipywidgets) (5.3.0)\n",
            "Requirement already satisfied: nbconvert in /usr/local/lib/python3.10/dist-packages (from notebook>=4.4.1->widgetsnbextension~=3.6.0->ipywidgets) (6.5.4)\n",
            "Requirement already satisfied: prometheus-client in /usr/local/lib/python3.10/dist-packages (from notebook>=4.4.1->widgetsnbextension~=3.6.0->ipywidgets) (0.16.0)\n",
            "Requirement already satisfied: nbformat in /usr/local/lib/python3.10/dist-packages (from notebook>=4.4.1->widgetsnbextension~=3.6.0->ipywidgets) (5.8.0)\n",
            "Requirement already satisfied: python-dateutil>=2.1 in /usr/local/lib/python3.10/dist-packages (from jupyter-client->ipykernel>=4.5.1->ipywidgets) (2.8.2)\n",
            "Requirement already satisfied: ptyprocess>=0.5 in /usr/local/lib/python3.10/dist-packages (from pexpect>4.3->ipython>=4.0.0->ipywidgets) (0.7.0)\n",
            "Requirement already satisfied: wcwidth in /usr/local/lib/python3.10/dist-packages (from prompt-toolkit!=3.0.0,!=3.0.1,<3.1.0,>=2.0.0->ipython>=4.0.0->ipywidgets) (0.2.6)\n",
            "Requirement already satisfied: platformdirs>=2.5 in /usr/local/lib/python3.10/dist-packages (from jupyter-core>=4.6.1->notebook>=4.4.1->widgetsnbextension~=3.6.0->ipywidgets) (3.3.0)\n",
            "Requirement already satisfied: six>=1.5 in /usr/local/lib/python3.10/dist-packages (from python-dateutil>=2.1->jupyter-client->ipykernel>=4.5.1->ipywidgets) (1.16.0)\n",
            "Requirement already satisfied: argon2-cffi-bindings in /usr/local/lib/python3.10/dist-packages (from argon2-cffi->notebook>=4.4.1->widgetsnbextension~=3.6.0->ipywidgets) (21.2.0)\n",
            "Requirement already satisfied: MarkupSafe>=2.0 in /usr/local/lib/python3.10/dist-packages (from jinja2->notebook>=4.4.1->widgetsnbextension~=3.6.0->ipywidgets) (2.1.2)\n",
            "Requirement already satisfied: mistune<2,>=0.8.1 in /usr/local/lib/python3.10/dist-packages (from nbconvert->notebook>=4.4.1->widgetsnbextension~=3.6.0->ipywidgets) (0.8.4)\n",
            "Requirement already satisfied: pandocfilters>=1.4.1 in /usr/local/lib/python3.10/dist-packages (from nbconvert->notebook>=4.4.1->widgetsnbextension~=3.6.0->ipywidgets) (1.5.0)\n",
            "Requirement already satisfied: tinycss2 in /usr/local/lib/python3.10/dist-packages (from nbconvert->notebook>=4.4.1->widgetsnbextension~=3.6.0->ipywidgets) (1.2.1)\n",
            "Requirement already satisfied: packaging in /usr/local/lib/python3.10/dist-packages (from nbconvert->notebook>=4.4.1->widgetsnbextension~=3.6.0->ipywidgets) (23.1)\n",
            "Requirement already satisfied: bleach in /usr/local/lib/python3.10/dist-packages (from nbconvert->notebook>=4.4.1->widgetsnbextension~=3.6.0->ipywidgets) (6.0.0)\n",
            "Requirement already satisfied: nbclient>=0.5.0 in /usr/local/lib/python3.10/dist-packages (from nbconvert->notebook>=4.4.1->widgetsnbextension~=3.6.0->ipywidgets) (0.7.4)\n",
            "Requirement already satisfied: beautifulsoup4 in /usr/local/lib/python3.10/dist-packages (from nbconvert->notebook>=4.4.1->widgetsnbextension~=3.6.0->ipywidgets) (4.11.2)\n",
            "Requirement already satisfied: lxml in /usr/local/lib/python3.10/dist-packages (from nbconvert->notebook>=4.4.1->widgetsnbextension~=3.6.0->ipywidgets) (4.9.2)\n",
            "Requirement already satisfied: jupyterlab-pygments in /usr/local/lib/python3.10/dist-packages (from nbconvert->notebook>=4.4.1->widgetsnbextension~=3.6.0->ipywidgets) (0.2.2)\n",
            "Requirement already satisfied: defusedxml in /usr/local/lib/python3.10/dist-packages (from nbconvert->notebook>=4.4.1->widgetsnbextension~=3.6.0->ipywidgets) (0.7.1)\n",
            "Requirement already satisfied: entrypoints>=0.2.2 in /usr/local/lib/python3.10/dist-packages (from nbconvert->notebook>=4.4.1->widgetsnbextension~=3.6.0->ipywidgets) (0.4)\n",
            "Requirement already satisfied: jsonschema>=2.6 in /usr/local/lib/python3.10/dist-packages (from nbformat->notebook>=4.4.1->widgetsnbextension~=3.6.0->ipywidgets) (4.3.3)\n",
            "Requirement already satisfied: fastjsonschema in /usr/local/lib/python3.10/dist-packages (from nbformat->notebook>=4.4.1->widgetsnbextension~=3.6.0->ipywidgets) (2.16.3)\n",
            "Requirement already satisfied: attrs>=17.4.0 in /usr/local/lib/python3.10/dist-packages (from jsonschema>=2.6->nbformat->notebook>=4.4.1->widgetsnbextension~=3.6.0->ipywidgets) (23.1.0)\n",
            "Requirement already satisfied: pyrsistent!=0.17.0,!=0.17.1,!=0.17.2,>=0.14.0 in /usr/local/lib/python3.10/dist-packages (from jsonschema>=2.6->nbformat->notebook>=4.4.1->widgetsnbextension~=3.6.0->ipywidgets) (0.19.3)\n",
            "Requirement already satisfied: cffi>=1.0.1 in /usr/local/lib/python3.10/dist-packages (from argon2-cffi-bindings->argon2-cffi->notebook>=4.4.1->widgetsnbextension~=3.6.0->ipywidgets) (1.15.1)\n",
            "Requirement already satisfied: soupsieve>1.2 in /usr/local/lib/python3.10/dist-packages (from beautifulsoup4->nbconvert->notebook>=4.4.1->widgetsnbextension~=3.6.0->ipywidgets) (2.4.1)\n",
            "Requirement already satisfied: webencodings in /usr/local/lib/python3.10/dist-packages (from bleach->nbconvert->notebook>=4.4.1->widgetsnbextension~=3.6.0->ipywidgets) (0.5.1)\n",
            "Requirement already satisfied: pycparser in /usr/local/lib/python3.10/dist-packages (from cffi>=1.0.1->argon2-cffi-bindings->argon2-cffi->notebook>=4.4.1->widgetsnbextension~=3.6.0->ipywidgets) (2.21)\n"
          ]
        }
      ],
      "source": [
        "!pip install ipywidgets"
      ]
    },
    {
      "cell_type": "code",
      "execution_count": 15,
      "metadata": {
        "id": "8TWVfVNwrOjG"
      },
      "outputs": [],
      "source": [
        "#!pip install tokenizers"
      ]
    },
    {
      "cell_type": "code",
      "execution_count": 16,
      "metadata": {
        "colab": {
          "base_uri": "https://localhost:8080/"
        },
        "id": "ZstEs8KsrtM-",
        "outputId": "24d20b3a-a69e-498f-bedc-8bd3110af9db"
      },
      "outputs": [
        {
          "output_type": "stream",
          "name": "stderr",
          "text": [
            "Some weights of the model checkpoint at onlplab/alephbert-base were not used when initializing BertModel: ['cls.predictions.transform.LayerNorm.bias', 'cls.predictions.decoder.weight', 'cls.predictions.transform.LayerNorm.weight', 'cls.predictions.transform.dense.weight', 'cls.predictions.bias', 'cls.predictions.transform.dense.bias', 'cls.predictions.decoder.bias']\n",
            "- This IS expected if you are initializing BertModel from the checkpoint of a model trained on another task or with another architecture (e.g. initializing a BertForSequenceClassification model from a BertForPreTraining model).\n",
            "- This IS NOT expected if you are initializing BertModel from the checkpoint of a model that you expect to be exactly identical (initializing a BertForSequenceClassification model from a BertForSequenceClassification model).\n"
          ]
        }
      ],
      "source": [
        "from transformers import BertModel, BertTokenizerFast\n",
        "\n",
        "alephbert_tokenizer = BertTokenizerFast.from_pretrained('onlplab/alephbert-base')\n",
        "alephbert = BertModel.from_pretrained('onlplab/alephbert-base')"
      ]
    },
    {
      "cell_type": "code",
      "execution_count": 17,
      "metadata": {
        "colab": {
          "base_uri": "https://localhost:8080/"
        },
        "id": "jR4x8934jQD0",
        "outputId": "50de2cf0-438c-4f91-a09a-fbb7cf8bec3a"
      },
      "outputs": [
        {
          "output_type": "stream",
          "name": "stdout",
          "text": [
            "Looking in indexes: https://pypi.org/simple, https://us-python.pkg.dev/colab-wheels/public/simple/\n",
            "Requirement already satisfied: tea in /usr/local/lib/python3.10/dist-packages (0.1.7)\n",
            "Requirement already satisfied: pytz~=2021.3 in /usr/local/lib/python3.10/dist-packages (from tea) (2021.3)\n",
            "Requirement already satisfied: tzlocal~=3.0 in /usr/local/lib/python3.10/dist-packages (from tea) (3.0)\n",
            "Requirement already satisfied: psutil~=5.8.0 in /usr/local/lib/python3.10/dist-packages (from tea) (5.8.0)\n"
          ]
        }
      ],
      "source": [
        "!pip install tea"
      ]
    },
    {
      "cell_type": "code",
      "execution_count": 18,
      "metadata": {
        "colab": {
          "base_uri": "https://localhost:8080/"
        },
        "id": "fvs_jMYWrOjH",
        "outputId": "37ea7096-854f-47e9-903e-14ba1debfd29"
      },
      "outputs": [
        {
          "output_type": "stream",
          "name": "stdout",
          "text": [
            "Looking in indexes: https://pypi.org/simple, https://us-python.pkg.dev/colab-wheels/public/simple/\n",
            "Requirement already satisfied: seaborn in /usr/local/lib/python3.10/dist-packages (0.12.2)\n",
            "Requirement already satisfied: matplotlib!=3.6.1,>=3.1 in /usr/local/lib/python3.10/dist-packages (from seaborn) (3.7.1)\n",
            "Requirement already satisfied: pandas>=0.25 in /usr/local/lib/python3.10/dist-packages (from seaborn) (1.5.3)\n",
            "Requirement already satisfied: numpy!=1.24.0,>=1.17 in /usr/local/lib/python3.10/dist-packages (from seaborn) (1.22.4)\n",
            "Requirement already satisfied: pillow>=6.2.0 in /usr/local/lib/python3.10/dist-packages (from matplotlib!=3.6.1,>=3.1->seaborn) (8.4.0)\n",
            "Requirement already satisfied: python-dateutil>=2.7 in /usr/local/lib/python3.10/dist-packages (from matplotlib!=3.6.1,>=3.1->seaborn) (2.8.2)\n",
            "Requirement already satisfied: pyparsing>=2.3.1 in /usr/local/lib/python3.10/dist-packages (from matplotlib!=3.6.1,>=3.1->seaborn) (3.0.9)\n",
            "Requirement already satisfied: fonttools>=4.22.0 in /usr/local/lib/python3.10/dist-packages (from matplotlib!=3.6.1,>=3.1->seaborn) (4.39.3)\n",
            "Requirement already satisfied: packaging>=20.0 in /usr/local/lib/python3.10/dist-packages (from matplotlib!=3.6.1,>=3.1->seaborn) (23.1)\n",
            "Requirement already satisfied: kiwisolver>=1.0.1 in /usr/local/lib/python3.10/dist-packages (from matplotlib!=3.6.1,>=3.1->seaborn) (1.4.4)\n",
            "Requirement already satisfied: contourpy>=1.0.1 in /usr/local/lib/python3.10/dist-packages (from matplotlib!=3.6.1,>=3.1->seaborn) (1.0.7)\n",
            "Requirement already satisfied: cycler>=0.10 in /usr/local/lib/python3.10/dist-packages (from matplotlib!=3.6.1,>=3.1->seaborn) (0.11.0)\n",
            "Requirement already satisfied: pytz>=2020.1 in /usr/local/lib/python3.10/dist-packages (from pandas>=0.25->seaborn) (2021.3)\n",
            "Requirement already satisfied: six>=1.5 in /usr/local/lib/python3.10/dist-packages (from python-dateutil>=2.7->matplotlib!=3.6.1,>=3.1->seaborn) (1.16.0)\n"
          ]
        }
      ],
      "source": [
        "!pip install seaborn"
      ]
    },
    {
      "cell_type": "code",
      "execution_count": 19,
      "metadata": {
        "colab": {
          "base_uri": "https://localhost:8080/"
        },
        "id": "K3W4YqFKrOjH",
        "outputId": "b3016963-d0d5-4a13-8ddb-47b548b49e8a"
      },
      "outputs": [
        {
          "output_type": "stream",
          "name": "stdout",
          "text": [
            "Looking in indexes: https://pypi.org/simple, https://us-python.pkg.dev/colab-wheels/public/simple/\n",
            "Requirement already satisfied: tensorflow in /usr/local/lib/python3.10/dist-packages (2.12.0)\n",
            "Requirement already satisfied: numpy<1.24,>=1.22 in /usr/local/lib/python3.10/dist-packages (from tensorflow) (1.22.4)\n",
            "Requirement already satisfied: packaging in /usr/local/lib/python3.10/dist-packages (from tensorflow) (23.1)\n",
            "Requirement already satisfied: wrapt<1.15,>=1.11.0 in /usr/local/lib/python3.10/dist-packages (from tensorflow) (1.14.1)\n",
            "Requirement already satisfied: absl-py>=1.0.0 in /usr/local/lib/python3.10/dist-packages (from tensorflow) (1.4.0)\n",
            "Requirement already satisfied: flatbuffers>=2.0 in /usr/local/lib/python3.10/dist-packages (from tensorflow) (23.3.3)\n",
            "Requirement already satisfied: protobuf!=4.21.0,!=4.21.1,!=4.21.2,!=4.21.3,!=4.21.4,!=4.21.5,<5.0.0dev,>=3.20.3 in /usr/local/lib/python3.10/dist-packages (from tensorflow) (3.20.3)\n",
            "Requirement already satisfied: google-pasta>=0.1.1 in /usr/local/lib/python3.10/dist-packages (from tensorflow) (0.2.0)\n",
            "Requirement already satisfied: opt-einsum>=2.3.2 in /usr/local/lib/python3.10/dist-packages (from tensorflow) (3.3.0)\n",
            "Requirement already satisfied: astunparse>=1.6.0 in /usr/local/lib/python3.10/dist-packages (from tensorflow) (1.6.3)\n",
            "Requirement already satisfied: setuptools in /usr/local/lib/python3.10/dist-packages (from tensorflow) (67.7.2)\n",
            "Requirement already satisfied: typing-extensions>=3.6.6 in /usr/local/lib/python3.10/dist-packages (from tensorflow) (4.5.0)\n",
            "Requirement already satisfied: jax>=0.3.15 in /usr/local/lib/python3.10/dist-packages (from tensorflow) (0.4.8)\n",
            "Requirement already satisfied: tensorflow-io-gcs-filesystem>=0.23.1 in /usr/local/lib/python3.10/dist-packages (from tensorflow) (0.32.0)\n",
            "Requirement already satisfied: grpcio<2.0,>=1.24.3 in /usr/local/lib/python3.10/dist-packages (from tensorflow) (1.54.0)\n",
            "Requirement already satisfied: h5py>=2.9.0 in /usr/local/lib/python3.10/dist-packages (from tensorflow) (3.8.0)\n",
            "Requirement already satisfied: tensorflow-estimator<2.13,>=2.12.0 in /usr/local/lib/python3.10/dist-packages (from tensorflow) (2.12.0)\n",
            "Requirement already satisfied: gast<=0.4.0,>=0.2.1 in /usr/local/lib/python3.10/dist-packages (from tensorflow) (0.4.0)\n",
            "Requirement already satisfied: tensorboard<2.13,>=2.12 in /usr/local/lib/python3.10/dist-packages (from tensorflow) (2.12.2)\n",
            "Requirement already satisfied: keras<2.13,>=2.12.0 in /usr/local/lib/python3.10/dist-packages (from tensorflow) (2.12.0)\n",
            "Requirement already satisfied: libclang>=13.0.0 in /usr/local/lib/python3.10/dist-packages (from tensorflow) (16.0.0)\n",
            "Requirement already satisfied: six>=1.12.0 in /usr/local/lib/python3.10/dist-packages (from tensorflow) (1.16.0)\n",
            "Requirement already satisfied: termcolor>=1.1.0 in /usr/local/lib/python3.10/dist-packages (from tensorflow) (2.3.0)\n",
            "Requirement already satisfied: wheel<1.0,>=0.23.0 in /usr/local/lib/python3.10/dist-packages (from astunparse>=1.6.0->tensorflow) (0.40.0)\n",
            "Requirement already satisfied: scipy>=1.7 in /usr/local/lib/python3.10/dist-packages (from jax>=0.3.15->tensorflow) (1.10.1)\n",
            "Requirement already satisfied: ml-dtypes>=0.0.3 in /usr/local/lib/python3.10/dist-packages (from jax>=0.3.15->tensorflow) (0.1.0)\n",
            "Requirement already satisfied: google-auth<3,>=1.6.3 in /usr/local/lib/python3.10/dist-packages (from tensorboard<2.13,>=2.12->tensorflow) (2.17.3)\n",
            "Requirement already satisfied: werkzeug>=1.0.1 in /usr/local/lib/python3.10/dist-packages (from tensorboard<2.13,>=2.12->tensorflow) (2.3.0)\n",
            "Requirement already satisfied: tensorboard-data-server<0.8.0,>=0.7.0 in /usr/local/lib/python3.10/dist-packages (from tensorboard<2.13,>=2.12->tensorflow) (0.7.0)\n",
            "Requirement already satisfied: tensorboard-plugin-wit>=1.6.0 in /usr/local/lib/python3.10/dist-packages (from tensorboard<2.13,>=2.12->tensorflow) (1.8.1)\n",
            "Requirement already satisfied: google-auth-oauthlib<1.1,>=0.5 in /usr/local/lib/python3.10/dist-packages (from tensorboard<2.13,>=2.12->tensorflow) (1.0.0)\n",
            "Requirement already satisfied: markdown>=2.6.8 in /usr/local/lib/python3.10/dist-packages (from tensorboard<2.13,>=2.12->tensorflow) (3.4.3)\n",
            "Requirement already satisfied: requests<3,>=2.21.0 in /usr/local/lib/python3.10/dist-packages (from tensorboard<2.13,>=2.12->tensorflow) (2.27.1)\n",
            "Requirement already satisfied: cachetools<6.0,>=2.0.0 in /usr/local/lib/python3.10/dist-packages (from google-auth<3,>=1.6.3->tensorboard<2.13,>=2.12->tensorflow) (5.3.0)\n",
            "Requirement already satisfied: pyasn1-modules>=0.2.1 in /usr/local/lib/python3.10/dist-packages (from google-auth<3,>=1.6.3->tensorboard<2.13,>=2.12->tensorflow) (0.3.0)\n",
            "Requirement already satisfied: rsa<5,>=3.1.4 in /usr/local/lib/python3.10/dist-packages (from google-auth<3,>=1.6.3->tensorboard<2.13,>=2.12->tensorflow) (4.9)\n",
            "Requirement already satisfied: requests-oauthlib>=0.7.0 in /usr/local/lib/python3.10/dist-packages (from google-auth-oauthlib<1.1,>=0.5->tensorboard<2.13,>=2.12->tensorflow) (1.3.1)\n",
            "Requirement already satisfied: certifi>=2017.4.17 in /usr/local/lib/python3.10/dist-packages (from requests<3,>=2.21.0->tensorboard<2.13,>=2.12->tensorflow) (2022.12.7)\n",
            "Requirement already satisfied: urllib3<1.27,>=1.21.1 in /usr/local/lib/python3.10/dist-packages (from requests<3,>=2.21.0->tensorboard<2.13,>=2.12->tensorflow) (1.26.15)\n",
            "Requirement already satisfied: idna<4,>=2.5 in /usr/local/lib/python3.10/dist-packages (from requests<3,>=2.21.0->tensorboard<2.13,>=2.12->tensorflow) (3.4)\n",
            "Requirement already satisfied: charset-normalizer~=2.0.0 in /usr/local/lib/python3.10/dist-packages (from requests<3,>=2.21.0->tensorboard<2.13,>=2.12->tensorflow) (2.0.12)\n",
            "Requirement already satisfied: MarkupSafe>=2.1.1 in /usr/local/lib/python3.10/dist-packages (from werkzeug>=1.0.1->tensorboard<2.13,>=2.12->tensorflow) (2.1.2)\n",
            "Requirement already satisfied: pyasn1<0.6.0,>=0.4.6 in /usr/local/lib/python3.10/dist-packages (from pyasn1-modules>=0.2.1->google-auth<3,>=1.6.3->tensorboard<2.13,>=2.12->tensorflow) (0.5.0)\n",
            "Requirement already satisfied: oauthlib>=3.0.0 in /usr/local/lib/python3.10/dist-packages (from requests-oauthlib>=0.7.0->google-auth-oauthlib<1.1,>=0.5->tensorboard<2.13,>=2.12->tensorflow) (3.2.2)\n",
            "Looking in indexes: https://pypi.org/simple, https://us-python.pkg.dev/colab-wheels/public/simple/\n",
            "Requirement already satisfied: tensorflow in /usr/local/lib/python3.10/dist-packages (2.12.0)\n",
            "Requirement already satisfied: setuptools in /usr/local/lib/python3.10/dist-packages (from tensorflow) (67.7.2)\n",
            "Requirement already satisfied: tensorboard<2.13,>=2.12 in /usr/local/lib/python3.10/dist-packages (from tensorflow) (2.12.2)\n",
            "Requirement already satisfied: libclang>=13.0.0 in /usr/local/lib/python3.10/dist-packages (from tensorflow) (16.0.0)\n",
            "Requirement already satisfied: termcolor>=1.1.0 in /usr/local/lib/python3.10/dist-packages (from tensorflow) (2.3.0)\n",
            "Requirement already satisfied: absl-py>=1.0.0 in /usr/local/lib/python3.10/dist-packages (from tensorflow) (1.4.0)\n",
            "Requirement already satisfied: tensorflow-io-gcs-filesystem>=0.23.1 in /usr/local/lib/python3.10/dist-packages (from tensorflow) (0.32.0)\n",
            "Requirement already satisfied: numpy<1.24,>=1.22 in /usr/local/lib/python3.10/dist-packages (from tensorflow) (1.22.4)\n",
            "Requirement already satisfied: grpcio<2.0,>=1.24.3 in /usr/local/lib/python3.10/dist-packages (from tensorflow) (1.54.0)\n",
            "Requirement already satisfied: flatbuffers>=2.0 in /usr/local/lib/python3.10/dist-packages (from tensorflow) (23.3.3)\n",
            "Requirement already satisfied: google-pasta>=0.1.1 in /usr/local/lib/python3.10/dist-packages (from tensorflow) (0.2.0)\n",
            "Requirement already satisfied: jax>=0.3.15 in /usr/local/lib/python3.10/dist-packages (from tensorflow) (0.4.8)\n",
            "Requirement already satisfied: astunparse>=1.6.0 in /usr/local/lib/python3.10/dist-packages (from tensorflow) (1.6.3)\n",
            "Requirement already satisfied: gast<=0.4.0,>=0.2.1 in /usr/local/lib/python3.10/dist-packages (from tensorflow) (0.4.0)\n",
            "Requirement already satisfied: opt-einsum>=2.3.2 in /usr/local/lib/python3.10/dist-packages (from tensorflow) (3.3.0)\n",
            "Requirement already satisfied: keras<2.13,>=2.12.0 in /usr/local/lib/python3.10/dist-packages (from tensorflow) (2.12.0)\n",
            "Requirement already satisfied: typing-extensions>=3.6.6 in /usr/local/lib/python3.10/dist-packages (from tensorflow) (4.5.0)\n",
            "Requirement already satisfied: protobuf!=4.21.0,!=4.21.1,!=4.21.2,!=4.21.3,!=4.21.4,!=4.21.5,<5.0.0dev,>=3.20.3 in /usr/local/lib/python3.10/dist-packages (from tensorflow) (3.20.3)\n",
            "Requirement already satisfied: h5py>=2.9.0 in /usr/local/lib/python3.10/dist-packages (from tensorflow) (3.8.0)\n",
            "Requirement already satisfied: six>=1.12.0 in /usr/local/lib/python3.10/dist-packages (from tensorflow) (1.16.0)\n",
            "Requirement already satisfied: packaging in /usr/local/lib/python3.10/dist-packages (from tensorflow) (23.1)\n",
            "Requirement already satisfied: wrapt<1.15,>=1.11.0 in /usr/local/lib/python3.10/dist-packages (from tensorflow) (1.14.1)\n",
            "Requirement already satisfied: tensorflow-estimator<2.13,>=2.12.0 in /usr/local/lib/python3.10/dist-packages (from tensorflow) (2.12.0)\n",
            "Requirement already satisfied: wheel<1.0,>=0.23.0 in /usr/local/lib/python3.10/dist-packages (from astunparse>=1.6.0->tensorflow) (0.40.0)\n",
            "Requirement already satisfied: ml-dtypes>=0.0.3 in /usr/local/lib/python3.10/dist-packages (from jax>=0.3.15->tensorflow) (0.1.0)\n",
            "Requirement already satisfied: scipy>=1.7 in /usr/local/lib/python3.10/dist-packages (from jax>=0.3.15->tensorflow) (1.10.1)\n",
            "Requirement already satisfied: google-auth-oauthlib<1.1,>=0.5 in /usr/local/lib/python3.10/dist-packages (from tensorboard<2.13,>=2.12->tensorflow) (1.0.0)\n",
            "Requirement already satisfied: requests<3,>=2.21.0 in /usr/local/lib/python3.10/dist-packages (from tensorboard<2.13,>=2.12->tensorflow) (2.27.1)\n",
            "Requirement already satisfied: google-auth<3,>=1.6.3 in /usr/local/lib/python3.10/dist-packages (from tensorboard<2.13,>=2.12->tensorflow) (2.17.3)\n",
            "Requirement already satisfied: markdown>=2.6.8 in /usr/local/lib/python3.10/dist-packages (from tensorboard<2.13,>=2.12->tensorflow) (3.4.3)\n",
            "Requirement already satisfied: tensorboard-data-server<0.8.0,>=0.7.0 in /usr/local/lib/python3.10/dist-packages (from tensorboard<2.13,>=2.12->tensorflow) (0.7.0)\n",
            "Requirement already satisfied: tensorboard-plugin-wit>=1.6.0 in /usr/local/lib/python3.10/dist-packages (from tensorboard<2.13,>=2.12->tensorflow) (1.8.1)\n",
            "Requirement already satisfied: werkzeug>=1.0.1 in /usr/local/lib/python3.10/dist-packages (from tensorboard<2.13,>=2.12->tensorflow) (2.3.0)\n",
            "Requirement already satisfied: rsa<5,>=3.1.4 in /usr/local/lib/python3.10/dist-packages (from google-auth<3,>=1.6.3->tensorboard<2.13,>=2.12->tensorflow) (4.9)\n",
            "Requirement already satisfied: pyasn1-modules>=0.2.1 in /usr/local/lib/python3.10/dist-packages (from google-auth<3,>=1.6.3->tensorboard<2.13,>=2.12->tensorflow) (0.3.0)\n",
            "Requirement already satisfied: cachetools<6.0,>=2.0.0 in /usr/local/lib/python3.10/dist-packages (from google-auth<3,>=1.6.3->tensorboard<2.13,>=2.12->tensorflow) (5.3.0)\n",
            "Requirement already satisfied: requests-oauthlib>=0.7.0 in /usr/local/lib/python3.10/dist-packages (from google-auth-oauthlib<1.1,>=0.5->tensorboard<2.13,>=2.12->tensorflow) (1.3.1)\n",
            "Requirement already satisfied: idna<4,>=2.5 in /usr/local/lib/python3.10/dist-packages (from requests<3,>=2.21.0->tensorboard<2.13,>=2.12->tensorflow) (3.4)\n",
            "Requirement already satisfied: urllib3<1.27,>=1.21.1 in /usr/local/lib/python3.10/dist-packages (from requests<3,>=2.21.0->tensorboard<2.13,>=2.12->tensorflow) (1.26.15)\n",
            "Requirement already satisfied: charset-normalizer~=2.0.0 in /usr/local/lib/python3.10/dist-packages (from requests<3,>=2.21.0->tensorboard<2.13,>=2.12->tensorflow) (2.0.12)\n",
            "Requirement already satisfied: certifi>=2017.4.17 in /usr/local/lib/python3.10/dist-packages (from requests<3,>=2.21.0->tensorboard<2.13,>=2.12->tensorflow) (2022.12.7)\n",
            "Requirement already satisfied: MarkupSafe>=2.1.1 in /usr/local/lib/python3.10/dist-packages (from werkzeug>=1.0.1->tensorboard<2.13,>=2.12->tensorflow) (2.1.2)\n",
            "Requirement already satisfied: pyasn1<0.6.0,>=0.4.6 in /usr/local/lib/python3.10/dist-packages (from pyasn1-modules>=0.2.1->google-auth<3,>=1.6.3->tensorboard<2.13,>=2.12->tensorflow) (0.5.0)\n",
            "Requirement already satisfied: oauthlib>=3.0.0 in /usr/local/lib/python3.10/dist-packages (from requests-oauthlib>=0.7.0->google-auth-oauthlib<1.1,>=0.5->tensorboard<2.13,>=2.12->tensorflow) (3.2.2)\n"
          ]
        }
      ],
      "source": [
        "!pip install tensorflow\n",
        "!pip install --upgrade tensorflow"
      ]
    },
    {
      "cell_type": "code",
      "execution_count": 20,
      "metadata": {
        "colab": {
          "base_uri": "https://localhost:8080/"
        },
        "id": "oQl2av90rOjH",
        "outputId": "5d4664c3-9d2a-428b-b515-cbc9d3f77dd1"
      },
      "outputs": [
        {
          "output_type": "stream",
          "name": "stdout",
          "text": [
            "Looking in indexes: https://pypi.org/simple, https://us-python.pkg.dev/colab-wheels/public/simple/\n",
            "Requirement already satisfied: scikit-learn in /usr/local/lib/python3.10/dist-packages (1.2.2)\n",
            "Requirement already satisfied: joblib>=1.1.1 in /usr/local/lib/python3.10/dist-packages (from scikit-learn) (1.2.0)\n",
            "Requirement already satisfied: threadpoolctl>=2.0.0 in /usr/local/lib/python3.10/dist-packages (from scikit-learn) (3.1.0)\n",
            "Requirement already satisfied: numpy>=1.17.3 in /usr/local/lib/python3.10/dist-packages (from scikit-learn) (1.22.4)\n",
            "Requirement already satisfied: scipy>=1.3.2 in /usr/local/lib/python3.10/dist-packages (from scikit-learn) (1.10.1)\n"
          ]
        }
      ],
      "source": [
        "!pip install -U scikit-learn"
      ]
    },
    {
      "cell_type": "code",
      "execution_count": 21,
      "metadata": {
        "id": "YVSF0nv7lF8O"
      },
      "outputs": [],
      "source": [
        "import sys\n",
        "import codecs\n",
        "import re\n",
        "import numpy as np\n",
        "import seaborn as sns\n",
        "import matplotlib.pyplot as plt\n",
        "import io\n",
        "import os\n",
        "import pandas as pd\n",
        "from sklearn.model_selection import train_test_split"
      ]
    },
    {
      "cell_type": "code",
      "execution_count": 22,
      "metadata": {
        "colab": {
          "base_uri": "https://localhost:8080/",
          "height": 223
        },
        "id": "O0qTqdQXlLX4",
        "outputId": "35089d53-e856-461f-da18-772cc54f14d8"
      },
      "outputs": [
        {
          "output_type": "display_data",
          "data": {
            "text/plain": [
              "   emotion_id             emotion   emotion_en  \\\n",
              "0           3            חשש, פחד         fear   \n",
              "1           3            חשש, פחד         fear   \n",
              "2           5            עצב, צער      sadness   \n",
              "3           7            זעם, כעס        anger   \n",
              "4           0  ציפייה, הבעת עניין  expectation   \n",
              "\n",
              "                                           talkbacks  \n",
              "0   הרופאה מטעה את הציבור:  מי שנושא את הנגיף הוא...  \n",
              "1   לסגור, כי אף אחד לא צריך להפגע מההפקרות במגזר...  \n",
              "2   מתנגדי חיסונים מקבלים קשה מאוד את המחלה.\\nממש...  \n",
              "3   אם לא הקורונה היו מתים מאות אנשים..\\nהאיראנים...  \n",
              "4   חייבים לתבוע את סין לרושש אותם.זה וירוס מהונד...  "
            ],
            "text/html": [
              "\n",
              "  <div id=\"df-50242462-12c3-4606-8a05-1a1b0967879f\">\n",
              "    <div class=\"colab-df-container\">\n",
              "      <div>\n",
              "<style scoped>\n",
              "    .dataframe tbody tr th:only-of-type {\n",
              "        vertical-align: middle;\n",
              "    }\n",
              "\n",
              "    .dataframe tbody tr th {\n",
              "        vertical-align: top;\n",
              "    }\n",
              "\n",
              "    .dataframe thead th {\n",
              "        text-align: right;\n",
              "    }\n",
              "</style>\n",
              "<table border=\"1\" class=\"dataframe\">\n",
              "  <thead>\n",
              "    <tr style=\"text-align: right;\">\n",
              "      <th></th>\n",
              "      <th>emotion_id</th>\n",
              "      <th>emotion</th>\n",
              "      <th>emotion_en</th>\n",
              "      <th>talkbacks</th>\n",
              "    </tr>\n",
              "  </thead>\n",
              "  <tbody>\n",
              "    <tr>\n",
              "      <th>0</th>\n",
              "      <td>3</td>\n",
              "      <td>חשש, פחד</td>\n",
              "      <td>fear</td>\n",
              "      <td>הרופאה מטעה את הציבור:  מי שנושא את הנגיף הוא...</td>\n",
              "    </tr>\n",
              "    <tr>\n",
              "      <th>1</th>\n",
              "      <td>3</td>\n",
              "      <td>חשש, פחד</td>\n",
              "      <td>fear</td>\n",
              "      <td>לסגור, כי אף אחד לא צריך להפגע מההפקרות במגזר...</td>\n",
              "    </tr>\n",
              "    <tr>\n",
              "      <th>2</th>\n",
              "      <td>5</td>\n",
              "      <td>עצב, צער</td>\n",
              "      <td>sadness</td>\n",
              "      <td>מתנגדי חיסונים מקבלים קשה מאוד את המחלה.\\nממש...</td>\n",
              "    </tr>\n",
              "    <tr>\n",
              "      <th>3</th>\n",
              "      <td>7</td>\n",
              "      <td>זעם, כעס</td>\n",
              "      <td>anger</td>\n",
              "      <td>אם לא הקורונה היו מתים מאות אנשים..\\nהאיראנים...</td>\n",
              "    </tr>\n",
              "    <tr>\n",
              "      <th>4</th>\n",
              "      <td>0</td>\n",
              "      <td>ציפייה, הבעת עניין</td>\n",
              "      <td>expectation</td>\n",
              "      <td>חייבים לתבוע את סין לרושש אותם.זה וירוס מהונד...</td>\n",
              "    </tr>\n",
              "  </tbody>\n",
              "</table>\n",
              "</div>\n",
              "      <button class=\"colab-df-convert\" onclick=\"convertToInteractive('df-50242462-12c3-4606-8a05-1a1b0967879f')\"\n",
              "              title=\"Convert this dataframe to an interactive table.\"\n",
              "              style=\"display:none;\">\n",
              "        \n",
              "  <svg xmlns=\"http://www.w3.org/2000/svg\" height=\"24px\"viewBox=\"0 0 24 24\"\n",
              "       width=\"24px\">\n",
              "    <path d=\"M0 0h24v24H0V0z\" fill=\"none\"/>\n",
              "    <path d=\"M18.56 5.44l.94 2.06.94-2.06 2.06-.94-2.06-.94-.94-2.06-.94 2.06-2.06.94zm-11 1L8.5 8.5l.94-2.06 2.06-.94-2.06-.94L8.5 2.5l-.94 2.06-2.06.94zm10 10l.94 2.06.94-2.06 2.06-.94-2.06-.94-.94-2.06-.94 2.06-2.06.94z\"/><path d=\"M17.41 7.96l-1.37-1.37c-.4-.4-.92-.59-1.43-.59-.52 0-1.04.2-1.43.59L10.3 9.45l-7.72 7.72c-.78.78-.78 2.05 0 2.83L4 21.41c.39.39.9.59 1.41.59.51 0 1.02-.2 1.41-.59l7.78-7.78 2.81-2.81c.8-.78.8-2.07 0-2.86zM5.41 20L4 18.59l7.72-7.72 1.47 1.35L5.41 20z\"/>\n",
              "  </svg>\n",
              "      </button>\n",
              "      \n",
              "  <style>\n",
              "    .colab-df-container {\n",
              "      display:flex;\n",
              "      flex-wrap:wrap;\n",
              "      gap: 12px;\n",
              "    }\n",
              "\n",
              "    .colab-df-convert {\n",
              "      background-color: #E8F0FE;\n",
              "      border: none;\n",
              "      border-radius: 50%;\n",
              "      cursor: pointer;\n",
              "      display: none;\n",
              "      fill: #1967D2;\n",
              "      height: 32px;\n",
              "      padding: 0 0 0 0;\n",
              "      width: 32px;\n",
              "    }\n",
              "\n",
              "    .colab-df-convert:hover {\n",
              "      background-color: #E2EBFA;\n",
              "      box-shadow: 0px 1px 2px rgba(60, 64, 67, 0.3), 0px 1px 3px 1px rgba(60, 64, 67, 0.15);\n",
              "      fill: #174EA6;\n",
              "    }\n",
              "\n",
              "    [theme=dark] .colab-df-convert {\n",
              "      background-color: #3B4455;\n",
              "      fill: #D2E3FC;\n",
              "    }\n",
              "\n",
              "    [theme=dark] .colab-df-convert:hover {\n",
              "      background-color: #434B5C;\n",
              "      box-shadow: 0px 1px 3px 1px rgba(0, 0, 0, 0.15);\n",
              "      filter: drop-shadow(0px 1px 2px rgba(0, 0, 0, 0.3));\n",
              "      fill: #FFFFFF;\n",
              "    }\n",
              "  </style>\n",
              "\n",
              "      <script>\n",
              "        const buttonEl =\n",
              "          document.querySelector('#df-50242462-12c3-4606-8a05-1a1b0967879f button.colab-df-convert');\n",
              "        buttonEl.style.display =\n",
              "          google.colab.kernel.accessAllowed ? 'block' : 'none';\n",
              "\n",
              "        async function convertToInteractive(key) {\n",
              "          const element = document.querySelector('#df-50242462-12c3-4606-8a05-1a1b0967879f');\n",
              "          const dataTable =\n",
              "            await google.colab.kernel.invokeFunction('convertToInteractive',\n",
              "                                                     [key], {});\n",
              "          if (!dataTable) return;\n",
              "\n",
              "          const docLinkHtml = 'Like what you see? Visit the ' +\n",
              "            '<a target=\"_blank\" href=https://colab.research.google.com/notebooks/data_table.ipynb>data table notebook</a>'\n",
              "            + ' to learn more about interactive tables.';\n",
              "          element.innerHTML = '';\n",
              "          dataTable['output_type'] = 'display_data';\n",
              "          await google.colab.output.renderOutput(dataTable, element);\n",
              "          const docLink = document.createElement('div');\n",
              "          docLink.innerHTML = docLinkHtml;\n",
              "          element.appendChild(docLink);\n",
              "        }\n",
              "      </script>\n",
              "    </div>\n",
              "  </div>\n",
              "  "
            ]
          },
          "metadata": {}
        },
        {
          "output_type": "stream",
          "name": "stdout",
          "text": [
            "None\n"
          ]
        }
      ],
      "source": [
        "df = pd.read_csv('data_covid_main_raw_to_publish.csv')\n",
        "df = df.drop('Unnamed: 0',axis = 1)\n",
        "print(display(df.head()))"
      ]
    },
    {
      "cell_type": "code",
      "execution_count": 23,
      "metadata": {
        "colab": {
          "base_uri": "https://localhost:8080/"
        },
        "id": "VfJ5FQL5rOjJ",
        "outputId": "faa36102-9657-4605-a6f6-89b703eda2ba"
      },
      "outputs": [
        {
          "output_type": "execute_result",
          "data": {
            "text/plain": [
              "סלידה, אי אמון        1137\n",
              "חשש, פחד               437\n",
              "ציפייה, הבעת עניין     400\n",
              "עצב, צער               365\n",
              "זעם, כעס               253\n",
              "שמחה, התלהבות          120\n",
              "הפתעה, תדהמה            64\n",
              "הבעת אמון               49\n",
              "Name: emotion, dtype: int64"
            ]
          },
          "metadata": {},
          "execution_count": 23
        }
      ],
      "source": [
        "df['emotion'].value_counts()"
      ]
    },
    {
      "cell_type": "code",
      "execution_count": 24,
      "metadata": {
        "colab": {
          "base_uri": "https://localhost:8080/",
          "height": 467
        },
        "id": "z3LL3ZFVrOjJ",
        "outputId": "8783a9a4-9b98-4d1e-fafe-7d79db9f48ac"
      },
      "outputs": [
        {
          "output_type": "execute_result",
          "data": {
            "text/plain": [
              "<Axes: xlabel='emotion_en', ylabel='count'>"
            ]
          },
          "metadata": {},
          "execution_count": 24
        },
        {
          "output_type": "display_data",
          "data": {
            "text/plain": [
              "<Figure size 640x480 with 1 Axes>"
            ],
            "image/png": "[encoded data removed]"
          },
          "metadata": {}
        }
      ],
      "source": [
        "sns.countplot(x='emotion_en',data=df)"
      ]
    },
    {
      "cell_type": "code",
      "execution_count": 25,
      "metadata": {
        "id": "fQJAUpdGrOjJ"
      },
      "outputs": [],
      "source": [
        "X = df.talkbacks\n",
        "X = X.to_numpy()\n",
        "Y = df.emotion_id\n",
        "Y = Y.to_numpy()"
      ]
    },
    {
      "cell_type": "code",
      "execution_count": 26,
      "metadata": {
        "id": "MygzGBgGrOjK"
      },
      "outputs": [],
      "source": [
        "train_tokens, test_tokens, train_tags , test_tags = train_test_split(X, Y, test_size = 0.2, random_state = 42)  "
      ]
    },
    {
      "cell_type": "code",
      "execution_count": 27,
      "metadata": {
        "id": "hbE4KpzjrOjK"
      },
      "outputs": [],
      "source": [
        "#conda install -c conda-forge jupyterlab"
      ]
    },
    {
      "cell_type": "code",
      "execution_count": 28,
      "metadata": {
        "colab": {
          "base_uri": "https://localhost:8080/"
        },
        "id": "xCMUFy7m4rkh",
        "outputId": "81dc8f77-7a7f-4356-93b2-1dded4eac75d"
      },
      "outputs": [
        {
          "output_type": "execute_result",
          "data": {
            "text/plain": [
              "2260"
            ]
          },
          "metadata": {},
          "execution_count": 28
        }
      ],
      "source": [
        "len(train_tokens)"
      ]
    },
    {
      "cell_type": "code",
      "execution_count": 29,
      "metadata": {
        "colab": {
          "base_uri": "https://localhost:8080/"
        },
        "id": "E8MFLqJa4iow",
        "outputId": "7e6de883-40e9-407d-a72c-1ba001637af7"
      },
      "outputs": [
        {
          "output_type": "execute_result",
          "data": {
            "text/plain": [
              "565"
            ]
          },
          "metadata": {},
          "execution_count": 29
        }
      ],
      "source": [
        "len(test_tokens)"
      ]
    },
    {
      "cell_type": "code",
      "execution_count": 30,
      "metadata": {
        "colab": {
          "base_uri": "https://localhost:8080/"
        },
        "id": "apkf8REy4xmw",
        "outputId": "6720014d-2445-4a92-8259-542f255605a1"
      },
      "outputs": [
        {
          "output_type": "stream",
          "name": "stdout",
          "text": [
            "2825\n"
          ]
        },
        {
          "output_type": "execute_result",
          "data": {
            "text/plain": [
              "2825"
            ]
          },
          "metadata": {},
          "execution_count": 30
        }
      ],
      "source": [
        "tokens = np.append(train_tokens,test_tokens)\n",
        "tokens_tags = np.append(train_tags,test_tags)\n",
        "print(len(tokens))\n",
        "len(tokens_tags)"
      ]
    },
    {
      "cell_type": "code",
      "execution_count": 31,
      "metadata": {
        "id": "GDSHGD223Soz"
      },
      "outputs": [],
      "source": [
        "token_lens = []\n",
        "\n",
        "for txt in tokens:\n",
        "    tok = alephbert_tokenizer.encode(txt, truncation=True)\n",
        "    token_lens.append(len(tok))"
      ]
    },
    {
      "cell_type": "code",
      "execution_count": 32,
      "metadata": {
        "colab": {
          "base_uri": "https://localhost:8080/"
        },
        "id": "L5WoNsw955p_",
        "outputId": "75439933-c0d8-427a-8d79-3a9791e4da47"
      },
      "outputs": [
        {
          "output_type": "execute_result",
          "data": {
            "text/plain": [
              "[20,\n",
              " 39,\n",
              " 29,\n",
              " 61,\n",
              " 53,\n",
              " 81,\n",
              " 90,\n",
              " 58,\n",
              " 55,\n",
              " 37,\n",
              " 47,\n",
              " 70,\n",
              " 31,\n",
              " 52,\n",
              " 49,\n",
              " 46,\n",
              " 43,\n",
              " 30,\n",
              " 10,\n",
              " 38,\n",
              " 55,\n",
              " 36,\n",
              " 39,\n",
              " 30,\n",
              " 60,\n",
              " 38,\n",
              " 64,\n",
              " 51,\n",
              " 55,\n",
              " 15,\n",
              " 14,\n",
              " 33,\n",
              " 45,\n",
              " 22,\n",
              " 46,\n",
              " 15,\n",
              " 67,\n",
              " 44,\n",
              " 47,\n",
              " 93,\n",
              " 62,\n",
              " 29,\n",
              " 97,\n",
              " 66,\n",
              " 69,\n",
              " 35,\n",
              " 80,\n",
              " 34,\n",
              " 74,\n",
              " 22,\n",
              " 86,\n",
              " 51,\n",
              " 83,\n",
              " 62,\n",
              " 49,\n",
              " 53,\n",
              " 66,\n",
              " 63,\n",
              " 82,\n",
              " 55,\n",
              " 59,\n",
              " 20,\n",
              " 11,\n",
              " 117,\n",
              " 33,\n",
              " 33,\n",
              " 31,\n",
              " 38,\n",
              " 44,\n",
              " 49,\n",
              " 123,\n",
              " 110,\n",
              " 47,\n",
              " 18,\n",
              " 55,\n",
              " 56,\n",
              " 38,\n",
              " 94,\n",
              " 38,\n",
              " 39,\n",
              " 33,\n",
              " 34,\n",
              " 68,\n",
              " 6,\n",
              " 52,\n",
              " 31,\n",
              " 39,\n",
              " 15,\n",
              " 58,\n",
              " 54,\n",
              " 30,\n",
              " 17,\n",
              " 52,\n",
              " 51,\n",
              " 39,\n",
              " 29,\n",
              " 37,\n",
              " 65,\n",
              " 33,\n",
              " 28,\n",
              " 38,\n",
              " 14,\n",
              " 28,\n",
              " 106,\n",
              " 27,\n",
              " 39,\n",
              " 30,\n",
              " 44,\n",
              " 9,\n",
              " 39,\n",
              " 36,\n",
              " 27,\n",
              " 82,\n",
              " 69,\n",
              " 62,\n",
              " 34,\n",
              " 54,\n",
              " 41,\n",
              " 48,\n",
              " 47,\n",
              " 56,\n",
              " 68,\n",
              " 32,\n",
              " 36,\n",
              " 52,\n",
              " 35,\n",
              " 38,\n",
              " 41,\n",
              " 29,\n",
              " 21,\n",
              " 28,\n",
              " 43,\n",
              " 34,\n",
              " 61,\n",
              " 9,\n",
              " 52,\n",
              " 52,\n",
              " 61,\n",
              " 35,\n",
              " 60,\n",
              " 36,\n",
              " 32,\n",
              " 59,\n",
              " 68,\n",
              " 44,\n",
              " 31,\n",
              " 20,\n",
              " 24,\n",
              " 36,\n",
              " 9,\n",
              " 30,\n",
              " 54,\n",
              " 21,\n",
              " 52,\n",
              " 48,\n",
              " 37,\n",
              " 66,\n",
              " 49,\n",
              " 40,\n",
              " 56,\n",
              " 31,\n",
              " 86,\n",
              " 51,\n",
              " 70,\n",
              " 42,\n",
              " 111,\n",
              " 34,\n",
              " 77,\n",
              " 56,\n",
              " 44,\n",
              " 47,\n",
              " 64,\n",
              " 23,\n",
              " 31,\n",
              " 97,\n",
              " 50,\n",
              " 18,\n",
              " 37,\n",
              " 59,\n",
              " 32,\n",
              " 58,\n",
              " 31,\n",
              " 57,\n",
              " 71,\n",
              " 24,\n",
              " 52,\n",
              " 42,\n",
              " 41,\n",
              " 46,\n",
              " 29,\n",
              " 47,\n",
              " 29,\n",
              " 41,\n",
              " 81,\n",
              " 50,\n",
              " 39,\n",
              " 31,\n",
              " 75,\n",
              " 11,\n",
              " 30,\n",
              " 52,\n",
              " 41,\n",
              " 36,\n",
              " 50,\n",
              " 33,\n",
              " 65,\n",
              " 117,\n",
              " 41,\n",
              " 55,\n",
              " 34,\n",
              " 37,\n",
              " 63,\n",
              " 51,\n",
              " 14,\n",
              " 102,\n",
              " 58,\n",
              " 115,\n",
              " 50,\n",
              " 71,\n",
              " 56,\n",
              " 12,\n",
              " 11,\n",
              " 33,\n",
              " 41,\n",
              " 40,\n",
              " 27,\n",
              " 56,\n",
              " 50,\n",
              " 86,\n",
              " 61,\n",
              " 35,\n",
              " 23,\n",
              " 34,\n",
              " 35,\n",
              " 52,\n",
              " 24,\n",
              " 55,\n",
              " 49,\n",
              " 28,\n",
              " 30,\n",
              " 33,\n",
              " 41,\n",
              " 34,\n",
              " 53,\n",
              " 55,\n",
              " 37,\n",
              " 23,\n",
              " 16,\n",
              " 32,\n",
              " 33,\n",
              " 38,\n",
              " 64,\n",
              " 33,\n",
              " 20,\n",
              " 67,\n",
              " 66,\n",
              " 94,\n",
              " 44,\n",
              " 67,\n",
              " 68,\n",
              " 97,\n",
              " 55,\n",
              " 45,\n",
              " 77,\n",
              " 39,\n",
              " 70,\n",
              " 25,\n",
              " 37,\n",
              " 32,\n",
              " 37,\n",
              " 44,\n",
              " 64,\n",
              " 71,\n",
              " 11,\n",
              " 35,\n",
              " 20,\n",
              " 30,\n",
              " 23,\n",
              " 35,\n",
              " 27,\n",
              " 59,\n",
              " 48,\n",
              " 44,\n",
              " 44,\n",
              " 24,\n",
              " 66,\n",
              " 42,\n",
              " 35,\n",
              " 56,\n",
              " 54,\n",
              " 39,\n",
              " 31,\n",
              " 26,\n",
              " 30,\n",
              " 107,\n",
              " 58,\n",
              " 46,\n",
              " 15,\n",
              " 74,\n",
              " 24,\n",
              " 43,\n",
              " 25,\n",
              " 43,\n",
              " 59,\n",
              " 35,\n",
              " 34,\n",
              " 55,\n",
              " 66,\n",
              " 53,\n",
              " 15,\n",
              " 51,\n",
              " 59,\n",
              " 48,\n",
              " 59,\n",
              " 89,\n",
              " 54,\n",
              " 47,\n",
              " 15,\n",
              " 32,\n",
              " 32,\n",
              " 50,\n",
              " 71,\n",
              " 27,\n",
              " 34,\n",
              " 14,\n",
              " 67,\n",
              " 43,\n",
              " 52,\n",
              " 33,\n",
              " 14,\n",
              " 55,\n",
              " 32,\n",
              " 17,\n",
              " 42,\n",
              " 61,\n",
              " 38,\n",
              " 75,\n",
              " 40,\n",
              " 30,\n",
              " 15,\n",
              " 47,\n",
              " 43,\n",
              " 32,\n",
              " 48,\n",
              " 65,\n",
              " 46,\n",
              " 57,\n",
              " 17,\n",
              " 47,\n",
              " 32,\n",
              " 33,\n",
              " 45,\n",
              " 31,\n",
              " 41,\n",
              " 36,\n",
              " 18,\n",
              " 40,\n",
              " 33,\n",
              " 62,\n",
              " 212,\n",
              " 31,\n",
              " 24,\n",
              " 40,\n",
              " 47,\n",
              " 39,\n",
              " 72,\n",
              " 31,\n",
              " 45,\n",
              " 29,\n",
              " 80,\n",
              " 27,\n",
              " 28,\n",
              " 67,\n",
              " 21,\n",
              " 47,\n",
              " 37,\n",
              " 38,\n",
              " 41,\n",
              " 54,\n",
              " 77,\n",
              " 53,\n",
              " 55,\n",
              " 33,\n",
              " 38,\n",
              " 43,\n",
              " 30,\n",
              " 84,\n",
              " 42,\n",
              " 145,\n",
              " 19,\n",
              " 17,\n",
              " 38,\n",
              " 55,\n",
              " 40,\n",
              " 38,\n",
              " 90,\n",
              " 26,\n",
              " 33,\n",
              " 47,\n",
              " 52,\n",
              " 19,\n",
              " 32,\n",
              " 91,\n",
              " 36,\n",
              " 180,\n",
              " 30,\n",
              " 33,\n",
              " 50,\n",
              " 42,\n",
              " 35,\n",
              " 35,\n",
              " 33,\n",
              " 53,\n",
              " 11,\n",
              " 57,\n",
              " 34,\n",
              " 47,\n",
              " 56,\n",
              " 50,\n",
              " 26,\n",
              " 65,\n",
              " 39,\n",
              " 67,\n",
              " 42,\n",
              " 46,\n",
              " 37,\n",
              " 36,\n",
              " 26,\n",
              " 72,\n",
              " 25,\n",
              " 54,\n",
              " 35,\n",
              " 36,\n",
              " 64,\n",
              " 75,\n",
              " 34,\n",
              " 45,\n",
              " 7,\n",
              " 8,\n",
              " 43,\n",
              " 72,\n",
              " 47,\n",
              " 49,\n",
              " 36,\n",
              " 30,\n",
              " 59,\n",
              " 56,\n",
              " 62,\n",
              " 27,\n",
              " 186,\n",
              " 46,\n",
              " 36,\n",
              " 27,\n",
              " 64,\n",
              " 50,\n",
              " 100,\n",
              " 30,\n",
              " 63,\n",
              " 65,\n",
              " 55,\n",
              " 39,\n",
              " 33,\n",
              " 512,\n",
              " 65,\n",
              " 92,\n",
              " 30,\n",
              " 55,\n",
              " 25,\n",
              " 32,\n",
              " 102,\n",
              " 22,\n",
              " 40,\n",
              " 66,\n",
              " 50,\n",
              " 13,\n",
              " 33,\n",
              " 25,\n",
              " 12,\n",
              " 55,\n",
              " 89,\n",
              " 44,\n",
              " 82,\n",
              " 53,\n",
              " 47,\n",
              " 43,\n",
              " 25,\n",
              " 125,\n",
              " 55,\n",
              " 43,\n",
              " 52,\n",
              " 37,\n",
              " 42,\n",
              " 42,\n",
              " 33,\n",
              " 53,\n",
              " 13,\n",
              " 18,\n",
              " 36,\n",
              " 71,\n",
              " 22,\n",
              " 61,\n",
              " 36,\n",
              " 23,\n",
              " 83,\n",
              " 41,\n",
              " 44,\n",
              " 57,\n",
              " 38,\n",
              " 47,\n",
              " 23,\n",
              " 17,\n",
              " 31,\n",
              " 54,\n",
              " 15,\n",
              " 44,\n",
              " 39,\n",
              " 89,\n",
              " 50,\n",
              " 11,\n",
              " 77,\n",
              " 37,\n",
              " 31,\n",
              " 16,\n",
              " 42,\n",
              " 56,\n",
              " 42,\n",
              " 61,\n",
              " 48,\n",
              " 44,\n",
              " 63,\n",
              " 53,\n",
              " 40,\n",
              " 26,\n",
              " 67,\n",
              " 143,\n",
              " 35,\n",
              " 63,\n",
              " 50,\n",
              " 11,\n",
              " 357,\n",
              " 15,\n",
              " 39,\n",
              " 36,\n",
              " 25,\n",
              " 74,\n",
              " 15,\n",
              " 85,\n",
              " 30,\n",
              " 20,\n",
              " 37,\n",
              " 50,\n",
              " 34,\n",
              " 28,\n",
              " 19,\n",
              " 22,\n",
              " 35,\n",
              " 123,\n",
              " 33,\n",
              " 74,\n",
              " 14,\n",
              " 60,\n",
              " 55,\n",
              " 40,\n",
              " 85,\n",
              " 12,\n",
              " 39,\n",
              " 24,\n",
              " 63,\n",
              " 55,\n",
              " 36,\n",
              " 55,\n",
              " 39,\n",
              " 30,\n",
              " 35,\n",
              " 56,\n",
              " 79,\n",
              " 93,\n",
              " 35,\n",
              " 48,\n",
              " 36,\n",
              " 54,\n",
              " 34,\n",
              " 22,\n",
              " 33,\n",
              " 58,\n",
              " 38,\n",
              " 49,\n",
              " 38,\n",
              " 62,\n",
              " 43,\n",
              " 34,\n",
              " 32,\n",
              " 36,\n",
              " 25,\n",
              " 49,\n",
              " 57,\n",
              " 44,\n",
              " 10,\n",
              " 34,\n",
              " 10,\n",
              " 35,\n",
              " 71,\n",
              " 55,\n",
              " 44,\n",
              " 32,\n",
              " 9,\n",
              " 58,\n",
              " 25,\n",
              " 34,\n",
              " 27,\n",
              " 31,\n",
              " 31,\n",
              " 24,\n",
              " 88,\n",
              " 42,\n",
              " 29,\n",
              " 45,\n",
              " 39,\n",
              " 24,\n",
              " 102,\n",
              " 27,\n",
              " 40,\n",
              " 101,\n",
              " 50,\n",
              " 220,\n",
              " 69,\n",
              " 110,\n",
              " 43,\n",
              " 47,\n",
              " 32,\n",
              " 46,\n",
              " 120,\n",
              " 147,\n",
              " 35,\n",
              " 38,\n",
              " 27,\n",
              " 47,\n",
              " 85,\n",
              " 46,\n",
              " 29,\n",
              " 39,\n",
              " 212,\n",
              " 21,\n",
              " 29,\n",
              " 40,\n",
              " 30,\n",
              " 34,\n",
              " 32,\n",
              " 37,\n",
              " 47,\n",
              " 85,\n",
              " 113,\n",
              " 12,\n",
              " 40,\n",
              " 42,\n",
              " 50,\n",
              " 34,\n",
              " 65,\n",
              " 79,\n",
              " 73,\n",
              " 37,\n",
              " 67,\n",
              " 17,\n",
              " 108,\n",
              " 56,\n",
              " 41,\n",
              " 60,\n",
              " 17,\n",
              " 35,\n",
              " 41,\n",
              " 24,\n",
              " 75,\n",
              " 51,\n",
              " 15,\n",
              " 34,\n",
              " 20,\n",
              " 25,\n",
              " 62,\n",
              " 18,\n",
              " 40,\n",
              " 32,\n",
              " 43,\n",
              " 14,\n",
              " 32,\n",
              " 32,\n",
              " 32,\n",
              " 39,\n",
              " 29,\n",
              " 36,\n",
              " 104,\n",
              " 64,\n",
              " 30,\n",
              " 58,\n",
              " 31,\n",
              " 25,\n",
              " 57,\n",
              " 70,\n",
              " 58,\n",
              " 55,\n",
              " 42,\n",
              " 39,\n",
              " 41,\n",
              " 66,\n",
              " 26,\n",
              " 58,\n",
              " 43,\n",
              " 68,\n",
              " 25,\n",
              " 54,\n",
              " 60,\n",
              " 78,\n",
              " 62,\n",
              " 45,\n",
              " 39,\n",
              " 40,\n",
              " 31,\n",
              " 37,\n",
              " 77,\n",
              " 56,\n",
              " 32,\n",
              " 15,\n",
              " 67,\n",
              " 55,\n",
              " 44,\n",
              " 47,\n",
              " 59,\n",
              " 37,\n",
              " 39,\n",
              " 27,\n",
              " 32,\n",
              " 15,\n",
              " 35,\n",
              " 32,\n",
              " 71,\n",
              " 30,\n",
              " 37,\n",
              " 40,\n",
              " 95,\n",
              " 30,\n",
              " 29,\n",
              " 48,\n",
              " 13,\n",
              " 55,\n",
              " 54,\n",
              " 31,\n",
              " 59,\n",
              " 28,\n",
              " 34,\n",
              " 41,\n",
              " 29,\n",
              " 48,\n",
              " 32,\n",
              " 54,\n",
              " 59,\n",
              " 41,\n",
              " 58,\n",
              " 52,\n",
              " 50,\n",
              " 37,\n",
              " 51,\n",
              " 98,\n",
              " 34,\n",
              " 69,\n",
              " 69,\n",
              " 136,\n",
              " 21,\n",
              " 47,\n",
              " 47,\n",
              " 48,\n",
              " 70,\n",
              " 113,\n",
              " 52,\n",
              " 52,\n",
              " 51,\n",
              " 188,\n",
              " 32,\n",
              " 40,\n",
              " 121,\n",
              " 35,\n",
              " 37,\n",
              " 40,\n",
              " 30,\n",
              " 105,\n",
              " 47,\n",
              " 51,\n",
              " 35,\n",
              " 45,\n",
              " 38,\n",
              " 48,\n",
              " 51,\n",
              " 117,\n",
              " 12,\n",
              " 71,\n",
              " 44,\n",
              " 38,\n",
              " 36,\n",
              " 89,\n",
              " 40,\n",
              " 70,\n",
              " 36,\n",
              " 33,\n",
              " 62,\n",
              " 76,\n",
              " 47,\n",
              " 32,\n",
              " 62,\n",
              " 30,\n",
              " 14,\n",
              " 5,\n",
              " 47,\n",
              " 53,\n",
              " 51,\n",
              " 53,\n",
              " 41,\n",
              " 14,\n",
              " 40,\n",
              " 46,\n",
              " 33,\n",
              " 61,\n",
              " 30,\n",
              " 57,\n",
              " 22,\n",
              " 66,\n",
              " 35,\n",
              " 33,\n",
              " 512,\n",
              " 43,\n",
              " 45,\n",
              " 55,\n",
              " 43,\n",
              " 41,\n",
              " 36,\n",
              " 21,\n",
              " 35,\n",
              " 26,\n",
              " 50,\n",
              " 46,\n",
              " 26,\n",
              " 82,\n",
              " 65,\n",
              " 33,\n",
              " 77,\n",
              " 54,\n",
              " 28,\n",
              " 9,\n",
              " 29,\n",
              " 43,\n",
              " 48,\n",
              " 47,\n",
              " 27,\n",
              " 68,\n",
              " 47,\n",
              " 102,\n",
              " 46,\n",
              " 50,\n",
              " 43,\n",
              " 53,\n",
              " 45,\n",
              " 13,\n",
              " 30,\n",
              " 34,\n",
              " 24,\n",
              " 70,\n",
              " 39,\n",
              " 52,\n",
              " 38,\n",
              " 42,\n",
              " 52,\n",
              " 43,\n",
              " 58,\n",
              " 37,\n",
              " 41,\n",
              " 28,\n",
              " 40,\n",
              " 66,\n",
              " 64,\n",
              " 43,\n",
              " 80,\n",
              " 64,\n",
              " 11,\n",
              " 48,\n",
              " 59,\n",
              " 38,\n",
              " 49,\n",
              " 58,\n",
              " 66,\n",
              " 50,\n",
              " 47,\n",
              " 57,\n",
              " 52,\n",
              " 44,\n",
              " 16,\n",
              " 36,\n",
              " 41,\n",
              " 17,\n",
              " 59,\n",
              " 35,\n",
              " 73,\n",
              " 49,\n",
              " 78,\n",
              " 42,\n",
              " 60,\n",
              " 138,\n",
              " 32,\n",
              " 21,\n",
              " 34,\n",
              " 17,\n",
              " 50,\n",
              " 55,\n",
              " 33,\n",
              " 57,\n",
              " 115,\n",
              " 44,\n",
              " 45,\n",
              " 144,\n",
              " 46,\n",
              " 77,\n",
              " 33,\n",
              " 35,\n",
              " 16,\n",
              " 63,\n",
              " 39,\n",
              " 115,\n",
              " 43,\n",
              " 43,\n",
              " 67,\n",
              " 49,\n",
              " 40,\n",
              " 37,\n",
              " 32,\n",
              " 53,\n",
              " 51,\n",
              " 32,\n",
              " 36,\n",
              " 27,\n",
              " 105,\n",
              " 31,\n",
              " 87,\n",
              " 24,\n",
              " 61,\n",
              " 76,\n",
              " 57,\n",
              " 32,\n",
              " 13,\n",
              " 98,\n",
              " 48,\n",
              " 58,\n",
              " 43,\n",
              " 57,\n",
              " 51,\n",
              " 95,\n",
              " 32,\n",
              " 44,\n",
              " 15,\n",
              " 39,\n",
              " 50,\n",
              " 49,\n",
              " 53,\n",
              " 32,\n",
              " 37,\n",
              " 34,\n",
              " 44,\n",
              " 51,\n",
              " 33,\n",
              " 49,\n",
              " 35,\n",
              " 40,\n",
              " 61,\n",
              " 56,\n",
              " 48,\n",
              " 58,\n",
              " 30,\n",
              " 58,\n",
              " 52,\n",
              " 47,\n",
              " 43,\n",
              " 30,\n",
              " 83,\n",
              " 30,\n",
              " 42,\n",
              " 157,\n",
              " 60,\n",
              " 78,\n",
              " 43,\n",
              " 70,\n",
              " 29,\n",
              " 58,\n",
              " 49,\n",
              " 34,\n",
              " 14,\n",
              " 26,\n",
              " 53,\n",
              " 25,\n",
              " 43,\n",
              " 107,\n",
              " 35,\n",
              " 43,\n",
              " 9,\n",
              " 29,\n",
              " 47,\n",
              " ...]"
            ]
          },
          "metadata": {},
          "execution_count": 32
        }
      ],
      "source": [
        "token_lens"
      ]
    },
    {
      "cell_type": "code",
      "execution_count": 33,
      "metadata": {
        "colab": {
          "base_uri": "https://localhost:8080/",
          "height": 466
        },
        "id": "7HwPgOgd6KAj",
        "outputId": "5c6e68d1-1c5f-4451-cc90-a7c1f34d3bad"
      },
      "outputs": [
        {
          "output_type": "execute_result",
          "data": {
            "text/plain": [
              "Text(0.5, 0, 'Token count')"
            ]
          },
          "metadata": {},
          "execution_count": 33
        },
        {
          "output_type": "display_data",
          "data": {
            "text/plain": [
              "<Figure size 640x480 with 1 Axes>"
            ],
            "image/png": "[encoded data removed]"
          },
          "metadata": {}
        }
      ],
      "source": [
        "sns.histplot(token_lens)\n",
        "plt.xlim([0, 300])\n",
        "plt.xlabel('Token count')"
      ]
    },
    {
      "cell_type": "code",
      "execution_count": 34,
      "metadata": {
        "id": "Gyc8shJArOjM"
      },
      "outputs": [],
      "source": [
        "import torch"
      ]
    },
    {
      "cell_type": "code",
      "execution_count": 35,
      "metadata": {
        "colab": {
          "base_uri": "https://localhost:8080/",
          "height": 35
        },
        "id": "vcCRsPFsrOjM",
        "outputId": "39484fc6-2cd7-44da-a4c4-60d6059d2853"
      },
      "outputs": [
        {
          "output_type": "execute_result",
          "data": {
            "text/plain": [
              "'2.0.0+cu118'"
            ],
            "application/vnd.google.colaboratory.intrinsic+json": {
              "type": "string"
            }
          },
          "metadata": {},
          "execution_count": 35
        }
      ],
      "source": [
        "torch.__version__"
      ]
    },
    {
      "cell_type": "code",
      "execution_count": 36,
      "metadata": {
        "colab": {
          "base_uri": "https://localhost:8080/"
        },
        "id": "j-uUVw6ErOjM",
        "outputId": "3edc625b-35f6-470c-cba5-3986b7839ce1"
      },
      "outputs": [
        {
          "output_type": "stream",
          "name": "stdout",
          "text": [
            "\u001b[2K     \u001b[90m━━━━━━━━━━━━━━━━━━━━━━━━━━━━━━━━━━━━━━━━\u001b[0m \u001b[32m5.6/5.6 MB\u001b[0m \u001b[31m9.6 MB/s\u001b[0m eta \u001b[36m0:00:00\u001b[0m\n",
            "\u001b[?25h"
          ]
        }
      ],
      "source": [
        "!pip install -q tb-nightly\n",
        "%load_ext tensorboard"
      ]
    },
    {
      "cell_type": "code",
      "execution_count": 37,
      "metadata": {
        "id": "2W4kEMBf8uxp"
      },
      "outputs": [],
      "source": [
        "import torch\n",
        "from torch.utils.data import Dataset, DataLoader"
      ]
    },
    {
      "cell_type": "code",
      "execution_count": 38,
      "metadata": {
        "id": "ydSdPKeT8m6k"
      },
      "outputs": [],
      "source": [
        "class GPReviewDataset(Dataset):\n",
        "    def __init__(self, reviews, targets, tokenizer, max_len):\n",
        "        self.reviews = reviews\n",
        "        self.targets = targets\n",
        "        self.tokenizer = tokenizer\n",
        "        self.max_len = max_len\n",
        "    def __len__(self):\n",
        "        return len(self.reviews)\n",
        "    def __getitem__(self, item):\n",
        "        review = str(self.reviews[item])\n",
        "        target = self.targets[item]\n",
        "        encoding = self.tokenizer.encode_plus(review, add_special_tokens=True, max_length=self.max_len, return_token_type_ids=False, pad_to_max_length=True, return_attention_mask=True, return_tensors='pt',)\n",
        "        return {\n",
        "            'review_text': review,\n",
        "            'input_ids': encoding['input_ids'].flatten(),\n",
        "            'attention_mask': encoding['attention_mask'].flatten(),\n",
        "            'targets': torch.tensor(target, dtype=torch.long)\n",
        "        }"
      ]
    },
    {
      "cell_type": "code",
      "execution_count": 39,
      "metadata": {
        "id": "wqbAsuMA87yj"
      },
      "outputs": [],
      "source": [
        "def create_data_loader(df,df_tags, tokenizer, max_len, batch_size):\n",
        "    ds = GPReviewDataset(\n",
        "        #reviews=df.to_numpy(),\n",
        "        #targets=df_tags.to_numpy(),\n",
        "        reviews=df,\n",
        "        targets=df_tags,   \n",
        "        tokenizer=tokenizer,\n",
        "        max_len=max_len\n",
        "      )\n",
        "    return DataLoader(\n",
        "        ds,\n",
        "        batch_size=batch_size,\n",
        "        #windows\n",
        "        num_workers=0\n",
        "        #colab\n",
        "        #num_workers=4\n",
        "      )"
      ]
    },
    {
      "cell_type": "code",
      "execution_count": 40,
      "metadata": {
        "id": "tlHpA0bHrOjN"
      },
      "outputs": [],
      "source": [
        "def loader(x_train, y_tags, x_test, y_test, MAX_LEN, BATCH_SIZE):\n",
        "    train_data_loader = create_data_loader(x_train, y_tags, alephbert_tokenizer, MAX_LEN, BATCH_SIZE)\n",
        "    val_data_loader = create_data_loader(x_test,y_test, alephbert_tokenizer, MAX_LEN, BATCH_SIZE)\n",
        "    return train_data_loader, val_data_loader"
      ]
    },
    {
      "cell_type": "code",
      "execution_count": 41,
      "metadata": {
        "id": "oUmk_B7LrOjN"
      },
      "outputs": [],
      "source": [
        "def getmodel(class_names, device, classifier):\n",
        "    model = classifier(len(class_names))\n",
        "    model = model.to(device)\n",
        "    return model"
      ]
    },
    {
      "cell_type": "code",
      "execution_count": 42,
      "metadata": {
        "colab": {
          "base_uri": "https://localhost:8080/"
        },
        "id": "WEFc1a4TBWme",
        "outputId": "8c1785bc-2bcf-4a58-e723-85593d676cb3"
      },
      "outputs": [
        {
          "output_type": "stream",
          "name": "stderr",
          "text": [
            "Truncation was not explicitly activated but `max_length` is provided a specific value, please use `truncation=True` to explicitly truncate examples to max length. Defaulting to 'longest_first' truncation strategy. If you encode pairs of sequences (GLUE-style) with the tokenizer you can select this strategy more precisely by providing a specific strategy to `truncation`.\n",
            "/usr/local/lib/python3.10/dist-packages/transformers/tokenization_utils_base.py:2354: FutureWarning: The `pad_to_max_length` argument is deprecated and will be removed in a future version, use `padding=True` or `padding='longest'` to pad to the longest sequence in the batch, or use `padding='max_length'` to pad to a max length. In this case, you can give a specific length with `max_length` (e.g. `max_length=45`) or leave max_length to None to pad to the maximal input size of the model (e.g. 512 for Bert).\n",
            "  warnings.warn(\n"
          ]
        },
        {
          "output_type": "execute_result",
          "data": {
            "text/plain": [
              "dict_keys(['review_text', 'input_ids', 'attention_mask', 'targets'])"
            ]
          },
          "metadata": {},
          "execution_count": 42
        }
      ],
      "source": [
        "BATCH_SIZE = 16\n",
        "MAX_LEN = 200\n",
        "train_data_loader, val_data_loader = loader(train_tokens, train_tags,test_tokens,test_tags, MAX_LEN, BATCH_SIZE)\n",
        "data = next(iter(train_data_loader))\n",
        "data.keys()"
      ]
    },
    {
      "cell_type": "code",
      "execution_count": 43,
      "metadata": {
        "colab": {
          "base_uri": "https://localhost:8080/"
        },
        "id": "3xymZSFnBdN3",
        "outputId": "4833d3fd-e21e-41c6-b08b-211a8dbf4f8d"
      },
      "outputs": [
        {
          "output_type": "stream",
          "name": "stdout",
          "text": [
            "torch.Size([16, 200])\n",
            "torch.Size([16, 200])\n",
            "torch.Size([16])\n"
          ]
        }
      ],
      "source": [
        "print(data['input_ids'].shape)\n",
        "print(data['attention_mask'].shape)\n",
        "print(data['targets'].shape)"
      ]
    },
    {
      "cell_type": "code",
      "execution_count": 44,
      "metadata": {
        "colab": {
          "base_uri": "https://localhost:8080/"
        },
        "id": "BY7CzHO3Bs7G",
        "outputId": "9ce9745e-9405-4727-e22e-6c272c773310"
      },
      "outputs": [
        {
          "output_type": "execute_result",
          "data": {
            "text/plain": [
              "768"
            ]
          },
          "metadata": {},
          "execution_count": 44
        }
      ],
      "source": [
        "alephbert.config.hidden_size"
      ]
    },
    {
      "cell_type": "code",
      "execution_count": 45,
      "metadata": {
        "id": "XnCezfGnDL_Q"
      },
      "outputs": [],
      "source": [
        "from torch import nn, optim\n",
        "from collections import defaultdict\n",
        "from sklearn.metrics import classification_report"
      ]
    },
    {
      "cell_type": "code",
      "execution_count": 46,
      "metadata": {
        "id": "LM6R4LoWCkbS"
      },
      "outputs": [],
      "source": [
        "class SentimentClassifier(nn.Module):\n",
        "    def __init__(self, n_classes):\n",
        "        super(SentimentClassifier, self).__init__()\n",
        "        self.bert = BertModel.from_pretrained('onlplab/alephbert-base', return_dict=False)\n",
        "        self.drop = nn.Dropout(p=0.3)\n",
        "        self.out = nn.Linear(self.bert.config.hidden_size, n_classes)\n",
        "    def forward(self, input_ids, attention_mask):\n",
        "        _, pooled_output = self.bert(input_ids=input_ids,attention_mask=attention_mask)\n",
        "        output = self.drop(pooled_output)\n",
        "        return self.out(output)"
      ]
    },
    {
      "cell_type": "code",
      "execution_count": 47,
      "metadata": {
        "id": "a5KDMXTHrOjP"
      },
      "outputs": [],
      "source": [
        "class EmotionClassifier(nn.Module):\n",
        "    def __init__(self, n_classes):\n",
        "        super(EmotionClassifier, self).__init__()\n",
        "        self.bert = BertModel.from_pretrained('onlplab/alephbert-base', return_dict=False)\n",
        "        self.drop = nn.Dropout(p=0.3)\n",
        "        self.out1 = nn.Linear(self.bert.config.hidden_size, 128)\n",
        "        self.drop1 = nn.Dropout(p=0.3)\n",
        "        self.relu = nn.ReLU()\n",
        "        self.out = nn.Linear(128, n_classes)\n",
        "    def forward(self, input_ids, attention_mask):\n",
        "        _, pooled_output = self.bert(input_ids=input_ids,attention_mask=attention_mask)\n",
        "        output = self.drop(pooled_output)\n",
        "        output = self.out1(output)\n",
        "        output = self.relu(output)\n",
        "        output = self.drop1(output)\n",
        "        return self.out(output)"
      ]
    },
    {
      "cell_type": "code",
      "execution_count": 48,
      "metadata": {
        "colab": {
          "base_uri": "https://localhost:8080/"
        },
        "id": "sqEofX2mEHJM",
        "outputId": "740365be-c5f1-42b4-9e0f-095d689723f3"
      },
      "outputs": [
        {
          "output_type": "stream",
          "name": "stdout",
          "text": [
            "torch.Size([16, 200])\n",
            "torch.Size([16, 200])\n"
          ]
        }
      ],
      "source": [
        "device = torch.device(\"cuda:0\" if torch.cuda.is_available() else \"cpu\")\n",
        "input_ids = data['input_ids'].to(device)\n",
        "attention_mask = data['attention_mask'].to(device)\n",
        "print(input_ids.shape)\n",
        "print(attention_mask.shape)"
      ]
    },
    {
      "cell_type": "code",
      "execution_count": 49,
      "metadata": {
        "colab": {
          "base_uri": "https://localhost:8080/"
        },
        "id": "yp9trpQPEW9n",
        "outputId": "21ccadea-4daf-4a65-d866-4db75e60334e"
      },
      "outputs": [
        {
          "output_type": "stream",
          "name": "stderr",
          "text": [
            "Some weights of the model checkpoint at onlplab/alephbert-base were not used when initializing BertModel: ['cls.predictions.transform.LayerNorm.bias', 'cls.predictions.decoder.weight', 'cls.predictions.transform.LayerNorm.weight', 'cls.predictions.transform.dense.weight', 'cls.predictions.bias', 'cls.predictions.transform.dense.bias', 'cls.predictions.decoder.bias']\n",
            "- This IS expected if you are initializing BertModel from the checkpoint of a model trained on another task or with another architecture (e.g. initializing a BertForSequenceClassification model from a BertForPreTraining model).\n",
            "- This IS NOT expected if you are initializing BertModel from the checkpoint of a model that you expect to be exactly identical (initializing a BertForSequenceClassification model from a BertForSequenceClassification model).\n"
          ]
        },
        {
          "output_type": "execute_result",
          "data": {
            "text/plain": [
              "tensor([[0.1067, 0.0704, 0.1011, 0.1958, 0.1287, 0.1446, 0.1365, 0.1162],\n",
              "        [0.0986, 0.1011, 0.0773, 0.1654, 0.1372, 0.1253, 0.1804, 0.1147],\n",
              "        [0.0780, 0.1023, 0.1236, 0.2226, 0.0987, 0.1401, 0.1266, 0.1080],\n",
              "        [0.1141, 0.0946, 0.1173, 0.1843, 0.1388, 0.1293, 0.1230, 0.0986],\n",
              "        [0.0978, 0.1126, 0.0971, 0.1513, 0.1411, 0.1976, 0.0953, 0.1072],\n",
              "        [0.0872, 0.1128, 0.0865, 0.2019, 0.1630, 0.0973, 0.1230, 0.1283],\n",
              "        [0.1011, 0.0808, 0.1247, 0.1744, 0.1027, 0.1523, 0.1269, 0.1371],\n",
              "        [0.1083, 0.0819, 0.1222, 0.1951, 0.1113, 0.1459, 0.1249, 0.1105],\n",
              "        [0.0823, 0.1025, 0.1222, 0.1906, 0.1259, 0.1423, 0.1137, 0.1204],\n",
              "        [0.1158, 0.1213, 0.0945, 0.1596, 0.1766, 0.1395, 0.1067, 0.0861],\n",
              "        [0.0828, 0.1026, 0.0923, 0.1858, 0.1826, 0.1393, 0.1113, 0.1034],\n",
              "        [0.0904, 0.1016, 0.1113, 0.1596, 0.1633, 0.1666, 0.1142, 0.0930],\n",
              "        [0.1091, 0.1195, 0.1232, 0.1998, 0.1517, 0.1095, 0.0789, 0.1082],\n",
              "        [0.0876, 0.0896, 0.1033, 0.1932, 0.1160, 0.1622, 0.1181, 0.1301],\n",
              "        [0.0650, 0.0917, 0.1023, 0.2716, 0.0836, 0.1226, 0.1502, 0.1130],\n",
              "        [0.1172, 0.0995, 0.0954, 0.1714, 0.0934, 0.1361, 0.1505, 0.1366]],\n",
              "       grad_fn=<SoftmaxBackward0>)"
            ]
          },
          "metadata": {},
          "execution_count": 49
        }
      ],
      "source": [
        "class_names = df.emotion_en.unique()\n",
        "device = torch.device(\"cuda:0\" if torch.cuda.is_available() else \"cpu\")\n",
        "model = getmodel(class_names, device, SentimentClassifier)\n",
        "torch.nn.functional.softmax(model(input_ids, attention_mask), dim=1)"
      ]
    },
    {
      "cell_type": "code",
      "execution_count": 50,
      "metadata": {
        "id": "Q5B1E5d8Kb-w"
      },
      "outputs": [],
      "source": [
        "from transformers import AdamW, get_linear_schedule_with_warmup"
      ]
    },
    {
      "cell_type": "code",
      "execution_count": 51,
      "metadata": {
        "id": "B27OleGDKOZC"
      },
      "outputs": [],
      "source": [
        "def opsclo(model, train_data_loader,EPOCHS , device):\n",
        "    optimizer = AdamW(model.parameters(), lr=2e-5, correct_bias=False)\n",
        "    total_steps = len(train_data_loader) * EPOCHS\n",
        "    scheduler = get_linear_schedule_with_warmup(\n",
        "      optimizer,\n",
        "      num_warmup_steps=0,\n",
        "      num_training_steps=total_steps\n",
        "    )\n",
        "    loss_fn = nn.CrossEntropyLoss().to(device)\n",
        "    return optimizer, scheduler, loss_fn"
      ]
    },
    {
      "cell_type": "code",
      "execution_count": 52,
      "metadata": {
        "id": "fAyf3AuGKhEa"
      },
      "outputs": [],
      "source": [
        "def train_epoch(model, data_loader,  loss_fn, optimizer, device, scheduler, n_examples):\n",
        "    model = model.train()\n",
        "    losses = []\n",
        "    correct_predictions = 0\n",
        "    for d in data_loader:\n",
        "        input_ids = d[\"input_ids\"].to(device)\n",
        "        attention_mask = d[\"attention_mask\"].to(device)\n",
        "        targets = d[\"targets\"].to(device)\n",
        "        outputs = model(input_ids=input_ids, attention_mask=attention_mask)\n",
        "        _, preds = torch.max(outputs, dim=1)\n",
        "        loss = loss_fn(outputs, targets)\n",
        "        correct_predictions += torch.sum(preds == targets)\n",
        "        losses.append(loss.item())\n",
        "        loss.backward()\n",
        "        nn.utils.clip_grad_norm_(model.parameters(), max_norm=1.0)\n",
        "        optimizer.step()\n",
        "        scheduler.step()\n",
        "        optimizer.zero_grad()\n",
        "    return correct_predictions.double() / n_examples, np.mean(losses)"
      ]
    },
    {
      "cell_type": "code",
      "execution_count": 53,
      "metadata": {
        "id": "PzLkIVudKqw1"
      },
      "outputs": [],
      "source": [
        "def eval_model(model, data_loader, loss_fn, device, n_examples):\n",
        "    model = model.eval()\n",
        "    losses = []\n",
        "    correct_predictions = 0\n",
        "    y_test = []\n",
        "    y_pred = []\n",
        "    with torch.no_grad():\n",
        "        for d in data_loader:\n",
        "            input_ids = d[\"input_ids\"].to(device)\n",
        "            attention_mask = d[\"attention_mask\"].to(device)\n",
        "            targets = d[\"targets\"].to(device)\n",
        "            outputs = model(input_ids=input_ids, attention_mask=attention_mask)\n",
        "            _, preds = torch.max(outputs, dim=1)\n",
        "            loss = loss_fn(outputs, targets)\n",
        "            correct_predictions += torch.sum(preds == targets)\n",
        "            losses.append(loss.item())\n",
        "    return correct_predictions.double() / n_examples, np.mean(losses)"
      ]
    },
    {
      "cell_type": "code",
      "execution_count": 54,
      "metadata": {
        "id": "ntR8yfw-KyYc"
      },
      "outputs": [],
      "source": [
        "def train_model(EPOCHS,model,train_loader,val_loader, loss_fn,optimizer,device, scheduler,X_train, X_test ,nametomodel):\n",
        "    history = defaultdict(list)\n",
        "    best_accuracy = 0\n",
        "    for epoch in range(EPOCHS):\n",
        "        print(f'Epoch {epoch + 1}/{EPOCHS}')\n",
        "        print('-' * 10)\n",
        "        train_acc, train_loss = train_epoch(model, train_loader, loss_fn, optimizer, device, scheduler, len(X_train))\n",
        "        print(f'Train loss {train_loss} accuracy {train_acc}')\n",
        "        val_acc, val_loss = eval_model(model, val_loader, loss_fn, device, len(X_test))\n",
        "        print(f'Val   loss {val_loss} accuracy {val_acc}')\n",
        "        print()\n",
        "        history['train_acc'].append(train_acc)\n",
        "        history['train_loss'].append(train_loss)\n",
        "        history['val_acc'].append(val_acc)\n",
        "        history['val_loss'].append(val_loss)\n",
        "        if val_acc > best_accuracy:\n",
        "            torch.save(model.state_dict(), nametomodel)\n",
        "            best_accuracy = val_acc\n",
        "    return history"
      ]
    },
    {
      "cell_type": "code",
      "execution_count": 55,
      "metadata": {
        "id": "oUl_hWAyrOjQ"
      },
      "outputs": [],
      "source": [
        "def class_name(df):\n",
        "    class_n = df.copy()\n",
        "    class_n = class_n[['emotion_en','emotion_id']]\n",
        "    class_n = class_n.drop_duplicates()\n",
        "    class_n = class_n.sort_values(by=['emotion_id'])\n",
        "    class_n = class_n.emotion_en\n",
        "    class_n.reset_index(drop=True, inplace=True)\n",
        "    return class_n"
      ]
    },
    {
      "cell_type": "code",
      "execution_count": null,
      "metadata": {
        "colab": {
          "base_uri": "https://localhost:8080/"
        },
        "id": "f7VZXCGe-W2s",
        "outputId": "6e03c374-f47c-489a-882c-77aaebae8f3a"
      },
      "outputs": [
        {
          "name": "stdout",
          "output_type": "stream",
          "text": [
            "0    expectation\n",
            "1          happy\n",
            "2          trust\n",
            "3           fear\n",
            "4       surprise\n",
            "5        sadness\n",
            "6        disgust\n",
            "7          anger\n",
            "Name: emotion_en, dtype: object\n",
            "8\n"
          ]
        },
        {
          "name": "stderr",
          "output_type": "stream",
          "text": [
            "Some weights of the model checkpoint at onlplab/alephbert-base were not used when initializing BertModel: ['cls.predictions.decoder.weight', 'cls.predictions.decoder.bias', 'cls.predictions.transform.dense.bias', 'cls.predictions.bias', 'cls.predictions.transform.LayerNorm.bias', 'cls.predictions.transform.LayerNorm.weight', 'cls.predictions.transform.dense.weight']\n",
            "- This IS expected if you are initializing BertModel from the checkpoint of a model trained on another task or with another architecture (e.g. initializing a BertForSequenceClassification model from a BertForPreTraining model).\n",
            "- This IS NOT expected if you are initializing BertModel from the checkpoint of a model that you expect to be exactly identical (initializing a BertForSequenceClassification model from a BertForSequenceClassification model).\n",
            "C:\\ProgramData\\Anaconda3\\lib\\site-packages\\transformers\\optimization.py:391: FutureWarning: This implementation of AdamW is deprecated and will be removed in a future version. Use the PyTorch implementation torch.optim.AdamW instead, or set `no_deprecation_warning=True` to disable this warning\n",
            "  warnings.warn(\n"
          ]
        },
        {
          "name": "stdout",
          "output_type": "stream",
          "text": [
            "Epoch 1/10\n",
            "----------\n",
            "Train loss 1.5436781821116594 accuracy 0.4491150442477876\n",
            "Val   loss 1.4515441391203139 accuracy 0.47787610619469023\n",
            "\n",
            "Epoch 2/10\n",
            "----------\n",
            "Train loss 1.2444002540178702 accuracy 0.5513274336283186\n",
            "Val   loss 1.4946401748392317 accuracy 0.4654867256637168\n",
            "\n",
            "Epoch 3/10\n",
            "----------\n",
            "Train loss 0.8199573939954731 accuracy 0.715929203539823\n",
            "Val   loss 1.944955478111903 accuracy 0.4424778761061947\n",
            "\n",
            "Epoch 4/10\n",
            "----------\n",
            "Train loss 0.4361514758685945 accuracy 0.8597345132743363\n",
            "Val   loss 2.410287880235248 accuracy 0.3663716814159292\n",
            "\n",
            "Epoch 5/10\n",
            "----------\n",
            "Train loss 0.23945273803940542 accuracy 0.9225663716814159\n",
            "Val   loss 2.617000248697069 accuracy 0.40353982300884955\n",
            "\n",
            "Epoch 6/10\n",
            "----------\n",
            "Train loss 0.12814163019172323 accuracy 0.9628318584070796\n",
            "Val   loss 2.8749188317192926 accuracy 0.4194690265486726\n",
            "\n",
            "Epoch 7/10\n",
            "----------\n",
            "Train loss 0.06902700494548542 accuracy 0.981858407079646\n",
            "Val   loss 3.157883965306812 accuracy 0.4230088495575221\n",
            "\n",
            "Epoch 8/10\n",
            "----------\n",
            "Train loss 0.04146568850338669 accuracy 0.9876106194690265\n",
            "Val   loss 3.3123067882325916 accuracy 0.4088495575221239\n",
            "\n",
            "Epoch 9/10\n",
            "----------\n",
            "Train loss 0.027359069707068865 accuracy 0.993362831858407\n",
            "Val   loss 3.3190217283036976 accuracy 0.415929203539823\n",
            "\n",
            "Epoch 10/10\n",
            "----------\n",
            "Train loss 0.021550171346974258 accuracy 0.9942477876106195\n",
            "Val   loss 3.353779501385159 accuracy 0.4265486725663717\n",
            "\n",
            "Wall time: 11min 51s\n"
          ]
        }
      ],
      "source": [
        "%%time\n",
        "\n",
        "BATCH_SIZE = 16\n",
        "MAX_LEN = 200\n",
        "EPOCHS = 10\n",
        "train_data_loader, val_data_loader = loader(train_tokens, train_tags,test_tokens,test_tags, MAX_LEN, BATCH_SIZE)\n",
        "class_names = class_name(df)\n",
        "print(class_names)\n",
        "print(len(class_names))\n",
        "device = torch.device(\"cuda:0\" if torch.cuda.is_available() else \"cpu\")\n",
        "model = getmodel(class_names, device, SentimentClassifier)\n",
        "optimizer, scheduler, loss_fn = opsclo(model, train_data_loader,EPOCHS , device)\n",
        "nametomodel = 'best_model_state_emotion.bin'\n",
        "history = train_model(EPOCHS,model,train_data_loader,val_data_loader, loss_fn,optimizer,device, scheduler,train_tokens, test_tokens,nametomodel)"
      ]
    },
    {
      "cell_type": "code",
      "execution_count": 56,
      "metadata": {
        "id": "1iStpM-0rOjR"
      },
      "outputs": [],
      "source": [
        "def plot(history):\n",
        "    if history['train_acc'][0].device.__eq__('cuda:0'):\n",
        "        train_acc = torch.tensor(history['train_acc']).cpu().numpy()\n",
        "        val_acc = torch.tensor(history['val_acc']).cpu().numpy()\n",
        "    else:\n",
        "        train_acc = history['train_acc']\n",
        "        val_acc = history['val_acc']    \n",
        "    plt.plot(train_acc, label='train accuracy')\n",
        "    plt.plot(val_acc, label='validation accuracy')\n",
        "    plt.title('Training history')\n",
        "    plt.ylabel('Accuracy')\n",
        "    plt.xlabel('Epoch')\n",
        "    plt.legend()\n",
        "    plt.ylim([0, 1])    "
      ]
    },
    {
      "cell_type": "code",
      "execution_count": null,
      "metadata": {
        "id": "j2f_zu-vrOjR",
        "outputId": "dcfb045a-b25f-4619-990a-63d361aa6a17"
      },
      "outputs": [
        {
          "name": "stderr",
          "output_type": "stream",
          "text": [
            "C:\\Users\\Naors\\AppData\\Local\\Temp/ipykernel_19872/2306657669.py:2: DeprecationWarning: NotImplemented should not be used in a boolean context\n",
            "  if history['train_acc'][0].device.__eq__('cuda:0'):\n"
          ]
        },
        {
          "data": {
            "image/png": "[encoded data removed]",
            "text/plain": [
              "<Figure size 432x288 with 1 Axes>"
            ]
          },
          "metadata": {
            "needs_background": "light"
          },
          "output_type": "display_data"
        }
      ],
      "source": [
        "plot(history)"
      ]
    },
    {
      "cell_type": "code",
      "execution_count": null,
      "metadata": {
        "id": "5M4GgWDxNKPF",
        "outputId": "e1cb45e8-84c9-4c46-cad3-19f461bb8699"
      },
      "outputs": [
        {
          "data": {
            "text/plain": [
              "<All keys matched successfully>"
            ]
          },
          "execution_count": 48,
          "metadata": {},
          "output_type": "execute_result"
        }
      ],
      "source": [
        "model.load_state_dict(torch.load(nametomodel))"
      ]
    },
    {
      "cell_type": "code",
      "execution_count": 57,
      "metadata": {
        "colab": {
          "base_uri": "https://localhost:8080/"
        },
        "id": "tbC11YbzrOjR",
        "outputId": "9d366672-4466-496c-c01b-4afc801a3b92"
      },
      "outputs": [
        {
          "output_type": "stream",
          "name": "stdout",
          "text": [
            "0    expectation\n",
            "1          happy\n",
            "2          trust\n",
            "3           fear\n",
            "4       surprise\n",
            "5        sadness\n",
            "6        disgust\n",
            "7          anger\n",
            "Name: emotion_en, dtype: object\n"
          ]
        }
      ],
      "source": [
        "class_names = class_name(df)\n",
        "print(class_names)"
      ]
    },
    {
      "cell_type": "code",
      "execution_count": null,
      "metadata": {
        "id": "IBuCO6IZrOjR",
        "outputId": "1a912cf4-199e-47ac-c72a-d24bdb73d63d"
      },
      "outputs": [
        {
          "name": "stdout",
          "output_type": "stream",
          "text": [
            "Review text: אני חושש \n",
            "Emotion  : 6    disgust\n",
            "Name: emotion_en, dtype: object\n"
          ]
        },
        {
          "name": "stderr",
          "output_type": "stream",
          "text": [
            "C:\\Users\\Naors\\AppData\\Local\\Temp/ipykernel_19872/605762713.py:16: DeprecationWarning: NotImplemented should not be used in a boolean context\n",
            "  if prediction.device.__eq__('cuda:0'):\n",
            "C:\\Users\\Naors\\AppData\\Local\\Temp/ipykernel_19872/605762713.py:17: UserWarning: To copy construct from a tensor, it is recommended to use sourceTensor.clone().detach() or sourceTensor.clone().detach().requires_grad_(True), rather than torch.tensor(sourceTensor).\n",
            "  pre = torch.tensor(prediction).cpu().numpy()\n"
          ]
        }
      ],
      "source": [
        "def get_emotion_line(text,model,MAX_LEN,class_name):\n",
        "    encoded_review = alephbert_tokenizer.encode_plus(\n",
        "        text,\n",
        "        max_length=MAX_LEN,\n",
        "        add_special_tokens=True,\n",
        "        return_token_type_ids=False,\n",
        "        pad_to_max_length=True,\n",
        "        return_attention_mask=True,\n",
        "        return_tensors='pt',\n",
        "    )\n",
        "    input_ids = encoded_review['input_ids'].to(device)\n",
        "    attention_mask = encoded_review['attention_mask'].to(device)\n",
        "    output = model(input_ids, attention_mask)\n",
        "    _, prediction = torch.max(output, dim=1)\n",
        "    print(f'Review text: {text}')\n",
        "    if prediction.device.__eq__('cuda:0'):\n",
        "        pre = torch.tensor(prediction).cpu().numpy()\n",
        "        print(f'Emotion  : {class_name[pre]}')\n",
        "    else:\n",
        "        print(f'Emotion  : {class_name[prediction]}')\n",
        "text = \"אני חושש \"\n",
        "get_emotion_line(text, model, MAX_LEN, class_names)"
      ]
    },
    {
      "cell_type": "code",
      "execution_count": 58,
      "metadata": {
        "colab": {
          "base_uri": "https://localhost:8080/",
          "height": 223
        },
        "id": "77QnMJqQrOjS",
        "outputId": "20923456-ea60-4940-bd0e-b8e4780ba377"
      },
      "outputs": [
        {
          "output_type": "display_data",
          "data": {
            "text/plain": [
              "   emotion_id             emotion   emotion_en  \\\n",
              "0           0  ציפייה, הבעת עניין  expectation   \n",
              "1           0  ציפייה, הבעת עניין  expectation   \n",
              "2           3            חשש, פחד         fear   \n",
              "3           6      סלידה, אי אמון      disgust   \n",
              "4           0  ציפייה, הבעת עניין  expectation   \n",
              "\n",
              "                                           talkbacks  \n",
              "0  כמה ישראלים צריך בכדי להחליף נורה? לא נתתם לה ...  \n",
              "1            הכל השני היה צריך להגיע מזמן הכל שקרים   \n",
              "2   אתה הגרוע ביותר! . קורא למטופלי קנאביס סוחרי ...  \n",
              "3               ורהמ עבר על חוק המתנות אם אם לו מותר  \n",
              "4  החלמה מהירהאיש יקר האופטימיות והשימחה תביא לרפ...  "
            ],
            "text/html": [
              "\n",
              "  <div id=\"df-8d8c77e2-116e-484d-857f-44203283a07d\">\n",
              "    <div class=\"colab-df-container\">\n",
              "      <div>\n",
              "<style scoped>\n",
              "    .dataframe tbody tr th:only-of-type {\n",
              "        vertical-align: middle;\n",
              "    }\n",
              "\n",
              "    .dataframe tbody tr th {\n",
              "        vertical-align: top;\n",
              "    }\n",
              "\n",
              "    .dataframe thead th {\n",
              "        text-align: right;\n",
              "    }\n",
              "</style>\n",
              "<table border=\"1\" class=\"dataframe\">\n",
              "  <thead>\n",
              "    <tr style=\"text-align: right;\">\n",
              "      <th></th>\n",
              "      <th>emotion_id</th>\n",
              "      <th>emotion</th>\n",
              "      <th>emotion_en</th>\n",
              "      <th>talkbacks</th>\n",
              "    </tr>\n",
              "  </thead>\n",
              "  <tbody>\n",
              "    <tr>\n",
              "      <th>0</th>\n",
              "      <td>0</td>\n",
              "      <td>ציפייה, הבעת עניין</td>\n",
              "      <td>expectation</td>\n",
              "      <td>כמה ישראלים צריך בכדי להחליף נורה? לא נתתם לה ...</td>\n",
              "    </tr>\n",
              "    <tr>\n",
              "      <th>1</th>\n",
              "      <td>0</td>\n",
              "      <td>ציפייה, הבעת עניין</td>\n",
              "      <td>expectation</td>\n",
              "      <td>הכל השני היה צריך להגיע מזמן הכל שקרים</td>\n",
              "    </tr>\n",
              "    <tr>\n",
              "      <th>2</th>\n",
              "      <td>3</td>\n",
              "      <td>חשש, פחד</td>\n",
              "      <td>fear</td>\n",
              "      <td>אתה הגרוע ביותר! . קורא למטופלי קנאביס סוחרי ...</td>\n",
              "    </tr>\n",
              "    <tr>\n",
              "      <th>3</th>\n",
              "      <td>6</td>\n",
              "      <td>סלידה, אי אמון</td>\n",
              "      <td>disgust</td>\n",
              "      <td>ורהמ עבר על חוק המתנות אם אם לו מותר</td>\n",
              "    </tr>\n",
              "    <tr>\n",
              "      <th>4</th>\n",
              "      <td>0</td>\n",
              "      <td>ציפייה, הבעת עניין</td>\n",
              "      <td>expectation</td>\n",
              "      <td>החלמה מהירהאיש יקר האופטימיות והשימחה תביא לרפ...</td>\n",
              "    </tr>\n",
              "  </tbody>\n",
              "</table>\n",
              "</div>\n",
              "      <button class=\"colab-df-convert\" onclick=\"convertToInteractive('df-8d8c77e2-116e-484d-857f-44203283a07d')\"\n",
              "              title=\"Convert this dataframe to an interactive table.\"\n",
              "              style=\"display:none;\">\n",
              "        \n",
              "  <svg xmlns=\"http://www.w3.org/2000/svg\" height=\"24px\"viewBox=\"0 0 24 24\"\n",
              "       width=\"24px\">\n",
              "    <path d=\"M0 0h24v24H0V0z\" fill=\"none\"/>\n",
              "    <path d=\"M18.56 5.44l.94 2.06.94-2.06 2.06-.94-2.06-.94-.94-2.06-.94 2.06-2.06.94zm-11 1L8.5 8.5l.94-2.06 2.06-.94-2.06-.94L8.5 2.5l-.94 2.06-2.06.94zm10 10l.94 2.06.94-2.06 2.06-.94-2.06-.94-.94-2.06-.94 2.06-2.06.94z\"/><path d=\"M17.41 7.96l-1.37-1.37c-.4-.4-.92-.59-1.43-.59-.52 0-1.04.2-1.43.59L10.3 9.45l-7.72 7.72c-.78.78-.78 2.05 0 2.83L4 21.41c.39.39.9.59 1.41.59.51 0 1.02-.2 1.41-.59l7.78-7.78 2.81-2.81c.8-.78.8-2.07 0-2.86zM5.41 20L4 18.59l7.72-7.72 1.47 1.35L5.41 20z\"/>\n",
              "  </svg>\n",
              "      </button>\n",
              "      \n",
              "  <style>\n",
              "    .colab-df-container {\n",
              "      display:flex;\n",
              "      flex-wrap:wrap;\n",
              "      gap: 12px;\n",
              "    }\n",
              "\n",
              "    .colab-df-convert {\n",
              "      background-color: #E8F0FE;\n",
              "      border: none;\n",
              "      border-radius: 50%;\n",
              "      cursor: pointer;\n",
              "      display: none;\n",
              "      fill: #1967D2;\n",
              "      height: 32px;\n",
              "      padding: 0 0 0 0;\n",
              "      width: 32px;\n",
              "    }\n",
              "\n",
              "    .colab-df-convert:hover {\n",
              "      background-color: #E2EBFA;\n",
              "      box-shadow: 0px 1px 2px rgba(60, 64, 67, 0.3), 0px 1px 3px 1px rgba(60, 64, 67, 0.15);\n",
              "      fill: #174EA6;\n",
              "    }\n",
              "\n",
              "    [theme=dark] .colab-df-convert {\n",
              "      background-color: #3B4455;\n",
              "      fill: #D2E3FC;\n",
              "    }\n",
              "\n",
              "    [theme=dark] .colab-df-convert:hover {\n",
              "      background-color: #434B5C;\n",
              "      box-shadow: 0px 1px 3px 1px rgba(0, 0, 0, 0.15);\n",
              "      filter: drop-shadow(0px 1px 2px rgba(0, 0, 0, 0.3));\n",
              "      fill: #FFFFFF;\n",
              "    }\n",
              "  </style>\n",
              "\n",
              "      <script>\n",
              "        const buttonEl =\n",
              "          document.querySelector('#df-8d8c77e2-116e-484d-857f-44203283a07d button.colab-df-convert');\n",
              "        buttonEl.style.display =\n",
              "          google.colab.kernel.accessAllowed ? 'block' : 'none';\n",
              "\n",
              "        async function convertToInteractive(key) {\n",
              "          const element = document.querySelector('#df-8d8c77e2-116e-484d-857f-44203283a07d');\n",
              "          const dataTable =\n",
              "            await google.colab.kernel.invokeFunction('convertToInteractive',\n",
              "                                                     [key], {});\n",
              "          if (!dataTable) return;\n",
              "\n",
              "          const docLinkHtml = 'Like what you see? Visit the ' +\n",
              "            '<a target=\"_blank\" href=https://colab.research.google.com/notebooks/data_table.ipynb>data table notebook</a>'\n",
              "            + ' to learn more about interactive tables.';\n",
              "          element.innerHTML = '';\n",
              "          dataTable['output_type'] = 'display_data';\n",
              "          await google.colab.output.renderOutput(dataTable, element);\n",
              "          const docLink = document.createElement('div');\n",
              "          docLink.innerHTML = docLinkHtml;\n",
              "          element.appendChild(docLink);\n",
              "        }\n",
              "      </script>\n",
              "    </div>\n",
              "  </div>\n",
              "  "
            ]
          },
          "metadata": {}
        },
        {
          "output_type": "stream",
          "name": "stdout",
          "text": [
            "None\n"
          ]
        }
      ],
      "source": [
        "df_insample = pd.read_csv('data_test_insample_tagged_raw_to_publish.csv')\n",
        "df_insample = df_insample.drop('Unnamed: 0',axis = 1)\n",
        "print(display(df_insample.head()))"
      ]
    },
    {
      "cell_type": "code",
      "execution_count": 59,
      "metadata": {
        "id": "8nDI7WbxrOjS"
      },
      "outputs": [],
      "source": [
        "X_test_insample = df_insample.talkbacks\n",
        "X_test_insample = X_test_insample.to_numpy()\n",
        "Y_test_insample = df_insample.emotion_id\n",
        "Y_test_insample = Y_test_insample.to_numpy()"
      ]
    },
    {
      "cell_type": "code",
      "execution_count": 60,
      "metadata": {
        "id": "ToH9Vt_6rOjS"
      },
      "outputs": [],
      "source": [
        "test_data_loader_insample = create_data_loader(X_test_insample,Y_test_insample, alephbert_tokenizer, MAX_LEN, BATCH_SIZE)"
      ]
    },
    {
      "cell_type": "code",
      "execution_count": null,
      "metadata": {
        "id": "pCn3C39krOjT",
        "outputId": "3da0d785-15dd-4140-9d11-9ca9c2d8382d"
      },
      "outputs": [
        {
          "name": "stderr",
          "output_type": "stream",
          "text": [
            "C:\\ProgramData\\Anaconda3\\lib\\site-packages\\transformers\\tokenization_utils_base.py:2354: FutureWarning: The `pad_to_max_length` argument is deprecated and will be removed in a future version, use `padding=True` or `padding='longest'` to pad to the longest sequence in the batch, or use `padding='max_length'` to pad to a max length. In this case, you can give a specific length with `max_length` (e.g. `max_length=45`) or leave max_length to None to pad to the maximal input size of the model (e.g. 512 for Bert).\n",
            "  warnings.warn(\n"
          ]
        }
      ],
      "source": [
        "test_insample_acc, test_insample_loss = eval_model(model, test_data_loader_insample, loss_fn, device, len(X_test_insample))"
      ]
    },
    {
      "cell_type": "code",
      "execution_count": null,
      "metadata": {
        "id": "VKpzFMBtrOjT",
        "outputId": "de5c1a7b-0a2c-4cc9-e822-adaf0720e4ef"
      },
      "outputs": [
        {
          "name": "stdout",
          "output_type": "stream",
          "text": [
            "test insample loss 2.095965944487473 accuracy 0.2885032537960954\n"
          ]
        }
      ],
      "source": [
        "print(f'test insample loss {test_insample_loss} accuracy {test_insample_acc}')"
      ]
    },
    {
      "cell_type": "code",
      "execution_count": 61,
      "metadata": {
        "id": "iyvY5x5GrOjT"
      },
      "outputs": [],
      "source": [
        "def get_predictions(model, data_loader):\n",
        "    model = model.eval()\n",
        "    review_texts = []\n",
        "    predictions = []\n",
        "    prediction_probs = []\n",
        "    real_values = []\n",
        "    with torch.no_grad():\n",
        "        for d in data_loader:\n",
        "            texts = d[\"review_text\"]\n",
        "            input_ids = d[\"input_ids\"].to(device)\n",
        "            attention_mask = d[\"attention_mask\"].to(device)\n",
        "            targets = d[\"targets\"].to(device)\n",
        "            outputs = model(\n",
        "            input_ids=input_ids,\n",
        "            attention_mask=attention_mask\n",
        "            )\n",
        "            _, preds = torch.max(outputs, dim=1)\n",
        "            review_texts.extend(texts)\n",
        "            predictions.extend(preds)\n",
        "            prediction_probs.extend(outputs)\n",
        "            real_values.extend(targets)\n",
        "    predictions = torch.stack(predictions).cpu()\n",
        "    prediction_probs = torch.stack(prediction_probs).cpu()\n",
        "    real_values = torch.stack(real_values).cpu()\n",
        "    return review_texts, predictions, prediction_probs, real_values"
      ]
    },
    {
      "cell_type": "code",
      "execution_count": null,
      "metadata": {
        "id": "0CakBgaTrOjU",
        "outputId": "f5c80583-2b78-4e0f-c4ad-551b70c72937"
      },
      "outputs": [
        {
          "name": "stdout",
          "output_type": "stream",
          "text": [
            "\n",
            "Classification Report test insample:\n",
            "\n",
            "               precision    recall  f1-score   support\n",
            "\n",
            " expectation       0.81      0.19      0.31       175\n",
            "       happy       0.00      0.00      0.00         3\n",
            "       trust       0.00      0.00      0.00         2\n",
            "        fear       0.00      0.00      0.00       103\n",
            "    surprise       0.00      0.00      0.00        18\n",
            "     sadness       0.00      0.00      0.00        53\n",
            "     disgust       0.24      0.97      0.38       102\n",
            "       anger       0.00      0.00      0.00         5\n",
            "\n",
            "    accuracy                           0.29       461\n",
            "   macro avg       0.13      0.15      0.09       461\n",
            "weighted avg       0.36      0.29      0.20       461\n",
            "\n"
          ]
        },
        {
          "name": "stderr",
          "output_type": "stream",
          "text": [
            "C:\\ProgramData\\Anaconda3\\lib\\site-packages\\sklearn\\metrics\\_classification.py:1344: UndefinedMetricWarning: Precision and F-score are ill-defined and being set to 0.0 in labels with no predicted samples. Use `zero_division` parameter to control this behavior.\n",
            "  _warn_prf(average, modifier, msg_start, len(result))\n",
            "C:\\ProgramData\\Anaconda3\\lib\\site-packages\\sklearn\\metrics\\_classification.py:1344: UndefinedMetricWarning: Precision and F-score are ill-defined and being set to 0.0 in labels with no predicted samples. Use `zero_division` parameter to control this behavior.\n",
            "  _warn_prf(average, modifier, msg_start, len(result))\n",
            "C:\\ProgramData\\Anaconda3\\lib\\site-packages\\sklearn\\metrics\\_classification.py:1344: UndefinedMetricWarning: Precision and F-score are ill-defined and being set to 0.0 in labels with no predicted samples. Use `zero_division` parameter to control this behavior.\n",
            "  _warn_prf(average, modifier, msg_start, len(result))\n"
          ]
        }
      ],
      "source": [
        "y_review_texts, y_pred, y_pred_probs, y_test = get_predictions(model,test_data_loader_insample)\n",
        "print('\\nClassification Report test insample:\\n\\n',classification_report(y_test, y_pred, target_names=class_names))"
      ]
    },
    {
      "cell_type": "code",
      "execution_count": null,
      "metadata": {
        "id": "2pRGgCYrrOjU"
      },
      "outputs": [],
      "source": [
        "#model.load_state_dict(torch.load(nametomodel))"
      ]
    },
    {
      "cell_type": "code",
      "execution_count": 62,
      "metadata": {
        "colab": {
          "base_uri": "https://localhost:8080/",
          "height": 223
        },
        "id": "c9MhPaxHrOjU",
        "outputId": "ea266a2d-4eb6-41b8-ed70-8292d9bf3ad4"
      },
      "outputs": [
        {
          "output_type": "display_data",
          "data": {
            "text/plain": [
              "   emotion_id             emotion   emotion_en  \\\n",
              "0           1       שמחה, התלהבות        happy   \n",
              "1           3            חשש, פחד         fear   \n",
              "2           2           הבעת אמון        trust   \n",
              "3           0  ציפייה, הבעת עניין  expectation   \n",
              "4           6      סלידה, אי אמון      disgust   \n",
              "\n",
              "                                           talkbacks  \n",
              "0   All the power to you . אנחנו מאמינים בך וסומכ...  \n",
              "1     ככה נראת תחילתה של האנרכיה, תחי מדינת ישראל     \n",
              "2                 כל הכבוד, בבחירות הקול שלי עם בנט   \n",
              "3                    כל הכבוד המשך כך בעשייה חיובית   \n",
              "4      בנט אם ביבי תתן לך לטיפה תחזור אליו כמו פודל   "
            ],
            "text/html": [
              "\n",
              "  <div id=\"df-f04f66f6-7460-4ae6-9c79-736943a59d73\">\n",
              "    <div class=\"colab-df-container\">\n",
              "      <div>\n",
              "<style scoped>\n",
              "    .dataframe tbody tr th:only-of-type {\n",
              "        vertical-align: middle;\n",
              "    }\n",
              "\n",
              "    .dataframe tbody tr th {\n",
              "        vertical-align: top;\n",
              "    }\n",
              "\n",
              "    .dataframe thead th {\n",
              "        text-align: right;\n",
              "    }\n",
              "</style>\n",
              "<table border=\"1\" class=\"dataframe\">\n",
              "  <thead>\n",
              "    <tr style=\"text-align: right;\">\n",
              "      <th></th>\n",
              "      <th>emotion_id</th>\n",
              "      <th>emotion</th>\n",
              "      <th>emotion_en</th>\n",
              "      <th>talkbacks</th>\n",
              "    </tr>\n",
              "  </thead>\n",
              "  <tbody>\n",
              "    <tr>\n",
              "      <th>0</th>\n",
              "      <td>1</td>\n",
              "      <td>שמחה, התלהבות</td>\n",
              "      <td>happy</td>\n",
              "      <td>All the power to you . אנחנו מאמינים בך וסומכ...</td>\n",
              "    </tr>\n",
              "    <tr>\n",
              "      <th>1</th>\n",
              "      <td>3</td>\n",
              "      <td>חשש, פחד</td>\n",
              "      <td>fear</td>\n",
              "      <td>ככה נראת תחילתה של האנרכיה, תחי מדינת ישראל</td>\n",
              "    </tr>\n",
              "    <tr>\n",
              "      <th>2</th>\n",
              "      <td>2</td>\n",
              "      <td>הבעת אמון</td>\n",
              "      <td>trust</td>\n",
              "      <td>כל הכבוד, בבחירות הקול שלי עם בנט</td>\n",
              "    </tr>\n",
              "    <tr>\n",
              "      <th>3</th>\n",
              "      <td>0</td>\n",
              "      <td>ציפייה, הבעת עניין</td>\n",
              "      <td>expectation</td>\n",
              "      <td>כל הכבוד המשך כך בעשייה חיובית</td>\n",
              "    </tr>\n",
              "    <tr>\n",
              "      <th>4</th>\n",
              "      <td>6</td>\n",
              "      <td>סלידה, אי אמון</td>\n",
              "      <td>disgust</td>\n",
              "      <td>בנט אם ביבי תתן לך לטיפה תחזור אליו כמו פודל</td>\n",
              "    </tr>\n",
              "  </tbody>\n",
              "</table>\n",
              "</div>\n",
              "      <button class=\"colab-df-convert\" onclick=\"convertToInteractive('df-f04f66f6-7460-4ae6-9c79-736943a59d73')\"\n",
              "              title=\"Convert this dataframe to an interactive table.\"\n",
              "              style=\"display:none;\">\n",
              "        \n",
              "  <svg xmlns=\"http://www.w3.org/2000/svg\" height=\"24px\"viewBox=\"0 0 24 24\"\n",
              "       width=\"24px\">\n",
              "    <path d=\"M0 0h24v24H0V0z\" fill=\"none\"/>\n",
              "    <path d=\"M18.56 5.44l.94 2.06.94-2.06 2.06-.94-2.06-.94-.94-2.06-.94 2.06-2.06.94zm-11 1L8.5 8.5l.94-2.06 2.06-.94-2.06-.94L8.5 2.5l-.94 2.06-2.06.94zm10 10l.94 2.06.94-2.06 2.06-.94-2.06-.94-.94-2.06-.94 2.06-2.06.94z\"/><path d=\"M17.41 7.96l-1.37-1.37c-.4-.4-.92-.59-1.43-.59-.52 0-1.04.2-1.43.59L10.3 9.45l-7.72 7.72c-.78.78-.78 2.05 0 2.83L4 21.41c.39.39.9.59 1.41.59.51 0 1.02-.2 1.41-.59l7.78-7.78 2.81-2.81c.8-.78.8-2.07 0-2.86zM5.41 20L4 18.59l7.72-7.72 1.47 1.35L5.41 20z\"/>\n",
              "  </svg>\n",
              "      </button>\n",
              "      \n",
              "  <style>\n",
              "    .colab-df-container {\n",
              "      display:flex;\n",
              "      flex-wrap:wrap;\n",
              "      gap: 12px;\n",
              "    }\n",
              "\n",
              "    .colab-df-convert {\n",
              "      background-color: #E8F0FE;\n",
              "      border: none;\n",
              "      border-radius: 50%;\n",
              "      cursor: pointer;\n",
              "      display: none;\n",
              "      fill: #1967D2;\n",
              "      height: 32px;\n",
              "      padding: 0 0 0 0;\n",
              "      width: 32px;\n",
              "    }\n",
              "\n",
              "    .colab-df-convert:hover {\n",
              "      background-color: #E2EBFA;\n",
              "      box-shadow: 0px 1px 2px rgba(60, 64, 67, 0.3), 0px 1px 3px 1px rgba(60, 64, 67, 0.15);\n",
              "      fill: #174EA6;\n",
              "    }\n",
              "\n",
              "    [theme=dark] .colab-df-convert {\n",
              "      background-color: #3B4455;\n",
              "      fill: #D2E3FC;\n",
              "    }\n",
              "\n",
              "    [theme=dark] .colab-df-convert:hover {\n",
              "      background-color: #434B5C;\n",
              "      box-shadow: 0px 1px 3px 1px rgba(0, 0, 0, 0.15);\n",
              "      filter: drop-shadow(0px 1px 2px rgba(0, 0, 0, 0.3));\n",
              "      fill: #FFFFFF;\n",
              "    }\n",
              "  </style>\n",
              "\n",
              "      <script>\n",
              "        const buttonEl =\n",
              "          document.querySelector('#df-f04f66f6-7460-4ae6-9c79-736943a59d73 button.colab-df-convert');\n",
              "        buttonEl.style.display =\n",
              "          google.colab.kernel.accessAllowed ? 'block' : 'none';\n",
              "\n",
              "        async function convertToInteractive(key) {\n",
              "          const element = document.querySelector('#df-f04f66f6-7460-4ae6-9c79-736943a59d73');\n",
              "          const dataTable =\n",
              "            await google.colab.kernel.invokeFunction('convertToInteractive',\n",
              "                                                     [key], {});\n",
              "          if (!dataTable) return;\n",
              "\n",
              "          const docLinkHtml = 'Like what you see? Visit the ' +\n",
              "            '<a target=\"_blank\" href=https://colab.research.google.com/notebooks/data_table.ipynb>data table notebook</a>'\n",
              "            + ' to learn more about interactive tables.';\n",
              "          element.innerHTML = '';\n",
              "          dataTable['output_type'] = 'display_data';\n",
              "          await google.colab.output.renderOutput(dataTable, element);\n",
              "          const docLink = document.createElement('div');\n",
              "          docLink.innerHTML = docLinkHtml;\n",
              "          element.appendChild(docLink);\n",
              "        }\n",
              "      </script>\n",
              "    </div>\n",
              "  </div>\n",
              "  "
            ]
          },
          "metadata": {}
        },
        {
          "output_type": "stream",
          "name": "stdout",
          "text": [
            "None\n"
          ]
        }
      ],
      "source": [
        "df_outsample = pd.read_csv('data_test_outsample_tagged_raw_to_publish.csv')\n",
        "df_outsample = df_outsample.drop('Unnamed: 0',axis = 1)\n",
        "print(display(df_outsample.head()))"
      ]
    },
    {
      "cell_type": "code",
      "execution_count": 63,
      "metadata": {
        "id": "68VedbxvrOjU"
      },
      "outputs": [],
      "source": [
        "X_test_outsample = df_outsample.talkbacks\n",
        "X_test_outsample = X_test_outsample.to_numpy()\n",
        "Y_test_outsample = df_outsample.emotion_id\n",
        "Y_test_outsample = Y_test_outsample.to_numpy()"
      ]
    },
    {
      "cell_type": "code",
      "execution_count": 64,
      "metadata": {
        "id": "4p39HjtSrOjV"
      },
      "outputs": [],
      "source": [
        "test_data_loader_outsample = create_data_loader(X_test_outsample,Y_test_outsample, alephbert_tokenizer, MAX_LEN, BATCH_SIZE)"
      ]
    },
    {
      "cell_type": "code",
      "execution_count": null,
      "metadata": {
        "id": "-yefP2RKrOjV",
        "outputId": "7017638f-fbd4-4b96-da0e-654286dee5de"
      },
      "outputs": [
        {
          "name": "stderr",
          "output_type": "stream",
          "text": [
            "C:\\ProgramData\\Anaconda3\\lib\\site-packages\\transformers\\tokenization_utils_base.py:2354: FutureWarning: The `pad_to_max_length` argument is deprecated and will be removed in a future version, use `padding=True` or `padding='longest'` to pad to the longest sequence in the batch, or use `padding='max_length'` to pad to a max length. In this case, you can give a specific length with `max_length` (e.g. `max_length=45`) or leave max_length to None to pad to the maximal input size of the model (e.g. 512 for Bert).\n",
            "  warnings.warn(\n"
          ]
        }
      ],
      "source": [
        "test_outsample_acc, test_outsample_loss = eval_model(model, test_data_loader_outsample, loss_fn, device, len(X_test_outsample))"
      ]
    },
    {
      "cell_type": "code",
      "execution_count": null,
      "metadata": {
        "id": "NRQIGq8yrOjV",
        "outputId": "d76f8966-8e96-48e4-d7ed-dd13c59faa46"
      },
      "outputs": [
        {
          "name": "stdout",
          "output_type": "stream",
          "text": [
            "test outsample loss 1.097013337271554 accuracy 0.7083333333333333\n"
          ]
        }
      ],
      "source": [
        "print(f'test outsample loss {test_outsample_loss} accuracy {test_outsample_acc}')"
      ]
    },
    {
      "cell_type": "code",
      "execution_count": null,
      "metadata": {
        "id": "hJiW7OFGrOjV",
        "outputId": "243fb058-3abd-45b3-aac7-34c72d790dbb"
      },
      "outputs": [
        {
          "name": "stdout",
          "output_type": "stream",
          "text": [
            "\n",
            "Classification Report test outsample:\n",
            "\n",
            "               precision    recall  f1-score   support\n",
            "\n",
            " expectation       0.47      0.82      0.60        17\n",
            "       happy       0.00      0.00      0.00         6\n",
            "       trust       0.00      0.00      0.00        10\n",
            "        fear       0.00      0.00      0.00         4\n",
            "    surprise       0.00      0.00      0.00         1\n",
            "     sadness       0.00      0.00      0.00        14\n",
            "     disgust       0.75      0.96      0.84       145\n",
            "       anger       0.00      0.00      0.00        19\n",
            "\n",
            "    accuracy                           0.71       216\n",
            "   macro avg       0.15      0.22      0.18       216\n",
            "weighted avg       0.54      0.71      0.61       216\n",
            "\n"
          ]
        },
        {
          "name": "stderr",
          "output_type": "stream",
          "text": [
            "C:\\ProgramData\\Anaconda3\\lib\\site-packages\\sklearn\\metrics\\_classification.py:1344: UndefinedMetricWarning: Precision and F-score are ill-defined and being set to 0.0 in labels with no predicted samples. Use `zero_division` parameter to control this behavior.\n",
            "  _warn_prf(average, modifier, msg_start, len(result))\n",
            "C:\\ProgramData\\Anaconda3\\lib\\site-packages\\sklearn\\metrics\\_classification.py:1344: UndefinedMetricWarning: Precision and F-score are ill-defined and being set to 0.0 in labels with no predicted samples. Use `zero_division` parameter to control this behavior.\n",
            "  _warn_prf(average, modifier, msg_start, len(result))\n",
            "C:\\ProgramData\\Anaconda3\\lib\\site-packages\\sklearn\\metrics\\_classification.py:1344: UndefinedMetricWarning: Precision and F-score are ill-defined and being set to 0.0 in labels with no predicted samples. Use `zero_division` parameter to control this behavior.\n",
            "  _warn_prf(average, modifier, msg_start, len(result))\n"
          ]
        }
      ],
      "source": [
        "y_review_texts, y_pred, y_pred_probs, y_test = get_predictions(model,test_data_loader_outsample)\n",
        "print('\\nClassification Report test outsample:\\n\\n',classification_report(y_test, y_pred, target_names=class_names))"
      ]
    },
    {
      "cell_type": "code",
      "execution_count": null,
      "metadata": {
        "id": "Pw_JqSICrOjV"
      },
      "outputs": [],
      "source": []
    },
    {
      "cell_type": "code",
      "execution_count": null,
      "metadata": {
        "id": "qukWq8U4rOjW",
        "outputId": "9d35a4b2-c186-47b6-87b5-137503702f57"
      },
      "outputs": [
        {
          "name": "stdout",
          "output_type": "stream",
          "text": [
            "0    expectation\n",
            "1          happy\n",
            "2          trust\n",
            "3           fear\n",
            "4       surprise\n",
            "5        sadness\n",
            "6        disgust\n",
            "7          anger\n",
            "Name: emotion_en, dtype: object\n",
            "8\n"
          ]
        },
        {
          "name": "stderr",
          "output_type": "stream",
          "text": [
            "Some weights of the model checkpoint at onlplab/alephbert-base were not used when initializing BertModel: ['cls.predictions.transform.dense.bias', 'cls.predictions.transform.LayerNorm.bias', 'cls.predictions.transform.dense.weight', 'cls.predictions.transform.LayerNorm.weight', 'cls.predictions.bias', 'cls.predictions.decoder.weight', 'cls.predictions.decoder.bias']\n",
            "- This IS expected if you are initializing BertModel from the checkpoint of a model trained on another task or with another architecture (e.g. initializing a BertForSequenceClassification model from a BertForPreTraining model).\n",
            "- This IS NOT expected if you are initializing BertModel from the checkpoint of a model that you expect to be exactly identical (initializing a BertForSequenceClassification model from a BertForSequenceClassification model).\n",
            "C:\\ProgramData\\Anaconda3\\lib\\site-packages\\transformers\\optimization.py:391: FutureWarning: This implementation of AdamW is deprecated and will be removed in a future version. Use the PyTorch implementation torch.optim.AdamW instead, or set `no_deprecation_warning=True` to disable this warning\n",
            "  warnings.warn(\n",
            "C:\\ProgramData\\Anaconda3\\lib\\site-packages\\transformers\\tokenization_utils_base.py:2354: FutureWarning: The `pad_to_max_length` argument is deprecated and will be removed in a future version, use `padding=True` or `padding='longest'` to pad to the longest sequence in the batch, or use `padding='max_length'` to pad to a max length. In this case, you can give a specific length with `max_length` (e.g. `max_length=45`) or leave max_length to None to pad to the maximal input size of the model (e.g. 512 for Bert).\n",
            "  warnings.warn(\n"
          ]
        },
        {
          "name": "stdout",
          "output_type": "stream",
          "text": [
            "Epoch 1/10\n",
            "----------\n",
            "Train loss 1.5977711014344658 accuracy 0.4570796460176991\n",
            "Val   loss 1.4661350316471524 accuracy 0.47079646017699117\n",
            "\n",
            "Epoch 2/10\n",
            "----------\n",
            "Train loss 1.4094383162511905 accuracy 0.5070796460176991\n",
            "Val   loss 1.489002502626843 accuracy 0.47787610619469023\n",
            "\n",
            "Epoch 3/10\n",
            "----------\n",
            "Train loss 1.2284097637928708 accuracy 0.5849557522123894\n",
            "Val   loss 1.5862598286734686 accuracy 0.479646017699115\n",
            "\n",
            "Epoch 4/10\n",
            "----------\n",
            "Train loss 0.9945144714184211 accuracy 0.665929203539823\n",
            "Val   loss 1.6926106578773923 accuracy 0.44955752212389377\n",
            "\n",
            "Epoch 5/10\n",
            "----------\n",
            "Train loss 0.7512874221298057 accuracy 0.7716814159292036\n",
            "Val   loss 1.8299531009462144 accuracy 0.39292035398230085\n",
            "\n",
            "Epoch 6/10\n",
            "----------\n",
            "Train loss 0.5854993097379174 accuracy 0.8336283185840708\n",
            "Val   loss 1.9608451856507196 accuracy 0.3858407079646018\n",
            "\n",
            "Epoch 7/10\n",
            "----------\n",
            "Train loss 0.42802383414876294 accuracy 0.8805309734513275\n",
            "Val   loss 2.086011896530787 accuracy 0.415929203539823\n",
            "\n",
            "Epoch 8/10\n",
            "----------\n",
            "Train loss 0.3274822596617987 accuracy 0.9097345132743363\n",
            "Val   loss 2.1607695553037853 accuracy 0.4265486725663717\n",
            "\n",
            "Epoch 9/10\n",
            "----------\n",
            "Train loss 0.2575906438516899 accuracy 0.9362831858407079\n",
            "Val   loss 2.2740667230553098 accuracy 0.4247787610619469\n",
            "\n",
            "Epoch 10/10\n",
            "----------\n",
            "Train loss 0.22882007411353186 accuracy 0.947787610619469\n",
            "Val   loss 2.313591023286184 accuracy 0.4265486725663717\n",
            "\n",
            "Wall time: 11min 37s\n"
          ]
        },
        {
          "name": "stderr",
          "output_type": "stream",
          "text": [
            "C:\\Users\\Naors\\AppData\\Local\\Temp/ipykernel_11708/2306657669.py:2: DeprecationWarning: NotImplemented should not be used in a boolean context\n",
            "  if history['train_acc'][0].device.__eq__('cuda:0'):\n"
          ]
        },
        {
          "data": {
            "image/png": "[encoded data removed]",
            "text/plain": [
              "<Figure size 432x288 with 1 Axes>"
            ]
          },
          "metadata": {
            "needs_background": "light"
          },
          "output_type": "display_data"
        }
      ],
      "source": [
        "%%time\n",
        "\n",
        "BATCH_SIZE = 16\n",
        "MAX_LEN = 200\n",
        "EPOCHS = 10\n",
        "train_data_loader, val_data_loader = loader(train_tokens, train_tags,test_tokens,test_tags, MAX_LEN, BATCH_SIZE)\n",
        "class_names = class_name(df)\n",
        "print(class_names)\n",
        "print(len(class_names))\n",
        "device = torch.device(\"cuda:0\" if torch.cuda.is_available() else \"cpu\")\n",
        "model_E = getmodel(class_names, device, EmotionClassifier)\n",
        "optimizer, scheduler, loss_fn = opsclo(model_E, train_data_loader,EPOCHS , device)\n",
        "nametomodel = 'best_model_E_state_emotion.bin'\n",
        "history = train_model(EPOCHS,model_E,train_data_loader,val_data_loader, loss_fn,optimizer,device, scheduler,train_tokens, test_tokens,nametomodel)\n",
        "plot(history)"
      ]
    },
    {
      "cell_type": "code",
      "execution_count": null,
      "metadata": {
        "id": "L0iszyn4rOjW",
        "outputId": "6bbeee81-11dc-4709-8218-fbd140c2373d"
      },
      "outputs": [
        {
          "name": "stderr",
          "output_type": "stream",
          "text": [
            "C:\\ProgramData\\Anaconda3\\lib\\site-packages\\transformers\\tokenization_utils_base.py:2354: FutureWarning: The `pad_to_max_length` argument is deprecated and will be removed in a future version, use `padding=True` or `padding='longest'` to pad to the longest sequence in the batch, or use `padding='max_length'` to pad to a max length. In this case, you can give a specific length with `max_length` (e.g. `max_length=45`) or leave max_length to None to pad to the maximal input size of the model (e.g. 512 for Bert).\n",
            "  warnings.warn(\n"
          ]
        },
        {
          "name": "stdout",
          "output_type": "stream",
          "text": [
            "test insample loss 2.310031697667878 accuracy 0.32537960954446854\n"
          ]
        },
        {
          "name": "stderr",
          "output_type": "stream",
          "text": [
            "C:\\ProgramData\\Anaconda3\\lib\\site-packages\\sklearn\\metrics\\_classification.py:1344: UndefinedMetricWarning: Precision and F-score are ill-defined and being set to 0.0 in labels with no predicted samples. Use `zero_division` parameter to control this behavior.\n",
            "  _warn_prf(average, modifier, msg_start, len(result))\n",
            "C:\\ProgramData\\Anaconda3\\lib\\site-packages\\sklearn\\metrics\\_classification.py:1344: UndefinedMetricWarning: Precision and F-score are ill-defined and being set to 0.0 in labels with no predicted samples. Use `zero_division` parameter to control this behavior.\n",
            "  _warn_prf(average, modifier, msg_start, len(result))\n",
            "C:\\ProgramData\\Anaconda3\\lib\\site-packages\\sklearn\\metrics\\_classification.py:1344: UndefinedMetricWarning: Precision and F-score are ill-defined and being set to 0.0 in labels with no predicted samples. Use `zero_division` parameter to control this behavior.\n",
            "  _warn_prf(average, modifier, msg_start, len(result))\n",
            "C:\\ProgramData\\Anaconda3\\lib\\site-packages\\transformers\\tokenization_utils_base.py:2354: FutureWarning: The `pad_to_max_length` argument is deprecated and will be removed in a future version, use `padding=True` or `padding='longest'` to pad to the longest sequence in the batch, or use `padding='max_length'` to pad to a max length. In this case, you can give a specific length with `max_length` (e.g. `max_length=45`) or leave max_length to None to pad to the maximal input size of the model (e.g. 512 for Bert).\n",
            "  warnings.warn(\n"
          ]
        },
        {
          "name": "stdout",
          "output_type": "stream",
          "text": [
            "\n",
            "Classification Report test insample:\n",
            "\n",
            "               precision    recall  f1-score   support\n",
            "\n",
            " expectation       0.66      0.33      0.44       175\n",
            "       happy       0.00      0.00      0.00         3\n",
            "       trust       0.00      0.00      0.00         2\n",
            "        fear       0.28      0.12      0.16       103\n",
            "    surprise       0.00      0.00      0.00        18\n",
            "     sadness       0.15      0.04      0.06        53\n",
            "     disgust       0.25      0.76      0.37       102\n",
            "       anger       0.00      0.00      0.00         5\n",
            "\n",
            "    accuracy                           0.33       461\n",
            "   macro avg       0.17      0.16      0.13       461\n",
            "weighted avg       0.38      0.33      0.29       461\n",
            "\n",
            "test outsample loss 1.2148158018078123 accuracy 0.662037037037037\n",
            "\n",
            "Classification Report test outsample:\n",
            "\n",
            "               precision    recall  f1-score   support\n",
            "\n",
            " expectation       0.29      0.71      0.41        17\n",
            "       happy       0.00      0.00      0.00         6\n",
            "       trust       0.00      0.00      0.00        10\n",
            "        fear       0.00      0.00      0.00         4\n",
            "    surprise       0.00      0.00      0.00         1\n",
            "     sadness       0.00      0.00      0.00        14\n",
            "     disgust       0.76      0.90      0.82       145\n",
            "       anger       0.00      0.00      0.00        19\n",
            "\n",
            "    accuracy                           0.66       216\n",
            "   macro avg       0.13      0.20      0.15       216\n",
            "weighted avg       0.53      0.66      0.59       216\n",
            "\n"
          ]
        },
        {
          "name": "stderr",
          "output_type": "stream",
          "text": [
            "C:\\ProgramData\\Anaconda3\\lib\\site-packages\\sklearn\\metrics\\_classification.py:1344: UndefinedMetricWarning: Precision and F-score are ill-defined and being set to 0.0 in labels with no predicted samples. Use `zero_division` parameter to control this behavior.\n",
            "  _warn_prf(average, modifier, msg_start, len(result))\n",
            "C:\\ProgramData\\Anaconda3\\lib\\site-packages\\sklearn\\metrics\\_classification.py:1344: UndefinedMetricWarning: Precision and F-score are ill-defined and being set to 0.0 in labels with no predicted samples. Use `zero_division` parameter to control this behavior.\n",
            "  _warn_prf(average, modifier, msg_start, len(result))\n",
            "C:\\ProgramData\\Anaconda3\\lib\\site-packages\\sklearn\\metrics\\_classification.py:1344: UndefinedMetricWarning: Precision and F-score are ill-defined and being set to 0.0 in labels with no predicted samples. Use `zero_division` parameter to control this behavior.\n",
            "  _warn_prf(average, modifier, msg_start, len(result))\n"
          ]
        }
      ],
      "source": [
        "model_E.load_state_dict(torch.load(nametomodel))\n",
        "test_insample_acc, test_insample_loss = eval_model(model_E, test_data_loader_insample, loss_fn, device, len(X_test_insample))\n",
        "print(f'test insample loss {test_insample_loss} accuracy {test_insample_acc}')\n",
        "y_review_texts, y_pred, y_pred_probs, y_test = get_predictions(model_E,test_data_loader_insample)\n",
        "print('\\nClassification Report test insample:\\n\\n',classification_report(y_test, y_pred, target_names=class_names))\n",
        "test_outsample_acc, test_outsample_loss = eval_model(model_E, test_data_loader_outsample, loss_fn, device, len(X_test_outsample))\n",
        "print(f'test outsample loss {test_outsample_loss} accuracy {test_outsample_acc}')\n",
        "y_review_texts, y_pred, y_pred_probs, y_test = get_predictions(model_E,test_data_loader_outsample)\n",
        "print('\\nClassification Report test outsample:\\n\\n',classification_report(y_test, y_pred, target_names=class_names))"
      ]
    },
    {
      "cell_type": "code",
      "execution_count": null,
      "metadata": {
        "id": "luvtOrq9rOjW",
        "outputId": "3049e5e7-1801-47c3-c951-383e03f2f305"
      },
      "outputs": [
        {
          "name": "stdout",
          "output_type": "stream",
          "text": [
            "pip 21.2.4 from C:\\ProgramData\\Anaconda3\\lib\\site-packages\\pip (python 3.9)\n",
            "\n"
          ]
        }
      ],
      "source": [
        "!pip -V\n",
        "\n",
        "#import tensorflow as tf"
      ]
    },
    {
      "cell_type": "code",
      "execution_count": 65,
      "metadata": {
        "id": "atS-Uc_mrOjX"
      },
      "outputs": [],
      "source": [
        "\n",
        "#from tensorflow import keras\n",
        "\n",
        "from sklearn.pipeline import Pipeline\n",
        "from sklearn.linear_model import LogisticRegression\n",
        "from sklearn.naive_bayes import MultinomialNB\n",
        "from sklearn.feature_extraction.text import CountVectorizer\n",
        "from sklearn.metrics import accuracy_score\n",
        "from sklearn.ensemble import RandomForestClassifier, StackingClassifier\n",
        "from sklearn.model_selection import GridSearchCV\n",
        "#from keras.models import Sequential\n",
        "#from keras.layers import Dense, Dropout\n",
        "from sklearn.metrics import confusion_matrix\n",
        "from sklearn import preprocessing\n",
        "from sklearn.svm import LinearSVC"
      ]
    },
    {
      "cell_type": "code",
      "execution_count": 66,
      "metadata": {
        "id": "DgqLfrFerOjX"
      },
      "outputs": [],
      "source": [
        "def conf_matrix(y, y_pred, labels, title):\n",
        "    fig, ax =plt.subplots(figsize=(10,10))\n",
        "    ax=sns.heatmap(confusion_matrix(y, y_pred), annot=True, cmap=\"Blues\", fmt='g', cbar=False, annot_kws={\"size\":15})\n",
        "    ax.xaxis.set_ticklabels(labels, fontsize=10) \n",
        "    ax.yaxis.set_ticklabels(labels, fontsize=10)\n",
        "    plt.title(title, fontsize=20)\n",
        "    ax.set_ylabel('Test', fontsize=12)\n",
        "    ax.set_xlabel('Predicted', fontsize=12)\n",
        "    plt.show()"
      ]
    },
    {
      "cell_type": "code",
      "execution_count": 67,
      "metadata": {
        "id": "UsRELo64rOjX"
      },
      "outputs": [],
      "source": [
        "def LR(x_train, x_test, y_train, y_test, labels, test_insample,Y_test_insample, test_outsample, Y_test_outsample):\n",
        "    params = {'penalty': ['l1', 'l2'],\n",
        "              'solver' : ['newton-cg','saga'],\n",
        "              'C': [0.001, 0.1, 1],}\n",
        "    lr = LogisticRegression()\n",
        "    grid = GridSearchCV(lr, param_grid=params, cv=4)      \n",
        "    grid.fit(x_train, y_train)\n",
        "    y_pred = grid.predict(x_test)\n",
        "    accuracy_train = grid.score(x_train, y_train)\n",
        "    accuracy_test = grid.score(x_test, y_test)\n",
        "    print(\"Logistic Regression\")\n",
        "    print('Accuracy on train: {:.2f}%'.format(accuracy_train*100))\n",
        "    print('Accuracy on test: {:.2f}%'.format(accuracy_test*100))\n",
        "    print('\\nClassification Report LogisticRegression:\\n\\n',classification_report(y_test , y_pred, target_names=[str(l) for l in labels]))\n",
        "    print(conf_matrix(y_test, y_pred, labels, 'Confusion Matrix LogisticRegression'))\n",
        "    y_pred_insample = grid.predict(test_insample)\n",
        "    print('\\ntest_insample Classification Report LogisticRegression:\\n\\n',classification_report(Y_test_insample , y_pred_insample, target_names=[str(l) for l in labels]))\n",
        "    y_pred_outsample = grid.predict(test_outsample)\n",
        "    print('\\test_outsample Classification Report LogisticRegression:\\n\\n',classification_report(Y_test_outsample , y_pred_outsample, target_names=[str(l) for l in labels]))\n",
        "\n",
        "    return grid.best_params_, grid"
      ]
    },
    {
      "cell_type": "code",
      "execution_count": 68,
      "metadata": {
        "id": "6kAalQEQrOjX"
      },
      "outputs": [],
      "source": [
        "import re\n",
        "from nltk.stem import WordNetLemmatizer\n",
        "from sklearn.feature_extraction.text import TfidfVectorizer"
      ]
    },
    {
      "cell_type": "code",
      "execution_count": 69,
      "metadata": {
        "colab": {
          "base_uri": "https://localhost:8080/",
          "height": 1000
        },
        "id": "TA9P15jxrOjY",
        "outputId": "7809cdc0-1c12-4143-8a93-aff3eb60b2ad"
      },
      "outputs": [
        {
          "output_type": "stream",
          "name": "stderr",
          "text": [
            "/usr/local/lib/python3.10/dist-packages/sklearn/linear_model/_sag.py:350: ConvergenceWarning: The max_iter was reached which means the coef_ did not converge\n",
            "  warnings.warn(\n",
            "/usr/local/lib/python3.10/dist-packages/sklearn/linear_model/_sag.py:350: ConvergenceWarning: The max_iter was reached which means the coef_ did not converge\n",
            "  warnings.warn(\n",
            "/usr/local/lib/python3.10/dist-packages/sklearn/linear_model/_sag.py:350: ConvergenceWarning: The max_iter was reached which means the coef_ did not converge\n",
            "  warnings.warn(\n",
            "/usr/local/lib/python3.10/dist-packages/sklearn/linear_model/_sag.py:350: ConvergenceWarning: The max_iter was reached which means the coef_ did not converge\n",
            "  warnings.warn(\n",
            "/usr/local/lib/python3.10/dist-packages/sklearn/model_selection/_validation.py:378: FitFailedWarning: \n",
            "12 fits failed out of a total of 48.\n",
            "The score on these train-test partitions for these parameters will be set to nan.\n",
            "If these failures are not expected, you can try to debug them by setting error_score='raise'.\n",
            "\n",
            "Below are more details about the failures:\n",
            "--------------------------------------------------------------------------------\n",
            "12 fits failed with the following error:\n",
            "Traceback (most recent call last):\n",
            "  File \"/usr/local/lib/python3.10/dist-packages/sklearn/model_selection/_validation.py\", line 686, in _fit_and_score\n",
            "    estimator.fit(X_train, y_train, **fit_params)\n",
            "  File \"/usr/local/lib/python3.10/dist-packages/sklearn/linear_model/_logistic.py\", line 1162, in fit\n",
            "    solver = _check_solver(self.solver, self.penalty, self.dual)\n",
            "  File \"/usr/local/lib/python3.10/dist-packages/sklearn/linear_model/_logistic.py\", line 54, in _check_solver\n",
            "    raise ValueError(\n",
            "ValueError: Solver newton-cg supports only 'l2' or 'none' penalties, got l1 penalty.\n",
            "\n",
            "  warnings.warn(some_fits_failed_message, FitFailedWarning)\n",
            "/usr/local/lib/python3.10/dist-packages/sklearn/model_selection/_search.py:952: UserWarning: One or more of the test scores are non-finite: [       nan 0.40486726 0.40486726 0.40486726        nan 0.40486726\n",
            " 0.40486726 0.40486726        nan 0.43938053 0.44159292 0.44159292]\n",
            "  warnings.warn(\n"
          ]
        },
        {
          "output_type": "stream",
          "name": "stdout",
          "text": [
            "Logistic Regression\n",
            "Accuracy on train: 59.73%\n",
            "Accuracy on test: 45.31%\n",
            "\n",
            "Classification Report LogisticRegression:\n",
            "\n",
            "               precision    recall  f1-score   support\n",
            "\n",
            "           0       0.56      0.43      0.49        81\n",
            "           1       0.33      0.14      0.20        21\n",
            "           2       0.00      0.00      0.00         8\n",
            "           3       0.40      0.11      0.17       109\n",
            "           4       0.00      0.00      0.00         6\n",
            "           5       0.38      0.09      0.14        70\n",
            "           6       0.45      0.90      0.60       222\n",
            "           7       0.00      0.00      0.00        48\n",
            "\n",
            "    accuracy                           0.45       565\n",
            "   macro avg       0.26      0.21      0.20       565\n",
            "weighted avg       0.39      0.45      0.36       565\n",
            "\n"
          ]
        },
        {
          "output_type": "stream",
          "name": "stderr",
          "text": [
            "/usr/local/lib/python3.10/dist-packages/sklearn/metrics/_classification.py:1344: UndefinedMetricWarning: Precision and F-score are ill-defined and being set to 0.0 in labels with no predicted samples. Use `zero_division` parameter to control this behavior.\n",
            "  _warn_prf(average, modifier, msg_start, len(result))\n",
            "/usr/local/lib/python3.10/dist-packages/sklearn/metrics/_classification.py:1344: UndefinedMetricWarning: Precision and F-score are ill-defined and being set to 0.0 in labels with no predicted samples. Use `zero_division` parameter to control this behavior.\n",
            "  _warn_prf(average, modifier, msg_start, len(result))\n",
            "/usr/local/lib/python3.10/dist-packages/sklearn/metrics/_classification.py:1344: UndefinedMetricWarning: Precision and F-score are ill-defined and being set to 0.0 in labels with no predicted samples. Use `zero_division` parameter to control this behavior.\n",
            "  _warn_prf(average, modifier, msg_start, len(result))\n"
          ]
        },
        {
          "output_type": "display_data",
          "data": {
            "text/plain": [
              "<Figure size 1000x1000 with 1 Axes>"
            ],
            "image/png": "[encoded data removed]"
          },
          "metadata": {}
        },
        {
          "output_type": "stream",
          "name": "stdout",
          "text": [
            "None\n",
            "\n",
            "test_insample Classification Report LogisticRegression:\n",
            "\n",
            "               precision    recall  f1-score   support\n",
            "\n",
            "           0       0.68      0.15      0.24       175\n",
            "           1       0.50      0.33      0.40         3\n",
            "           2       0.00      0.00      0.00         2\n",
            "           3       0.32      0.06      0.10       103\n",
            "           4       0.00      0.00      0.00        18\n",
            "           5       0.00      0.00      0.00        53\n",
            "           6       0.23      0.89      0.37       102\n",
            "           7       0.00      0.00      0.00         5\n",
            "\n",
            "    accuracy                           0.27       461\n",
            "   macro avg       0.22      0.18      0.14       461\n",
            "weighted avg       0.38      0.27      0.20       461\n",
            "\n",
            "\test_outsample Classification Report LogisticRegression:\n",
            "\n",
            "               precision    recall  f1-score   support\n",
            "\n",
            "           0       0.06      0.06      0.06        17\n",
            "           1       0.11      0.17      0.13         6\n",
            "           2       0.00      0.00      0.00        10\n",
            "           3       0.00      0.00      0.00         4\n",
            "           4       0.00      0.00      0.00         1\n",
            "           5       0.00      0.00      0.00        14\n",
            "           6       0.70      0.90      0.79       145\n",
            "           7       0.00      0.00      0.00        19\n",
            "\n",
            "    accuracy                           0.62       216\n",
            "   macro avg       0.11      0.14      0.12       216\n",
            "weighted avg       0.48      0.62      0.54       216\n",
            "\n",
            "Best parametrs:  {'C': 1, 'penalty': 'l2', 'solver': 'newton-cg'}\n"
          ]
        },
        {
          "output_type": "stream",
          "name": "stderr",
          "text": [
            "/usr/local/lib/python3.10/dist-packages/sklearn/metrics/_classification.py:1344: UndefinedMetricWarning: Precision and F-score are ill-defined and being set to 0.0 in labels with no predicted samples. Use `zero_division` parameter to control this behavior.\n",
            "  _warn_prf(average, modifier, msg_start, len(result))\n",
            "/usr/local/lib/python3.10/dist-packages/sklearn/metrics/_classification.py:1344: UndefinedMetricWarning: Precision and F-score are ill-defined and being set to 0.0 in labels with no predicted samples. Use `zero_division` parameter to control this behavior.\n",
            "  _warn_prf(average, modifier, msg_start, len(result))\n",
            "/usr/local/lib/python3.10/dist-packages/sklearn/metrics/_classification.py:1344: UndefinedMetricWarning: Precision and F-score are ill-defined and being set to 0.0 in labels with no predicted samples. Use `zero_division` parameter to control this behavior.\n",
            "  _warn_prf(average, modifier, msg_start, len(result))\n",
            "/usr/local/lib/python3.10/dist-packages/sklearn/metrics/_classification.py:1344: UndefinedMetricWarning: Precision and F-score are ill-defined and being set to 0.0 in labels with no predicted samples. Use `zero_division` parameter to control this behavior.\n",
            "  _warn_prf(average, modifier, msg_start, len(result))\n",
            "/usr/local/lib/python3.10/dist-packages/sklearn/metrics/_classification.py:1344: UndefinedMetricWarning: Precision and F-score are ill-defined and being set to 0.0 in labels with no predicted samples. Use `zero_division` parameter to control this behavior.\n",
            "  _warn_prf(average, modifier, msg_start, len(result))\n",
            "/usr/local/lib/python3.10/dist-packages/sklearn/metrics/_classification.py:1344: UndefinedMetricWarning: Precision and F-score are ill-defined and being set to 0.0 in labels with no predicted samples. Use `zero_division` parameter to control this behavior.\n",
            "  _warn_prf(average, modifier, msg_start, len(result))\n"
          ]
        }
      ],
      "source": [
        "labels = np.unique(Y)\n",
        "tf = TfidfVectorizer(analyzer='word', max_features=1000, ngram_range=(1,3))\n",
        "train_tokens1 = tf.fit_transform(train_tokens).toarray()\n",
        "test_tokens1 = tf.transform(test_tokens).toarray()\n",
        "\n",
        "test_insample = tf.transform(X_test_insample).toarray()\n",
        "test_outsample = tf.transform(X_test_outsample).toarray()\n",
        "\n",
        "\n",
        "best_param, grid= LR(train_tokens1, test_tokens1, train_tags, test_tags, labels, test_insample,Y_test_insample, test_outsample, Y_test_outsample)\n",
        "print('Best parametrs: ', best_param)"
      ]
    },
    {
      "cell_type": "code",
      "execution_count": 70,
      "metadata": {
        "id": "u2YYw5QQrOjY"
      },
      "outputs": [],
      "source": [
        "def RFCSVC(x_train, x_test, y_train, y_test, labels, test_insample,Y_test_insample, test_outsample, Y_test_outsample):\n",
        "    estimators = [\n",
        "      ('rf', RandomForestClassifier(n_estimators=50, criterion='entropy', random_state=10, max_depth=4, max_features='log2')),\n",
        "      ('svr', LinearSVC(dual=False, random_state=42))\n",
        "      ]\n",
        "    clf_stck = StackingClassifier(estimators=estimators, final_estimator=LogisticRegression(penalty='l2', C=1))\n",
        "    clf_stck.fit(x_train, y_train)\n",
        "    y_pred = clf_stck.predict(x_test)\n",
        "    accuracy_train = clf_stck.score(x_train, y_train)\n",
        "    accuracy_test = clf_stck.score(x_test, y_test)\n",
        "    print(\"Random Forest and SVC\")\n",
        "    print('Accuracy on train: {:.2f}%'.format(accuracy_train*100))\n",
        "    print('Accuracy on test: {:.2f}%'.format(accuracy_test*100))\n",
        "    print('\\nClassification Report RFC SVC:\\n\\n',classification_report(y_test , y_pred, target_names=[str(l) for l in labels]))\n",
        "    print(conf_matrix(y_test, y_pred, labels, 'Confusion Matrix RFC Random Forest and SVC'))\n",
        "    y_pred_insample = grid.predict(test_insample)\n",
        "    print('\\ntest_insample Classification Report RFC SVC:\\n\\n',classification_report(Y_test_insample , y_pred_insample, target_names=[str(l) for l in labels]))\n",
        "    y_pred_outsample = grid.predict(test_outsample)\n",
        "    print('\\test_outsample Classification Report RFC SVC:\\n\\n',classification_report(Y_test_outsample , y_pred_outsample, target_names=[str(l) for l in labels]))"
      ]
    },
    {
      "cell_type": "code",
      "execution_count": 71,
      "metadata": {
        "colab": {
          "base_uri": "https://localhost:8080/",
          "height": 1000
        },
        "id": "Yn6Aeb2CrOjY",
        "outputId": "e7ff3f19-5ba2-415f-800b-eb09f43b2900"
      },
      "outputs": [
        {
          "output_type": "stream",
          "name": "stderr",
          "text": [
            "/usr/local/lib/python3.10/dist-packages/sklearn/linear_model/_logistic.py:458: ConvergenceWarning: lbfgs failed to converge (status=1):\n",
            "STOP: TOTAL NO. of ITERATIONS REACHED LIMIT.\n",
            "\n",
            "Increase the number of iterations (max_iter) or scale the data as shown in:\n",
            "    https://scikit-learn.org/stable/modules/preprocessing.html\n",
            "Please also refer to the documentation for alternative solver options:\n",
            "    https://scikit-learn.org/stable/modules/linear_model.html#logistic-regression\n",
            "  n_iter_i = _check_optimize_result(\n",
            "/usr/local/lib/python3.10/dist-packages/sklearn/metrics/_classification.py:1344: UndefinedMetricWarning: Precision and F-score are ill-defined and being set to 0.0 in labels with no predicted samples. Use `zero_division` parameter to control this behavior.\n",
            "  _warn_prf(average, modifier, msg_start, len(result))\n",
            "/usr/local/lib/python3.10/dist-packages/sklearn/metrics/_classification.py:1344: UndefinedMetricWarning: Precision and F-score are ill-defined and being set to 0.0 in labels with no predicted samples. Use `zero_division` parameter to control this behavior.\n",
            "  _warn_prf(average, modifier, msg_start, len(result))\n",
            "/usr/local/lib/python3.10/dist-packages/sklearn/metrics/_classification.py:1344: UndefinedMetricWarning: Precision and F-score are ill-defined and being set to 0.0 in labels with no predicted samples. Use `zero_division` parameter to control this behavior.\n",
            "  _warn_prf(average, modifier, msg_start, len(result))\n"
          ]
        },
        {
          "output_type": "stream",
          "name": "stdout",
          "text": [
            "Random Forest and SVC\n",
            "Accuracy on train: 53.10%\n",
            "Accuracy on test: 44.25%\n",
            "\n",
            "Classification Report RFC SVC:\n",
            "\n",
            "               precision    recall  f1-score   support\n",
            "\n",
            "           0       0.47      0.44      0.46        81\n",
            "           1       0.42      0.24      0.30        21\n",
            "           2       0.00      0.00      0.00         8\n",
            "           3       0.00      0.00      0.00       109\n",
            "           4       0.00      0.00      0.00         6\n",
            "           5       0.50      0.01      0.03        70\n",
            "           6       0.44      0.94      0.60       222\n",
            "           7       0.00      0.00      0.00        48\n",
            "\n",
            "    accuracy                           0.44       565\n",
            "   macro avg       0.23      0.20      0.17       565\n",
            "weighted avg       0.32      0.44      0.32       565\n",
            "\n"
          ]
        },
        {
          "output_type": "display_data",
          "data": {
            "text/plain": [
              "<Figure size 1000x1000 with 1 Axes>"
            ],
            "image/png": "[encoded data removed]"
          },
          "metadata": {}
        },
        {
          "output_type": "stream",
          "name": "stdout",
          "text": [
            "None\n",
            "\n",
            "test_insample Classification Report RFC SVC:\n",
            "\n",
            "               precision    recall  f1-score   support\n",
            "\n",
            "           0       0.68      0.15      0.24       175\n",
            "           1       0.50      0.33      0.40         3\n",
            "           2       0.00      0.00      0.00         2\n",
            "           3       0.32      0.06      0.10       103\n",
            "           4       0.00      0.00      0.00        18\n",
            "           5       0.00      0.00      0.00        53\n",
            "           6       0.23      0.89      0.37       102\n",
            "           7       0.00      0.00      0.00         5\n",
            "\n",
            "    accuracy                           0.27       461\n",
            "   macro avg       0.22      0.18      0.14       461\n",
            "weighted avg       0.38      0.27      0.20       461\n",
            "\n",
            "\test_outsample Classification Report RFC SVC:\n",
            "\n",
            "               precision    recall  f1-score   support\n",
            "\n",
            "           0       0.06      0.06      0.06        17\n",
            "           1       0.11      0.17      0.13         6\n",
            "           2       0.00      0.00      0.00        10\n",
            "           3       0.00      0.00      0.00         4\n",
            "           4       0.00      0.00      0.00         1\n",
            "           5       0.00      0.00      0.00        14\n",
            "           6       0.70      0.90      0.79       145\n",
            "           7       0.00      0.00      0.00        19\n",
            "\n",
            "    accuracy                           0.62       216\n",
            "   macro avg       0.11      0.14      0.12       216\n",
            "weighted avg       0.48      0.62      0.54       216\n",
            "\n"
          ]
        },
        {
          "output_type": "stream",
          "name": "stderr",
          "text": [
            "/usr/local/lib/python3.10/dist-packages/sklearn/metrics/_classification.py:1344: UndefinedMetricWarning: Precision and F-score are ill-defined and being set to 0.0 in labels with no predicted samples. Use `zero_division` parameter to control this behavior.\n",
            "  _warn_prf(average, modifier, msg_start, len(result))\n",
            "/usr/local/lib/python3.10/dist-packages/sklearn/metrics/_classification.py:1344: UndefinedMetricWarning: Precision and F-score are ill-defined and being set to 0.0 in labels with no predicted samples. Use `zero_division` parameter to control this behavior.\n",
            "  _warn_prf(average, modifier, msg_start, len(result))\n",
            "/usr/local/lib/python3.10/dist-packages/sklearn/metrics/_classification.py:1344: UndefinedMetricWarning: Precision and F-score are ill-defined and being set to 0.0 in labels with no predicted samples. Use `zero_division` parameter to control this behavior.\n",
            "  _warn_prf(average, modifier, msg_start, len(result))\n",
            "/usr/local/lib/python3.10/dist-packages/sklearn/metrics/_classification.py:1344: UndefinedMetricWarning: Precision and F-score are ill-defined and being set to 0.0 in labels with no predicted samples. Use `zero_division` parameter to control this behavior.\n",
            "  _warn_prf(average, modifier, msg_start, len(result))\n",
            "/usr/local/lib/python3.10/dist-packages/sklearn/metrics/_classification.py:1344: UndefinedMetricWarning: Precision and F-score are ill-defined and being set to 0.0 in labels with no predicted samples. Use `zero_division` parameter to control this behavior.\n",
            "  _warn_prf(average, modifier, msg_start, len(result))\n",
            "/usr/local/lib/python3.10/dist-packages/sklearn/metrics/_classification.py:1344: UndefinedMetricWarning: Precision and F-score are ill-defined and being set to 0.0 in labels with no predicted samples. Use `zero_division` parameter to control this behavior.\n",
            "  _warn_prf(average, modifier, msg_start, len(result))\n"
          ]
        }
      ],
      "source": [
        "RFCSVC(train_tokens1, test_tokens1, train_tags, test_tags, labels, test_insample,Y_test_insample, test_outsample, Y_test_outsample)"
      ]
    },
    {
      "cell_type": "code",
      "execution_count": 72,
      "metadata": {
        "id": "6LuXwRATrOjY"
      },
      "outputs": [],
      "source": [
        "def getstopword():\n",
        "    dfST = pd.read_csv('HE_stopword.csv',encoding=('ISO-8859-8'))\n",
        "    return dfST.to_numpy()\n",
        "def clean_content(text):\n",
        "    #remove links http:// or https://, links beginning with www. and ending with .com, remove special characters\n",
        "    text = text.replace('\\n', ' ').replace('\\xa0', ' ').replace('\\u200a', ' ').replace('  ', ' ').strip()\n",
        "    clean_text = re.sub(r'@\\w+\\s?', '', text)\n",
        "    clean_text = re.sub(r'https?:\\/\\/\\S+', '', clean_text)\n",
        "    clean_text = re.sub(r'www\\.[a-z]?\\.?(com)+|[a-z]+\\.(com)', '', clean_text)\n",
        "    clean_text = re.sub(r'[^ \\w+]', '', clean_text)\n",
        "    clean_text = clean_text.split()\n",
        "    # remove stop words\n",
        "    clean_lst = []\n",
        "    for word in clean_text:\n",
        "        if word not in stop_words:\n",
        "            clean_lst.append(word)\n",
        "    lemmatized_words = []\n",
        "    for word in clean_lst:\n",
        "        lemmatized_word = WordNetLemmatizer().lemmatize(word)\n",
        "        lemmatized_words.append(lemmatized_word)\n",
        "    return ' '.join(lemmatized_words)"
      ]
    },
    {
      "cell_type": "code",
      "source": [
        "import nltk\n",
        "nltk.download('wordnet')"
      ],
      "metadata": {
        "colab": {
          "base_uri": "https://localhost:8080/"
        },
        "id": "OBCrRN6vsYCb",
        "outputId": "2137a8b5-da80-4cb5-9611-cd12054367d6"
      },
      "execution_count": 73,
      "outputs": [
        {
          "output_type": "stream",
          "name": "stderr",
          "text": [
            "[nltk_data] Downloading package wordnet to /root/nltk_data...\n"
          ]
        },
        {
          "output_type": "execute_result",
          "data": {
            "text/plain": [
              "True"
            ]
          },
          "metadata": {},
          "execution_count": 73
        }
      ]
    },
    {
      "cell_type": "code",
      "execution_count": 74,
      "metadata": {
        "scrolled": true,
        "colab": {
          "base_uri": "https://localhost:8080/",
          "height": 397
        },
        "id": "yxTVZ2aYrOjZ",
        "outputId": "3bf3c84d-601f-4bbf-f38a-784b75c7ad04"
      },
      "outputs": [
        {
          "output_type": "stream",
          "name": "stdout",
          "text": [
            "<class 'pandas.core.frame.DataFrame'>\n",
            "RangeIndex: 2825 entries, 0 to 2824\n",
            "Data columns (total 4 columns):\n",
            " #   Column      Non-Null Count  Dtype \n",
            "---  ------      --------------  ----- \n",
            " 0   emotion_id  2825 non-null   int64 \n",
            " 1   emotion     2825 non-null   object\n",
            " 2   emotion_en  2825 non-null   object\n",
            " 3   talkbacks   2825 non-null   object\n",
            "dtypes: int64(1), object(3)\n",
            "memory usage: 88.4+ KB\n"
          ]
        },
        {
          "output_type": "execute_result",
          "data": {
            "text/plain": [
              "   emotion_id             emotion   emotion_en  \\\n",
              "0           3            חשש, פחד         fear   \n",
              "1           3            חשש, פחד         fear   \n",
              "2           5            עצב, צער      sadness   \n",
              "3           7            זעם, כעס        anger   \n",
              "4           0  ציפייה, הבעת עניין  expectation   \n",
              "\n",
              "                                           talkbacks  \n",
              "0  הרופאה מטעה הציבור שנושא הנגיף חולה מחזירה ישב...  \n",
              "1                   לסגור להפגע מההפקרות במגזר החרדי  \n",
              "2  מתנגדי חיסונים מקבלים המחלה חבל עצוב לבעלה ולי...  \n",
              "3  הקורונה מתים מאות האיראנים יוצאים פיזית ונפשית...  \n",
              "4  חייבים לתבוע סין לרושש אותםזה וירוס מהונדס הסי...  "
            ],
            "text/html": [
              "\n",
              "  <div id=\"df-bb36d5e8-7427-434c-9ef3-b432da1a3753\">\n",
              "    <div class=\"colab-df-container\">\n",
              "      <div>\n",
              "<style scoped>\n",
              "    .dataframe tbody tr th:only-of-type {\n",
              "        vertical-align: middle;\n",
              "    }\n",
              "\n",
              "    .dataframe tbody tr th {\n",
              "        vertical-align: top;\n",
              "    }\n",
              "\n",
              "    .dataframe thead th {\n",
              "        text-align: right;\n",
              "    }\n",
              "</style>\n",
              "<table border=\"1\" class=\"dataframe\">\n",
              "  <thead>\n",
              "    <tr style=\"text-align: right;\">\n",
              "      <th></th>\n",
              "      <th>emotion_id</th>\n",
              "      <th>emotion</th>\n",
              "      <th>emotion_en</th>\n",
              "      <th>talkbacks</th>\n",
              "    </tr>\n",
              "  </thead>\n",
              "  <tbody>\n",
              "    <tr>\n",
              "      <th>0</th>\n",
              "      <td>3</td>\n",
              "      <td>חשש, פחד</td>\n",
              "      <td>fear</td>\n",
              "      <td>הרופאה מטעה הציבור שנושא הנגיף חולה מחזירה ישב...</td>\n",
              "    </tr>\n",
              "    <tr>\n",
              "      <th>1</th>\n",
              "      <td>3</td>\n",
              "      <td>חשש, פחד</td>\n",
              "      <td>fear</td>\n",
              "      <td>לסגור להפגע מההפקרות במגזר החרדי</td>\n",
              "    </tr>\n",
              "    <tr>\n",
              "      <th>2</th>\n",
              "      <td>5</td>\n",
              "      <td>עצב, צער</td>\n",
              "      <td>sadness</td>\n",
              "      <td>מתנגדי חיסונים מקבלים המחלה חבל עצוב לבעלה ולי...</td>\n",
              "    </tr>\n",
              "    <tr>\n",
              "      <th>3</th>\n",
              "      <td>7</td>\n",
              "      <td>זעם, כעס</td>\n",
              "      <td>anger</td>\n",
              "      <td>הקורונה מתים מאות האיראנים יוצאים פיזית ונפשית...</td>\n",
              "    </tr>\n",
              "    <tr>\n",
              "      <th>4</th>\n",
              "      <td>0</td>\n",
              "      <td>ציפייה, הבעת עניין</td>\n",
              "      <td>expectation</td>\n",
              "      <td>חייבים לתבוע סין לרושש אותםזה וירוס מהונדס הסי...</td>\n",
              "    </tr>\n",
              "  </tbody>\n",
              "</table>\n",
              "</div>\n",
              "      <button class=\"colab-df-convert\" onclick=\"convertToInteractive('df-bb36d5e8-7427-434c-9ef3-b432da1a3753')\"\n",
              "              title=\"Convert this dataframe to an interactive table.\"\n",
              "              style=\"display:none;\">\n",
              "        \n",
              "  <svg xmlns=\"http://www.w3.org/2000/svg\" height=\"24px\"viewBox=\"0 0 24 24\"\n",
              "       width=\"24px\">\n",
              "    <path d=\"M0 0h24v24H0V0z\" fill=\"none\"/>\n",
              "    <path d=\"M18.56 5.44l.94 2.06.94-2.06 2.06-.94-2.06-.94-.94-2.06-.94 2.06-2.06.94zm-11 1L8.5 8.5l.94-2.06 2.06-.94-2.06-.94L8.5 2.5l-.94 2.06-2.06.94zm10 10l.94 2.06.94-2.06 2.06-.94-2.06-.94-.94-2.06-.94 2.06-2.06.94z\"/><path d=\"M17.41 7.96l-1.37-1.37c-.4-.4-.92-.59-1.43-.59-.52 0-1.04.2-1.43.59L10.3 9.45l-7.72 7.72c-.78.78-.78 2.05 0 2.83L4 21.41c.39.39.9.59 1.41.59.51 0 1.02-.2 1.41-.59l7.78-7.78 2.81-2.81c.8-.78.8-2.07 0-2.86zM5.41 20L4 18.59l7.72-7.72 1.47 1.35L5.41 20z\"/>\n",
              "  </svg>\n",
              "      </button>\n",
              "      \n",
              "  <style>\n",
              "    .colab-df-container {\n",
              "      display:flex;\n",
              "      flex-wrap:wrap;\n",
              "      gap: 12px;\n",
              "    }\n",
              "\n",
              "    .colab-df-convert {\n",
              "      background-color: #E8F0FE;\n",
              "      border: none;\n",
              "      border-radius: 50%;\n",
              "      cursor: pointer;\n",
              "      display: none;\n",
              "      fill: #1967D2;\n",
              "      height: 32px;\n",
              "      padding: 0 0 0 0;\n",
              "      width: 32px;\n",
              "    }\n",
              "\n",
              "    .colab-df-convert:hover {\n",
              "      background-color: #E2EBFA;\n",
              "      box-shadow: 0px 1px 2px rgba(60, 64, 67, 0.3), 0px 1px 3px 1px rgba(60, 64, 67, 0.15);\n",
              "      fill: #174EA6;\n",
              "    }\n",
              "\n",
              "    [theme=dark] .colab-df-convert {\n",
              "      background-color: #3B4455;\n",
              "      fill: #D2E3FC;\n",
              "    }\n",
              "\n",
              "    [theme=dark] .colab-df-convert:hover {\n",
              "      background-color: #434B5C;\n",
              "      box-shadow: 0px 1px 3px 1px rgba(0, 0, 0, 0.15);\n",
              "      filter: drop-shadow(0px 1px 2px rgba(0, 0, 0, 0.3));\n",
              "      fill: #FFFFFF;\n",
              "    }\n",
              "  </style>\n",
              "\n",
              "      <script>\n",
              "        const buttonEl =\n",
              "          document.querySelector('#df-bb36d5e8-7427-434c-9ef3-b432da1a3753 button.colab-df-convert');\n",
              "        buttonEl.style.display =\n",
              "          google.colab.kernel.accessAllowed ? 'block' : 'none';\n",
              "\n",
              "        async function convertToInteractive(key) {\n",
              "          const element = document.querySelector('#df-bb36d5e8-7427-434c-9ef3-b432da1a3753');\n",
              "          const dataTable =\n",
              "            await google.colab.kernel.invokeFunction('convertToInteractive',\n",
              "                                                     [key], {});\n",
              "          if (!dataTable) return;\n",
              "\n",
              "          const docLinkHtml = 'Like what you see? Visit the ' +\n",
              "            '<a target=\"_blank\" href=https://colab.research.google.com/notebooks/data_table.ipynb>data table notebook</a>'\n",
              "            + ' to learn more about interactive tables.';\n",
              "          element.innerHTML = '';\n",
              "          dataTable['output_type'] = 'display_data';\n",
              "          await google.colab.output.renderOutput(dataTable, element);\n",
              "          const docLink = document.createElement('div');\n",
              "          docLink.innerHTML = docLinkHtml;\n",
              "          element.appendChild(docLink);\n",
              "        }\n",
              "      </script>\n",
              "    </div>\n",
              "  </div>\n",
              "  "
            ]
          },
          "metadata": {},
          "execution_count": 74
        }
      ],
      "source": [
        "stop_words = getstopword()\n",
        "df_clean = df.copy()\n",
        "df_clean['talkbacks'] = df_clean['talkbacks'].apply(lambda x :  clean_content(x))\n",
        "# delete duplicates\n",
        "#df_clean.drop_duplicates(subset='talkbacks', inplace=True)\n",
        "#df_clean.reset_index(drop=True, inplace=True)\n",
        "\n",
        "df_clean.info()\n",
        "df_clean.head()\n",
        "#print(df_clean['talkbacks'])"
      ]
    },
    {
      "cell_type": "code",
      "execution_count": 75,
      "metadata": {
        "id": "j7enUS3NrOjZ"
      },
      "outputs": [],
      "source": [
        "# Splitting the dataset into training and testing sets\n",
        "def split_data(tf, x,y):\n",
        "    # split data on train and test\n",
        "    x_train, x_test, y_train, y_test = train_test_split(x, y, test_size=0.2, shuffle=True, random_state=42, stratify=y)\n",
        "    # convert text to vectors with TF-IDF\n",
        "    x_train = tf.fit_transform(x_train).toarray()\n",
        "    x_test = tf.transform(x_test).toarray()\n",
        "    return x_train, x_test, y_train, y_test"
      ]
    },
    {
      "cell_type": "code",
      "execution_count": 76,
      "metadata": {
        "id": "s6ETHwP5rOjZ"
      },
      "outputs": [],
      "source": [
        "def co_data(df, bool):\n",
        "    train = df.copy()\n",
        "    x = np.array(train['talkbacks'].values)\n",
        "    y = np.array(train['emotion_en'].values)\n",
        "\n",
        "    # convert categorical to numeric\n",
        "    encoder = preprocessing.LabelEncoder()\n",
        "    y = encoder.fit_transform(y)\n",
        "    labels = np.unique(encoder.inverse_transform(y))\n",
        "    tf = TfidfVectorizer(analyzer='word', max_features=1000, ngram_range=(1,3))\n",
        "    if bool:\n",
        "        x_train, x_test, y_train, y_test = split_data(tf, x,y)\n",
        "        return x_train, x_test, y_train, y_test, labels\n",
        "    else:\n",
        "        x = tf.fit_transform(x).toarray()\n",
        "        return x, y, labels "
      ]
    },
    {
      "cell_type": "code",
      "execution_count": 77,
      "metadata": {
        "colab": {
          "base_uri": "https://localhost:8080/",
          "height": 450
        },
        "id": "ceFyOL7ZrOjZ",
        "outputId": "933ecd6c-cf50-425a-eb24-1526bb86c295"
      },
      "outputs": [
        {
          "output_type": "display_data",
          "data": {
            "text/plain": [
              "<Figure size 640x480 with 1 Axes>"
            ],
            "image/png": "[encoded data removed]"
          },
          "metadata": {}
        }
      ],
      "source": [
        "df_train = df_clean.copy()\n",
        "sns.countplot(x='emotion_en',data=df_train)\n",
        "x_train, x_test, y_train, y_test, labels = co_data(df_train, True)"
      ]
    },
    {
      "cell_type": "code",
      "execution_count": 78,
      "metadata": {
        "colab": {
          "base_uri": "https://localhost:8080/",
          "height": 1000
        },
        "id": "OoJP70PJrOja",
        "outputId": "9a7469e1-a343-44fb-fd38-9dab393ebf05"
      },
      "outputs": [
        {
          "output_type": "stream",
          "name": "stderr",
          "text": [
            "/usr/local/lib/python3.10/dist-packages/sklearn/linear_model/_sag.py:350: ConvergenceWarning: The max_iter was reached which means the coef_ did not converge\n",
            "  warnings.warn(\n",
            "/usr/local/lib/python3.10/dist-packages/sklearn/model_selection/_validation.py:378: FitFailedWarning: \n",
            "12 fits failed out of a total of 48.\n",
            "The score on these train-test partitions for these parameters will be set to nan.\n",
            "If these failures are not expected, you can try to debug them by setting error_score='raise'.\n",
            "\n",
            "Below are more details about the failures:\n",
            "--------------------------------------------------------------------------------\n",
            "12 fits failed with the following error:\n",
            "Traceback (most recent call last):\n",
            "  File \"/usr/local/lib/python3.10/dist-packages/sklearn/model_selection/_validation.py\", line 686, in _fit_and_score\n",
            "    estimator.fit(X_train, y_train, **fit_params)\n",
            "  File \"/usr/local/lib/python3.10/dist-packages/sklearn/linear_model/_logistic.py\", line 1162, in fit\n",
            "    solver = _check_solver(self.solver, self.penalty, self.dual)\n",
            "  File \"/usr/local/lib/python3.10/dist-packages/sklearn/linear_model/_logistic.py\", line 54, in _check_solver\n",
            "    raise ValueError(\n",
            "ValueError: Solver newton-cg supports only 'l2' or 'none' penalties, got l1 penalty.\n",
            "\n",
            "  warnings.warn(some_fits_failed_message, FitFailedWarning)\n",
            "/usr/local/lib/python3.10/dist-packages/sklearn/model_selection/_search.py:952: UserWarning: One or more of the test scores are non-finite: [       nan 0.3340708  0.40265487 0.40265487        nan 0.40265487\n",
            " 0.40265487 0.40265487        nan 0.42920354 0.4340708  0.4340708 ]\n",
            "  warnings.warn(\n"
          ]
        },
        {
          "output_type": "stream",
          "name": "stdout",
          "text": [
            "Logistic Regression\n",
            "Accuracy on train: 59.29%\n",
            "Accuracy on test: 44.42%\n",
            "\n",
            "Classification Report LogisticRegression:\n",
            "\n",
            "               precision    recall  f1-score   support\n",
            "\n",
            "       anger       0.00      0.00      0.00        51\n",
            "     disgust       0.45      0.88      0.59       227\n",
            " expectation       0.50      0.36      0.42        80\n",
            "        fear       0.38      0.18      0.25        87\n",
            "       happy       0.50      0.04      0.08        24\n",
            "     sadness       0.35      0.08      0.13        73\n",
            "    surprise       0.00      0.00      0.00        13\n",
            "       trust       0.00      0.00      0.00        10\n",
            "\n",
            "    accuracy                           0.44       565\n",
            "   macro avg       0.27      0.19      0.18       565\n",
            "weighted avg       0.38      0.44      0.36       565\n",
            "\n"
          ]
        },
        {
          "output_type": "stream",
          "name": "stderr",
          "text": [
            "/usr/local/lib/python3.10/dist-packages/sklearn/metrics/_classification.py:1344: UndefinedMetricWarning: Precision and F-score are ill-defined and being set to 0.0 in labels with no predicted samples. Use `zero_division` parameter to control this behavior.\n",
            "  _warn_prf(average, modifier, msg_start, len(result))\n",
            "/usr/local/lib/python3.10/dist-packages/sklearn/metrics/_classification.py:1344: UndefinedMetricWarning: Precision and F-score are ill-defined and being set to 0.0 in labels with no predicted samples. Use `zero_division` parameter to control this behavior.\n",
            "  _warn_prf(average, modifier, msg_start, len(result))\n",
            "/usr/local/lib/python3.10/dist-packages/sklearn/metrics/_classification.py:1344: UndefinedMetricWarning: Precision and F-score are ill-defined and being set to 0.0 in labels with no predicted samples. Use `zero_division` parameter to control this behavior.\n",
            "  _warn_prf(average, modifier, msg_start, len(result))\n"
          ]
        },
        {
          "output_type": "display_data",
          "data": {
            "text/plain": [
              "<Figure size 1000x1000 with 1 Axes>"
            ],
            "image/png": "[encoded data removed]"
          },
          "metadata": {}
        },
        {
          "output_type": "stream",
          "name": "stdout",
          "text": [
            "None\n",
            "\n",
            "test_insample Classification Report LogisticRegression:\n",
            "\n",
            "               precision    recall  f1-score   support\n",
            "\n",
            "       anger       0.00      0.00      0.00         5\n",
            "     disgust       0.23      0.88      0.36       102\n",
            " expectation       0.36      0.05      0.08       175\n",
            "        fear       0.13      0.03      0.05       103\n",
            "       happy       0.00      0.00      0.00         3\n",
            "     sadness       0.16      0.06      0.08        53\n",
            "    surprise       0.00      0.00      0.00        18\n",
            "       trust       0.00      0.00      0.00         2\n",
            "\n",
            "    accuracy                           0.23       461\n",
            "   macro avg       0.11      0.13      0.07       461\n",
            "weighted avg       0.24      0.23      0.13       461\n",
            "\n",
            "\test_outsample Classification Report LogisticRegression:\n",
            "\n",
            "               precision    recall  f1-score   support\n",
            "\n",
            "       anger       0.00      0.00      0.00        19\n",
            "     disgust       0.66      0.91      0.77       145\n",
            " expectation       0.00      0.00      0.00        17\n",
            "        fear       0.00      0.00      0.00         4\n",
            "       happy       0.00      0.00      0.00         6\n",
            "     sadness       0.00      0.00      0.00        14\n",
            "    surprise       0.00      0.00      0.00         1\n",
            "       trust       0.00      0.00      0.00        10\n",
            "\n",
            "    accuracy                           0.61       216\n",
            "   macro avg       0.08      0.11      0.10       216\n",
            "weighted avg       0.44      0.61      0.51       216\n",
            "\n",
            "Best parametrs:  ({'C': 1, 'penalty': 'l2', 'solver': 'newton-cg'}, GridSearchCV(cv=4, estimator=LogisticRegression(),\n",
            "             param_grid={'C': [0.001, 0.1, 1], 'penalty': ['l1', 'l2'],\n",
            "                         'solver': ['newton-cg', 'saga']}))\n"
          ]
        },
        {
          "output_type": "stream",
          "name": "stderr",
          "text": [
            "/usr/local/lib/python3.10/dist-packages/sklearn/metrics/_classification.py:1344: UndefinedMetricWarning: Precision and F-score are ill-defined and being set to 0.0 in labels with no predicted samples. Use `zero_division` parameter to control this behavior.\n",
            "  _warn_prf(average, modifier, msg_start, len(result))\n",
            "/usr/local/lib/python3.10/dist-packages/sklearn/metrics/_classification.py:1344: UndefinedMetricWarning: Precision and F-score are ill-defined and being set to 0.0 in labels with no predicted samples. Use `zero_division` parameter to control this behavior.\n",
            "  _warn_prf(average, modifier, msg_start, len(result))\n",
            "/usr/local/lib/python3.10/dist-packages/sklearn/metrics/_classification.py:1344: UndefinedMetricWarning: Precision and F-score are ill-defined and being set to 0.0 in labels with no predicted samples. Use `zero_division` parameter to control this behavior.\n",
            "  _warn_prf(average, modifier, msg_start, len(result))\n",
            "/usr/local/lib/python3.10/dist-packages/sklearn/metrics/_classification.py:1344: UndefinedMetricWarning: Precision and F-score are ill-defined and being set to 0.0 in labels with no predicted samples. Use `zero_division` parameter to control this behavior.\n",
            "  _warn_prf(average, modifier, msg_start, len(result))\n",
            "/usr/local/lib/python3.10/dist-packages/sklearn/metrics/_classification.py:1344: UndefinedMetricWarning: Precision and F-score are ill-defined and being set to 0.0 in labels with no predicted samples. Use `zero_division` parameter to control this behavior.\n",
            "  _warn_prf(average, modifier, msg_start, len(result))\n",
            "/usr/local/lib/python3.10/dist-packages/sklearn/metrics/_classification.py:1344: UndefinedMetricWarning: Precision and F-score are ill-defined and being set to 0.0 in labels with no predicted samples. Use `zero_division` parameter to control this behavior.\n",
            "  _warn_prf(average, modifier, msg_start, len(result))\n"
          ]
        }
      ],
      "source": [
        "test_insample_tf, Y_test_insample_tf ,labels= co_data(df_insample, False)\n",
        "test_outsample_tf, Y_outsample_tf ,labels= co_data(df_outsample, False)\n",
        "\n",
        "best_param = LR(x_train, x_test, y_train, y_test, labels, test_insample_tf,Y_test_insample_tf, test_outsample_tf, Y_outsample_tf)\n",
        "print('Best parametrs: ', best_param)"
      ]
    },
    {
      "cell_type": "code",
      "execution_count": 79,
      "metadata": {
        "colab": {
          "base_uri": "https://localhost:8080/",
          "height": 1000
        },
        "id": "QvU1wy1irOja",
        "outputId": "095a1342-d702-489b-bd3c-6795e2b5f5df"
      },
      "outputs": [
        {
          "output_type": "stream",
          "name": "stderr",
          "text": [
            "/usr/local/lib/python3.10/dist-packages/sklearn/linear_model/_logistic.py:458: ConvergenceWarning: lbfgs failed to converge (status=1):\n",
            "STOP: TOTAL NO. of ITERATIONS REACHED LIMIT.\n",
            "\n",
            "Increase the number of iterations (max_iter) or scale the data as shown in:\n",
            "    https://scikit-learn.org/stable/modules/preprocessing.html\n",
            "Please also refer to the documentation for alternative solver options:\n",
            "    https://scikit-learn.org/stable/modules/linear_model.html#logistic-regression\n",
            "  n_iter_i = _check_optimize_result(\n",
            "/usr/local/lib/python3.10/dist-packages/sklearn/metrics/_classification.py:1344: UndefinedMetricWarning: Precision and F-score are ill-defined and being set to 0.0 in labels with no predicted samples. Use `zero_division` parameter to control this behavior.\n",
            "  _warn_prf(average, modifier, msg_start, len(result))\n",
            "/usr/local/lib/python3.10/dist-packages/sklearn/metrics/_classification.py:1344: UndefinedMetricWarning: Precision and F-score are ill-defined and being set to 0.0 in labels with no predicted samples. Use `zero_division` parameter to control this behavior.\n",
            "  _warn_prf(average, modifier, msg_start, len(result))\n",
            "/usr/local/lib/python3.10/dist-packages/sklearn/metrics/_classification.py:1344: UndefinedMetricWarning: Precision and F-score are ill-defined and being set to 0.0 in labels with no predicted samples. Use `zero_division` parameter to control this behavior.\n",
            "  _warn_prf(average, modifier, msg_start, len(result))\n"
          ]
        },
        {
          "output_type": "stream",
          "name": "stdout",
          "text": [
            "Random Forest and SVC\n",
            "Accuracy on train: 51.86%\n",
            "Accuracy on test: 41.59%\n",
            "\n",
            "Classification Report RFC SVC:\n",
            "\n",
            "               precision    recall  f1-score   support\n",
            "\n",
            "       anger       0.00      0.00      0.00        51\n",
            "     disgust       0.44      0.92      0.60       227\n",
            " expectation       0.32      0.34      0.33        80\n",
            "        fear       0.00      0.00      0.00        87\n",
            "       happy       0.00      0.00      0.00        24\n",
            "     sadness       0.00      0.00      0.00        73\n",
            "    surprise       0.00      0.00      0.00        13\n",
            "       trust       0.00      0.00      0.00        10\n",
            "\n",
            "    accuracy                           0.42       565\n",
            "   macro avg       0.09      0.16      0.12       565\n",
            "weighted avg       0.22      0.42      0.29       565\n",
            "\n"
          ]
        },
        {
          "output_type": "display_data",
          "data": {
            "text/plain": [
              "<Figure size 1000x1000 with 1 Axes>"
            ],
            "image/png": "[encoded data removed]"
          },
          "metadata": {}
        },
        {
          "output_type": "stream",
          "name": "stdout",
          "text": [
            "None\n",
            "\n",
            "test_insample Classification Report RFC SVC:\n",
            "\n",
            "               precision    recall  f1-score   support\n",
            "\n",
            "       anger       0.00      0.00      0.00         5\n",
            "     disgust       0.00      0.00      0.00       102\n",
            " expectation       0.00      0.00      0.00       175\n",
            "        fear       0.31      0.04      0.07       103\n",
            "       happy       0.00      0.00      0.00         3\n",
            "     sadness       0.43      0.06      0.10        53\n",
            "    surprise       0.04      0.89      0.08        18\n",
            "       trust       0.00      0.00      0.00         2\n",
            "\n",
            "    accuracy                           0.05       461\n",
            "   macro avg       0.10      0.12      0.03       461\n",
            "weighted avg       0.12      0.05      0.03       461\n",
            "\n",
            "\test_outsample Classification Report RFC SVC:\n",
            "\n",
            "               precision    recall  f1-score   support\n",
            "\n",
            "       anger       0.12      0.11      0.11        19\n",
            "     disgust       0.00      0.00      0.00       145\n",
            " expectation       0.00      0.00      0.00        17\n",
            "        fear       0.00      0.00      0.00         4\n",
            "       happy       0.00      0.00      0.00         6\n",
            "     sadness       0.00      0.00      0.00        14\n",
            "    surprise       0.01      1.00      0.01         1\n",
            "       trust       0.00      0.00      0.00        10\n",
            "\n",
            "    accuracy                           0.01       216\n",
            "   macro avg       0.02      0.14      0.02       216\n",
            "weighted avg       0.01      0.01      0.01       216\n",
            "\n"
          ]
        },
        {
          "output_type": "stream",
          "name": "stderr",
          "text": [
            "/usr/local/lib/python3.10/dist-packages/sklearn/metrics/_classification.py:1344: UndefinedMetricWarning: Precision and F-score are ill-defined and being set to 0.0 in labels with no predicted samples. Use `zero_division` parameter to control this behavior.\n",
            "  _warn_prf(average, modifier, msg_start, len(result))\n",
            "/usr/local/lib/python3.10/dist-packages/sklearn/metrics/_classification.py:1344: UndefinedMetricWarning: Precision and F-score are ill-defined and being set to 0.0 in labels with no predicted samples. Use `zero_division` parameter to control this behavior.\n",
            "  _warn_prf(average, modifier, msg_start, len(result))\n",
            "/usr/local/lib/python3.10/dist-packages/sklearn/metrics/_classification.py:1344: UndefinedMetricWarning: Precision and F-score are ill-defined and being set to 0.0 in labels with no predicted samples. Use `zero_division` parameter to control this behavior.\n",
            "  _warn_prf(average, modifier, msg_start, len(result))\n",
            "/usr/local/lib/python3.10/dist-packages/sklearn/metrics/_classification.py:1344: UndefinedMetricWarning: Precision and F-score are ill-defined and being set to 0.0 in labels with no predicted samples. Use `zero_division` parameter to control this behavior.\n",
            "  _warn_prf(average, modifier, msg_start, len(result))\n",
            "/usr/local/lib/python3.10/dist-packages/sklearn/metrics/_classification.py:1344: UndefinedMetricWarning: Precision and F-score are ill-defined and being set to 0.0 in labels with no predicted samples. Use `zero_division` parameter to control this behavior.\n",
            "  _warn_prf(average, modifier, msg_start, len(result))\n",
            "/usr/local/lib/python3.10/dist-packages/sklearn/metrics/_classification.py:1344: UndefinedMetricWarning: Precision and F-score are ill-defined and being set to 0.0 in labels with no predicted samples. Use `zero_division` parameter to control this behavior.\n",
            "  _warn_prf(average, modifier, msg_start, len(result))\n"
          ]
        }
      ],
      "source": [
        "RFCSVC(x_train, x_test, y_train, y_test, labels, test_insample_tf,Y_test_insample_tf, test_outsample_tf, Y_outsample_tf)"
      ]
    },
    {
      "cell_type": "code",
      "execution_count": null,
      "metadata": {
        "id": "EgwMmZiJrOja"
      },
      "outputs": [],
      "source": []
    },
    {
      "cell_type": "code",
      "execution_count": null,
      "metadata": {
        "id": "i7UlbJrorOja",
        "outputId": "759d4a99-ff86-4959-fd47-6f2d24bf4611"
      },
      "outputs": [
        {
          "name": "stdout",
          "output_type": "stream",
          "text": [
            "['anger' 'disgust' 'expectation' 'fear' 'happy' 'sadness' 'surprise'\n",
            " 'trust']\n",
            "8\n"
          ]
        },
        {
          "name": "stderr",
          "output_type": "stream",
          "text": [
            "Some weights of the model checkpoint at onlplab/alephbert-base were not used when initializing BertModel: ['cls.predictions.bias', 'cls.predictions.transform.LayerNorm.bias', 'cls.predictions.decoder.bias', 'cls.predictions.transform.dense.weight', 'cls.predictions.transform.LayerNorm.weight', 'cls.predictions.decoder.weight', 'cls.predictions.transform.dense.bias']\n",
            "- This IS expected if you are initializing BertModel from the checkpoint of a model trained on another task or with another architecture (e.g. initializing a BertForSequenceClassification model from a BertForPreTraining model).\n",
            "- This IS NOT expected if you are initializing BertModel from the checkpoint of a model that you expect to be exactly identical (initializing a BertForSequenceClassification model from a BertForSequenceClassification model).\n",
            "C:\\ProgramData\\Anaconda3\\lib\\site-packages\\transformers\\optimization.py:391: FutureWarning: This implementation of AdamW is deprecated and will be removed in a future version. Use the PyTorch implementation torch.optim.AdamW instead, or set `no_deprecation_warning=True` to disable this warning\n",
            "  warnings.warn(\n",
            "C:\\ProgramData\\Anaconda3\\lib\\site-packages\\transformers\\tokenization_utils_base.py:2354: FutureWarning: The `pad_to_max_length` argument is deprecated and will be removed in a future version, use `padding=True` or `padding='longest'` to pad to the longest sequence in the batch, or use `padding='max_length'` to pad to a max length. In this case, you can give a specific length with `max_length` (e.g. `max_length=45`) or leave max_length to None to pad to the maximal input size of the model (e.g. 512 for Bert).\n",
            "  warnings.warn(\n"
          ]
        },
        {
          "name": "stdout",
          "output_type": "stream",
          "text": [
            "Epoch 1/10\n",
            "----------\n",
            "Train loss 1.7688189207668035 accuracy 0.39469026548672564\n",
            "Val   loss 1.7335239781273737 accuracy 0.40176991150442476\n",
            "\n",
            "Epoch 2/10\n",
            "----------\n",
            "Train loss 1.7446301184909445 accuracy 0.39601769911504425\n",
            "Val   loss 1.7233209676212735 accuracy 0.40176991150442476\n",
            "\n",
            "Epoch 3/10\n",
            "----------\n",
            "Train loss 1.735238258267792 accuracy 0.4013274336283186\n",
            "Val   loss 1.7244340247578092 accuracy 0.40176991150442476\n",
            "\n",
            "Epoch 4/10\n",
            "----------\n",
            "Train loss 1.7361344997311983 accuracy 0.3986725663716814\n",
            "Val   loss 1.7212789456049602 accuracy 0.40176991150442476\n",
            "\n",
            "Epoch 5/10\n",
            "----------\n",
            "Train loss 1.7326488402527822 accuracy 0.4013274336283186\n",
            "Val   loss 1.7174605296717749 accuracy 0.40176991150442476\n",
            "\n",
            "Epoch 6/10\n",
            "----------\n",
            "Train loss 1.7227155314364904 accuracy 0.40176991150442476\n",
            "Val   loss 1.7112991081343756 accuracy 0.40176991150442476\n",
            "\n",
            "Epoch 7/10\n",
            "----------\n",
            "Train loss 1.7223336268478715 accuracy 0.4026548672566372\n",
            "Val   loss 1.7097016705407038 accuracy 0.40176991150442476\n",
            "\n",
            "Epoch 8/10\n",
            "----------\n",
            "Train loss 1.7318125862470815 accuracy 0.40221238938053094\n",
            "Val   loss 1.7074638174639807 accuracy 0.40176991150442476\n",
            "\n",
            "Epoch 9/10\n",
            "----------\n",
            "Train loss 1.72097411290021 accuracy 0.40309734513274337\n",
            "Val   loss 1.7061432268884447 accuracy 0.40176991150442476\n",
            "\n",
            "Epoch 10/10\n",
            "----------\n",
            "Train loss 1.7202660298683274 accuracy 0.40221238938053094\n",
            "Val   loss 1.7058843043115404 accuracy 0.40176991150442476\n",
            "\n",
            "Wall time: 18min 50s\n"
          ]
        }
      ],
      "source": [
        "%%time\n",
        "\n",
        "BATCH_SIZE = 16\n",
        "MAX_LEN = 200\n",
        "EPOCHS = 10\n",
        "train_data_loader_clear, val_data_loader_clear = loader(x_train, y_train,x_test,y_test, MAX_LEN, BATCH_SIZE)\n",
        "class_names = labels\n",
        "print(class_names)\n",
        "print(len(class_names))\n",
        "device = torch.device(\"cuda:0\" if torch.cuda.is_available() else \"cpu\")\n",
        "model_clear = getmodel(class_names, device, SentimentClassifier)\n",
        "optimizer, scheduler, loss_fn = opsclo(model_clear, train_data_loader_clear,EPOCHS , device)\n",
        "nametomodelclear = 'best_model_state_emotion_clear.bin' \n",
        "history_clear = train_model(EPOCHS,model_clear,train_data_loader_clear,val_data_loader_clear, loss_fn,optimizer,device, scheduler,x_train, x_test,nametomodelclear)"
      ]
    },
    {
      "cell_type": "code",
      "execution_count": null,
      "metadata": {
        "id": "vVurtjmGrOja",
        "outputId": "61f0f257-a63d-44dd-ea64-d2b549019c14"
      },
      "outputs": [
        {
          "name": "stderr",
          "output_type": "stream",
          "text": [
            "C:\\Users\\Naors\\AppData\\Local\\Temp/ipykernel_9372/2306657669.py:2: DeprecationWarning: NotImplemented should not be used in a boolean context\n",
            "  if history['train_acc'][0].device.__eq__('cuda:0'):\n"
          ]
        },
        {
          "data": {
            "image/png": "[encoded data removed]",
            "text/plain": [
              "<Figure size 432x288 with 1 Axes>"
            ]
          },
          "metadata": {
            "needs_background": "light"
          },
          "output_type": "display_data"
        }
      ],
      "source": [
        "plot(history_clear)"
      ]
    },
    {
      "cell_type": "code",
      "execution_count": null,
      "metadata": {
        "id": "buK69kyYrOjb",
        "outputId": "1b920311-bf64-4001-cdd0-27c2e02da649"
      },
      "outputs": [
        {
          "data": {
            "text/plain": [
              "<All keys matched successfully>"
            ]
          },
          "execution_count": 71,
          "metadata": {},
          "output_type": "execute_result"
        }
      ],
      "source": [
        "model_clear.load_state_dict(torch.load(nametomodelclear))"
      ]
    },
    {
      "cell_type": "code",
      "execution_count": null,
      "metadata": {
        "id": "7OtIyb3FrOjb"
      },
      "outputs": [],
      "source": [
        "df_insample_clean = df_insample.copy()\n",
        "df_insample_clean['talkbacks'] = df_insample_clean['talkbacks'].apply(lambda x :  clean_content(x))\n",
        "\n",
        "x_test_insample_clean, y_test_insample_clean, labels = co_data(df_insample_clean, False)\n",
        "test_data_loader_insample_clear = create_data_loader(x_test_insample_clean,y_test_insample_clean, alephbert_tokenizer, MAX_LEN, BATCH_SIZE)"
      ]
    },
    {
      "cell_type": "code",
      "execution_count": null,
      "metadata": {
        "id": "hRBALY9QrOjb",
        "outputId": "832a0825-a0b3-40ed-9ae2-f05eab968268"
      },
      "outputs": [
        {
          "name": "stderr",
          "output_type": "stream",
          "text": [
            "C:\\ProgramData\\Anaconda3\\lib\\site-packages\\transformers\\tokenization_utils_base.py:2354: FutureWarning: The `pad_to_max_length` argument is deprecated and will be removed in a future version, use `padding=True` or `padding='longest'` to pad to the longest sequence in the batch, or use `padding='max_length'` to pad to a max length. In this case, you can give a specific length with `max_length` (e.g. `max_length=45`) or leave max_length to None to pad to the maximal input size of the model (e.g. 512 for Bert).\n",
            "  warnings.warn(\n"
          ]
        },
        {
          "name": "stdout",
          "output_type": "stream",
          "text": [
            "test insample loss 1.8956189402218522 accuracy 0.22125813449023862\n",
            "\n",
            "Classification Report test insample clean:\n",
            "\n",
            "               precision    recall  f1-score   support\n",
            "\n",
            "       anger       0.00      0.00      0.00         5\n",
            "     disgust       0.22      1.00      0.36       102\n",
            " expectation       0.00      0.00      0.00       175\n",
            "        fear       0.00      0.00      0.00       103\n",
            "       happy       0.00      0.00      0.00         3\n",
            "     sadness       0.00      0.00      0.00        53\n",
            "    surprise       0.00      0.00      0.00        18\n",
            "       trust       0.00      0.00      0.00         2\n",
            "\n",
            "    accuracy                           0.22       461\n",
            "   macro avg       0.03      0.12      0.05       461\n",
            "weighted avg       0.05      0.22      0.08       461\n",
            "\n"
          ]
        },
        {
          "name": "stderr",
          "output_type": "stream",
          "text": [
            "C:\\ProgramData\\Anaconda3\\lib\\site-packages\\sklearn\\metrics\\_classification.py:1344: UndefinedMetricWarning: Precision and F-score are ill-defined and being set to 0.0 in labels with no predicted samples. Use `zero_division` parameter to control this behavior.\n",
            "  _warn_prf(average, modifier, msg_start, len(result))\n",
            "C:\\ProgramData\\Anaconda3\\lib\\site-packages\\sklearn\\metrics\\_classification.py:1344: UndefinedMetricWarning: Precision and F-score are ill-defined and being set to 0.0 in labels with no predicted samples. Use `zero_division` parameter to control this behavior.\n",
            "  _warn_prf(average, modifier, msg_start, len(result))\n",
            "C:\\ProgramData\\Anaconda3\\lib\\site-packages\\sklearn\\metrics\\_classification.py:1344: UndefinedMetricWarning: Precision and F-score are ill-defined and being set to 0.0 in labels with no predicted samples. Use `zero_division` parameter to control this behavior.\n",
            "  _warn_prf(average, modifier, msg_start, len(result))\n"
          ]
        }
      ],
      "source": [
        "test_insample_clear_acc, test_insample_clear_loss = eval_model(model_clear, test_data_loader_insample_clear, loss_fn, device, len(x_test_insample_clean))\n",
        "print(f'test insample loss {test_insample_clear_loss} accuracy {test_insample_clear_acc}')\n",
        "y_review_texts, y_pred, y_pred_probs, y_test = get_predictions(model_clear,test_data_loader_insample_clear)\n",
        "print('\\nClassification Report test insample clean:\\n\\n',classification_report(y_test, y_pred, target_names=class_names))"
      ]
    },
    {
      "cell_type": "code",
      "execution_count": null,
      "metadata": {
        "id": "GcIcGD89rOjb"
      },
      "outputs": [],
      "source": [
        "df_outsample_clean = df_outsample.copy()\n",
        "df_outsample_clean['talkbacks'] = df_outsample_clean['talkbacks'].apply(lambda x :  clean_content(x))\n",
        "\n",
        "x_test_outsample_clean, y_test_outsample_clean, labels = co_data(df_outsample_clean, False)\n",
        "test_data_loader_outsample_clear = create_data_loader(x_test_outsample_clean,y_test_outsample_clean, alephbert_tokenizer, MAX_LEN, BATCH_SIZE)"
      ]
    },
    {
      "cell_type": "code",
      "execution_count": null,
      "metadata": {
        "id": "fgLFwMPmrOjc",
        "outputId": "66615215-dc15-44ec-8b48-caeca740395e"
      },
      "outputs": [
        {
          "name": "stderr",
          "output_type": "stream",
          "text": [
            "C:\\ProgramData\\Anaconda3\\lib\\site-packages\\transformers\\tokenization_utils_base.py:2354: FutureWarning: The `pad_to_max_length` argument is deprecated and will be removed in a future version, use `padding=True` or `padding='longest'` to pad to the longest sequence in the batch, or use `padding='max_length'` to pad to a max length. In this case, you can give a specific length with `max_length` (e.g. `max_length=45`) or leave max_length to None to pad to the maximal input size of the model (e.g. 512 for Bert).\n",
            "  warnings.warn(\n"
          ]
        },
        {
          "name": "stdout",
          "output_type": "stream",
          "text": [
            "test insample loss 1.4648915018354143 accuracy 0.6712962962962963\n",
            "\n",
            "Classification Report test outsample clean:\n",
            "\n",
            "               precision    recall  f1-score   support\n",
            "\n",
            "       anger       0.00      0.00      0.00        19\n",
            "     disgust       0.67      1.00      0.80       145\n",
            " expectation       0.00      0.00      0.00        17\n",
            "        fear       0.00      0.00      0.00         4\n",
            "       happy       0.00      0.00      0.00         6\n",
            "     sadness       0.00      0.00      0.00        14\n",
            "    surprise       0.00      0.00      0.00         1\n",
            "       trust       0.00      0.00      0.00        10\n",
            "\n",
            "    accuracy                           0.67       216\n",
            "   macro avg       0.08      0.12      0.10       216\n",
            "weighted avg       0.45      0.67      0.54       216\n",
            "\n"
          ]
        },
        {
          "name": "stderr",
          "output_type": "stream",
          "text": [
            "C:\\ProgramData\\Anaconda3\\lib\\site-packages\\sklearn\\metrics\\_classification.py:1344: UndefinedMetricWarning: Precision and F-score are ill-defined and being set to 0.0 in labels with no predicted samples. Use `zero_division` parameter to control this behavior.\n",
            "  _warn_prf(average, modifier, msg_start, len(result))\n",
            "C:\\ProgramData\\Anaconda3\\lib\\site-packages\\sklearn\\metrics\\_classification.py:1344: UndefinedMetricWarning: Precision and F-score are ill-defined and being set to 0.0 in labels with no predicted samples. Use `zero_division` parameter to control this behavior.\n",
            "  _warn_prf(average, modifier, msg_start, len(result))\n",
            "C:\\ProgramData\\Anaconda3\\lib\\site-packages\\sklearn\\metrics\\_classification.py:1344: UndefinedMetricWarning: Precision and F-score are ill-defined and being set to 0.0 in labels with no predicted samples. Use `zero_division` parameter to control this behavior.\n",
            "  _warn_prf(average, modifier, msg_start, len(result))\n"
          ]
        }
      ],
      "source": [
        "test_outsample_clear_acc, test_outsample_clear_loss = eval_model(model_clear, test_data_loader_outsample_clear, loss_fn, device, len(x_test_outsample_clean))\n",
        "print(f'test insample loss {test_outsample_clear_loss} accuracy {test_outsample_clear_acc}')\n",
        "y_review_texts, y_pred, y_pred_probs, y_test = get_predictions(model_clear,test_data_loader_outsample_clear)\n",
        "print('\\nClassification Report test outsample clean:\\n\\n',classification_report(y_test, y_pred, target_names=class_names))"
      ]
    },
    {
      "cell_type": "code",
      "execution_count": null,
      "metadata": {
        "id": "r4VqtG8MrOjc"
      },
      "outputs": [],
      "source": []
    },
    {
      "cell_type": "code",
      "execution_count": null,
      "metadata": {
        "id": "1Z9D2LpQrOjc",
        "outputId": "4c33db29-dcc4-427c-d524-59173ebe333c"
      },
      "outputs": [
        {
          "name": "stdout",
          "output_type": "stream",
          "text": [
            "['anger' 'disgust' 'expectation' 'fear' 'happy' 'sadness' 'surprise'\n",
            " 'trust']\n",
            "8\n"
          ]
        },
        {
          "name": "stderr",
          "output_type": "stream",
          "text": [
            "Some weights of the model checkpoint at onlplab/alephbert-base were not used when initializing BertModel: ['cls.predictions.transform.LayerNorm.bias', 'cls.predictions.bias', 'cls.predictions.transform.dense.bias', 'cls.predictions.decoder.bias', 'cls.predictions.transform.LayerNorm.weight', 'cls.predictions.decoder.weight', 'cls.predictions.transform.dense.weight']\n",
            "- This IS expected if you are initializing BertModel from the checkpoint of a model trained on another task or with another architecture (e.g. initializing a BertForSequenceClassification model from a BertForPreTraining model).\n",
            "- This IS NOT expected if you are initializing BertModel from the checkpoint of a model that you expect to be exactly identical (initializing a BertForSequenceClassification model from a BertForSequenceClassification model).\n",
            "C:\\ProgramData\\Anaconda3\\lib\\site-packages\\transformers\\optimization.py:391: FutureWarning: This implementation of AdamW is deprecated and will be removed in a future version. Use the PyTorch implementation torch.optim.AdamW instead, or set `no_deprecation_warning=True` to disable this warning\n",
            "  warnings.warn(\n",
            "C:\\ProgramData\\Anaconda3\\lib\\site-packages\\transformers\\tokenization_utils_base.py:2354: FutureWarning: The `pad_to_max_length` argument is deprecated and will be removed in a future version, use `padding=True` or `padding='longest'` to pad to the longest sequence in the batch, or use `padding='max_length'` to pad to a max length. In this case, you can give a specific length with `max_length` (e.g. `max_length=45`) or leave max_length to None to pad to the maximal input size of the model (e.g. 512 for Bert).\n",
            "  warnings.warn(\n"
          ]
        },
        {
          "name": "stdout",
          "output_type": "stream",
          "text": [
            "Epoch 1/10\n",
            "----------\n",
            "Train loss 1.7666539482667412 accuracy 0.3911504424778761\n",
            "Val   loss 1.7153229647212558 accuracy 0.40176991150442476\n",
            "\n",
            "Epoch 2/10\n",
            "----------\n",
            "Train loss 1.73734256835051 accuracy 0.4026548672566372\n",
            "Val   loss 1.70864623453882 accuracy 0.40176991150442476\n",
            "\n",
            "Epoch 3/10\n",
            "----------\n",
            "Train loss 1.7328146360289882 accuracy 0.40176991150442476\n",
            "Val   loss 1.7078669601016574 accuracy 0.40176991150442476\n",
            "\n",
            "Epoch 4/10\n",
            "----------\n",
            "Train loss 1.735888104203721 accuracy 0.4008849557522124\n",
            "Val   loss 1.7086725036303203 accuracy 0.40176991150442476\n",
            "\n",
            "Epoch 5/10\n",
            "----------\n",
            "Train loss 1.7353045780893783 accuracy 0.40221238938053094\n",
            "Val   loss 1.7078173723485734 accuracy 0.40176991150442476\n",
            "\n",
            "Epoch 6/10\n",
            "----------\n",
            "Train loss 1.725039114414806 accuracy 0.40176991150442476\n",
            "Val   loss 1.7070448729727004 accuracy 0.40176991150442476\n",
            "\n",
            "Epoch 7/10\n",
            "----------\n",
            "Train loss 1.734761848416127 accuracy 0.40221238938053094\n",
            "Val   loss 1.7068169547451868 accuracy 0.40176991150442476\n",
            "\n",
            "Epoch 8/10\n",
            "----------\n",
            "Train loss 1.730392684399242 accuracy 0.40221238938053094\n",
            "Val   loss 1.706694053279029 accuracy 0.40176991150442476\n",
            "\n",
            "Epoch 9/10\n",
            "----------\n",
            "Train loss 1.7337969776610254 accuracy 0.40221238938053094\n",
            "Val   loss 1.7064029342598386 accuracy 0.40176991150442476\n",
            "\n",
            "Epoch 10/10\n",
            "----------\n",
            "Train loss 1.7242041288966863 accuracy 0.40221238938053094\n",
            "Val   loss 1.7062461376190186 accuracy 0.40176991150442476\n",
            "\n"
          ]
        },
        {
          "ename": "NameError",
          "evalue": "name 'history' is not defined",
          "output_type": "error",
          "traceback": [
            "\u001b[1;31m---------------------------------------------------------------------------\u001b[0m",
            "\u001b[1;31mNameError\u001b[0m                                 Traceback (most recent call last)",
            "\u001b[1;32m<timed exec>\u001b[0m in \u001b[0;36m<module>\u001b[1;34m\u001b[0m\n",
            "\u001b[1;31mNameError\u001b[0m: name 'history' is not defined"
          ]
        }
      ],
      "source": [
        "%%time\n",
        "\n",
        "BATCH_SIZE = 16\n",
        "MAX_LEN = 200\n",
        "EPOCHS = 10\n",
        "train_data_loader_clear, val_data_loader_clear = loader(x_train, y_train,x_test,y_test, MAX_LEN, BATCH_SIZE)\n",
        "class_names = labels\n",
        "print(class_names)\n",
        "print(len(class_names))\n",
        "device = torch.device(\"cuda:0\" if torch.cuda.is_available() else \"cpu\")\n",
        "model_E_clear = getmodel(class_names, device, EmotionClassifier)\n",
        "optimizer, scheduler, loss_fn = opsclo(model_E_clear, train_data_loader_clear,EPOCHS , device)\n",
        "nametomodelclear = 'best_model_state_emotion_clear.bin' \n",
        "history_clear = train_model(EPOCHS,model_E_clear,train_data_loader_clear,val_data_loader_clear, loss_fn,optimizer,device, scheduler,x_train, x_test,nametomodelclear)\n",
        "plot(history_clear)"
      ]
    },
    {
      "cell_type": "code",
      "execution_count": null,
      "metadata": {
        "id": "Y38n2uQxrOjc",
        "outputId": "461f2a82-8614-4415-bc57-371330aa1658"
      },
      "outputs": [
        {
          "name": "stdout",
          "output_type": "stream",
          "text": [
            "test insample loss 1.8405635356903076 accuracy 0.22125813449023862\n"
          ]
        },
        {
          "name": "stderr",
          "output_type": "stream",
          "text": [
            "C:\\ProgramData\\Anaconda3\\lib\\site-packages\\sklearn\\metrics\\_classification.py:1344: UndefinedMetricWarning: Precision and F-score are ill-defined and being set to 0.0 in labels with no predicted samples. Use `zero_division` parameter to control this behavior.\n",
            "  _warn_prf(average, modifier, msg_start, len(result))\n",
            "C:\\ProgramData\\Anaconda3\\lib\\site-packages\\sklearn\\metrics\\_classification.py:1344: UndefinedMetricWarning: Precision and F-score are ill-defined and being set to 0.0 in labels with no predicted samples. Use `zero_division` parameter to control this behavior.\n",
            "  _warn_prf(average, modifier, msg_start, len(result))\n",
            "C:\\ProgramData\\Anaconda3\\lib\\site-packages\\sklearn\\metrics\\_classification.py:1344: UndefinedMetricWarning: Precision and F-score are ill-defined and being set to 0.0 in labels with no predicted samples. Use `zero_division` parameter to control this behavior.\n",
            "  _warn_prf(average, modifier, msg_start, len(result))\n",
            "C:\\ProgramData\\Anaconda3\\lib\\site-packages\\transformers\\tokenization_utils_base.py:2354: FutureWarning: The `pad_to_max_length` argument is deprecated and will be removed in a future version, use `padding=True` or `padding='longest'` to pad to the longest sequence in the batch, or use `padding='max_length'` to pad to a max length. In this case, you can give a specific length with `max_length` (e.g. `max_length=45`) or leave max_length to None to pad to the maximal input size of the model (e.g. 512 for Bert).\n",
            "  warnings.warn(\n"
          ]
        },
        {
          "name": "stdout",
          "output_type": "stream",
          "text": [
            "\n",
            "Classification Report test insample clean:\n",
            "\n",
            "               precision    recall  f1-score   support\n",
            "\n",
            "       anger       0.00      0.00      0.00         5\n",
            "     disgust       0.22      1.00      0.36       102\n",
            " expectation       0.00      0.00      0.00       175\n",
            "        fear       0.00      0.00      0.00       103\n",
            "       happy       0.00      0.00      0.00         3\n",
            "     sadness       0.00      0.00      0.00        53\n",
            "    surprise       0.00      0.00      0.00        18\n",
            "       trust       0.00      0.00      0.00         2\n",
            "\n",
            "    accuracy                           0.22       461\n",
            "   macro avg       0.03      0.12      0.05       461\n",
            "weighted avg       0.05      0.22      0.08       461\n",
            "\n",
            "test insample loss 1.4237841963768005 accuracy 0.6712962962962963\n",
            "\n",
            "Classification Report test outsample clean:\n",
            "\n",
            "               precision    recall  f1-score   support\n",
            "\n",
            "       anger       0.00      0.00      0.00        19\n",
            "     disgust       0.67      1.00      0.80       145\n",
            " expectation       0.00      0.00      0.00        17\n",
            "        fear       0.00      0.00      0.00         4\n",
            "       happy       0.00      0.00      0.00         6\n",
            "     sadness       0.00      0.00      0.00        14\n",
            "    surprise       0.00      0.00      0.00         1\n",
            "       trust       0.00      0.00      0.00        10\n",
            "\n",
            "    accuracy                           0.67       216\n",
            "   macro avg       0.08      0.12      0.10       216\n",
            "weighted avg       0.45      0.67      0.54       216\n",
            "\n"
          ]
        },
        {
          "name": "stderr",
          "output_type": "stream",
          "text": [
            "C:\\ProgramData\\Anaconda3\\lib\\site-packages\\sklearn\\metrics\\_classification.py:1344: UndefinedMetricWarning: Precision and F-score are ill-defined and being set to 0.0 in labels with no predicted samples. Use `zero_division` parameter to control this behavior.\n",
            "  _warn_prf(average, modifier, msg_start, len(result))\n",
            "C:\\ProgramData\\Anaconda3\\lib\\site-packages\\sklearn\\metrics\\_classification.py:1344: UndefinedMetricWarning: Precision and F-score are ill-defined and being set to 0.0 in labels with no predicted samples. Use `zero_division` parameter to control this behavior.\n",
            "  _warn_prf(average, modifier, msg_start, len(result))\n",
            "C:\\ProgramData\\Anaconda3\\lib\\site-packages\\sklearn\\metrics\\_classification.py:1344: UndefinedMetricWarning: Precision and F-score are ill-defined and being set to 0.0 in labels with no predicted samples. Use `zero_division` parameter to control this behavior.\n",
            "  _warn_prf(average, modifier, msg_start, len(result))\n"
          ]
        }
      ],
      "source": [
        "model_E_clear.load_state_dict(torch.load(nametomodelclear))\n",
        "test_insample_clear_acc, test_insample_clear_loss = eval_model(model_E_clear, test_data_loader_insample_clear, loss_fn, device, len(x_test_insample_clean))\n",
        "print(f'test insample loss {test_insample_clear_loss} accuracy {test_insample_clear_acc}')\n",
        "y_review_texts, y_pred, y_pred_probs, y_test = get_predictions(model_E_clear,test_data_loader_insample_clear)\n",
        "print('\\nClassification Report test insample clean:\\n\\n',classification_report(y_test, y_pred, target_names=class_names))\n",
        "test_outsample_clear_acc, test_outsample_clear_loss = eval_model(model_E_clear, test_data_loader_outsample_clear, loss_fn, device, len(x_test_outsample_clean))\n",
        "print(f'test insample loss {test_outsample_clear_loss} accuracy {test_outsample_clear_acc}')\n",
        "y_review_texts, y_pred, y_pred_probs, y_test = get_predictions(model_E_clear,test_data_loader_outsample_clear)\n",
        "print('\\nClassification Report test outsample clean:\\n\\n',classification_report(y_test, y_pred, target_names=class_names))"
      ]
    },
    {
      "cell_type": "code",
      "execution_count": null,
      "metadata": {
        "id": "dr3Ceke8rOjc"
      },
      "outputs": [],
      "source": []
    }
  ],
  "metadata": {
    "colab": {
      "provenance": []
    },
    "kernelspec": {
      "display_name": "Python 3 (ipykernel)",
      "language": "python",
      "name": "python3"
    },
    "language_info": {
      "codemirror_mode": {
        "name": "ipython",
        "version": 3
      },
      "file_extension": ".py",
      "mimetype": "text/x-python",
      "name": "python",
      "nbconvert_exporter": "python",
      "pygments_lexer": "ipython3",
      "version": "3.9.16"
    }
  },
  "nbformat": 4,
  "nbformat_minor": 0
}